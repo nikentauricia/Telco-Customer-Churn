{
 "cells": [
  {
   "cell_type": "markdown",
   "metadata": {},
   "source": [
    "## **Data Telco Customer Churn**"
   ]
  },
  {
   "attachments": {},
   "cell_type": "markdown",
   "metadata": {},
   "source": [
    ">## **Latar Belakang**\n",
    "\n",
    "Sebuah perusahaan Telekomunikasi, ingin memahami perilaku pelanggan dengan menganalisis karakteristik pelanggan yang akan meninggalkan layanan telekomunikasi dan yang tetap menggunakan layanan. Tujuan analisis dilakukan agar perusahaan dapat melakukan tindakan agar pelanggan nyaman menggunakan platform.\n",
    "\n",
    "Churn :\n",
    "\n",
    "0 : Tidak meninggalkan layanan telekomunikasi\n",
    "\n",
    "1 : Berhenti berlangganan layanan telekominikasi"
   ]
  },
  {
   "attachments": {},
   "cell_type": "markdown",
   "metadata": {},
   "source": [
    "**Problem Statement :**\n",
    "\n",
    "Proses promosi dapat memakan biaya apabila perusahaan memberikan promosi pada keseluruhan pelanggan. perusahaan harus meningkatkan efisiensi promosi dan mengetahui pelanggan mana yang telah berhenti berlangganan, sehingga dapat diberikan promo agar pelanggan yang berhenti berlangganan dapat kembali berlangganan.\n",
    "\n",
    "Apabila promosi diberikan secara cuma-cuma ke seluruh pelanggan, maka keuntungan perusahaan akan menurun dan menjadi sia-sia apabila pelanggan yang setia berlangganan dan tidak ada kendala sama sekali terhadap layanan yang sudah diberikan. \n",
    "\n",
    "**Goals :**\n",
    "\n",
    "Berdasarkan permasalahan yang ada, perusahaan berusaha untuk memprediksi kemungkinan pelanggan yang akan berhenti berlangganan atau tidak, sehingga dapat memfokuskan promosi pada pelanggan yang berhenti berlangganan untuk dapat kembali berlangganan. \n",
    "\n",
    "Selain itu juga, perusahaan ingin mengetahui faktor atau variabel apa yang membuat pelanggan berhenti berlangganan atau tetap berlangganan, sehingga perusahaan dapat membuat rencana kedepannya untuk mempertahankan pelanggan agar tetap berlangganan layanan telekomunikasi. \n",
    "\n",
    "\n",
    "**Analytic Approach :**\n",
    "\n",
    "Pendekatan analisis yang akan dilakukan adalah dengan menganalisis data untuk menemukan pola terbaik yang dapat membedakan pelanggan mana yang tetap berlangganan dan yang tidak berlangganan. Kemudian akan dibangun model machine learning yang akan membantu perusahaan untuk dapat memprediksi probabilitas seorang pelanggan akan berlangganan atau berhenti berlangganan. "
   ]
  },
  {
   "cell_type": "markdown",
   "metadata": {},
   "source": [
    "### Keterangan Masing-Masing Feature:\n",
    "\n",
    "-\t**Dependents**: Whether the customer has dependents or not.\n",
    "-\t**Tenure**: Number of months the customer has stayed with the company.\n",
    "-\t**OnlineSecurity**: Whether the customer has online security or not.\n",
    "-\t**OnlineBackup**: Whether the customer has online backup or not.\n",
    "-\t**InternetService**: Whether the client is subscribed to Internet service.\n",
    "-\t**DeviceProtection**: Whether the client has device protection or not.\n",
    "-\t**TechSupport**: Whether the client has tech support or not \n",
    "-\t**Contract**: Type of contract according to duration.\n",
    "-\t**PaperlessBilling**: Bills issued in paperless form.\n",
    "-\t**MonthlyCharges**: Amount of charge for service on monthly bases.\n",
    "-\t**Churn**: Whether the customer churns or not.\n",
    "\n",
    "\n"
   ]
  },
  {
   "cell_type": "code",
   "execution_count": 111,
   "metadata": {},
   "outputs": [],
   "source": [
    "# Library\n",
    "\n",
    "import pandas as pd\n",
    "import numpy as np\n",
    "\n",
    "# Visualization\n",
    "import matplotlib.pyplot as plt\n",
    "import seaborn as sns\n",
    "import missingno\n",
    "from IPython.display import display\n",
    "\n",
    "# Feature Engineering\n",
    "from sklearn.pipeline import Pipeline\n",
    "from sklearn.impute import SimpleImputer\n",
    "from sklearn.preprocessing import OneHotEncoder, LabelEncoder, OrdinalEncoder, RobustScaler, MinMaxScaler\n",
    "from sklearn.compose import ColumnTransformer\n",
    "import category_encoders as ce\n",
    "\n",
    "# Model Selection\n",
    "from sklearn.linear_model import LogisticRegression\n",
    "from sklearn.tree import DecisionTreeClassifier\n",
    "from sklearn.model_selection import GridSearchCV, RandomizedSearchCV,StratifiedKFold,train_test_split, cross_val_score\n",
    "from sklearn.metrics import classification_report, confusion_matrix\n",
    "from sklearn.neighbors import KNeighborsClassifier\n",
    "from sklearn.ensemble import RandomForestClassifier, AdaBoostClassifier\n",
    "from xgboost import XGBClassifier\n",
    "import lightgbm as lgb\n",
    "from sklearn.metrics import f1_score, accuracy_score, recall_score, precision_score\n",
    "from sklearn.metrics import roc_curve, roc_auc_score \n",
    "# Imbalance Dataset\n",
    "from imblearn.pipeline import Pipeline\n",
    "from imblearn.over_sampling import RandomOverSampler, SMOTE\n",
    "\n",
    "# Ignore Warning\n",
    "import sys\n",
    "import warnings\n",
    "if not sys.warnoptions:\n",
    "    warnings.simplefilter(\"ignore\")\n",
    "\n",
    "# Set max columns\n",
    "pd.set_option('display.max_columns', None)"
   ]
  },
  {
   "cell_type": "code",
   "execution_count": 56,
   "metadata": {},
   "outputs": [],
   "source": [
    "df = pd.read_csv('data_telco_customer_churn.csv')"
   ]
  },
  {
   "cell_type": "code",
   "execution_count": 57,
   "metadata": {},
   "outputs": [
    {
     "data": {
      "text/html": [
       "<div>\n",
       "<style scoped>\n",
       "    .dataframe tbody tr th:only-of-type {\n",
       "        vertical-align: middle;\n",
       "    }\n",
       "\n",
       "    .dataframe tbody tr th {\n",
       "        vertical-align: top;\n",
       "    }\n",
       "\n",
       "    .dataframe thead th {\n",
       "        text-align: right;\n",
       "    }\n",
       "</style>\n",
       "<table border=\"1\" class=\"dataframe\">\n",
       "  <thead>\n",
       "    <tr style=\"text-align: right;\">\n",
       "      <th></th>\n",
       "      <th>Dependents</th>\n",
       "      <th>tenure</th>\n",
       "      <th>OnlineSecurity</th>\n",
       "      <th>OnlineBackup</th>\n",
       "      <th>InternetService</th>\n",
       "      <th>DeviceProtection</th>\n",
       "      <th>TechSupport</th>\n",
       "      <th>Contract</th>\n",
       "      <th>PaperlessBilling</th>\n",
       "      <th>MonthlyCharges</th>\n",
       "      <th>Churn</th>\n",
       "    </tr>\n",
       "  </thead>\n",
       "  <tbody>\n",
       "    <tr>\n",
       "      <th>0</th>\n",
       "      <td>Yes</td>\n",
       "      <td>9</td>\n",
       "      <td>No</td>\n",
       "      <td>No</td>\n",
       "      <td>DSL</td>\n",
       "      <td>Yes</td>\n",
       "      <td>Yes</td>\n",
       "      <td>Month-to-month</td>\n",
       "      <td>Yes</td>\n",
       "      <td>72.90</td>\n",
       "      <td>Yes</td>\n",
       "    </tr>\n",
       "    <tr>\n",
       "      <th>1</th>\n",
       "      <td>No</td>\n",
       "      <td>14</td>\n",
       "      <td>No</td>\n",
       "      <td>Yes</td>\n",
       "      <td>Fiber optic</td>\n",
       "      <td>Yes</td>\n",
       "      <td>No</td>\n",
       "      <td>Month-to-month</td>\n",
       "      <td>Yes</td>\n",
       "      <td>82.65</td>\n",
       "      <td>No</td>\n",
       "    </tr>\n",
       "    <tr>\n",
       "      <th>2</th>\n",
       "      <td>No</td>\n",
       "      <td>64</td>\n",
       "      <td>Yes</td>\n",
       "      <td>No</td>\n",
       "      <td>DSL</td>\n",
       "      <td>Yes</td>\n",
       "      <td>Yes</td>\n",
       "      <td>Two year</td>\n",
       "      <td>No</td>\n",
       "      <td>47.85</td>\n",
       "      <td>Yes</td>\n",
       "    </tr>\n",
       "    <tr>\n",
       "      <th>3</th>\n",
       "      <td>No</td>\n",
       "      <td>72</td>\n",
       "      <td>Yes</td>\n",
       "      <td>Yes</td>\n",
       "      <td>DSL</td>\n",
       "      <td>Yes</td>\n",
       "      <td>Yes</td>\n",
       "      <td>Two year</td>\n",
       "      <td>No</td>\n",
       "      <td>69.65</td>\n",
       "      <td>No</td>\n",
       "    </tr>\n",
       "    <tr>\n",
       "      <th>4</th>\n",
       "      <td>No</td>\n",
       "      <td>3</td>\n",
       "      <td>No internet service</td>\n",
       "      <td>No internet service</td>\n",
       "      <td>No</td>\n",
       "      <td>No internet service</td>\n",
       "      <td>No internet service</td>\n",
       "      <td>Month-to-month</td>\n",
       "      <td>Yes</td>\n",
       "      <td>23.60</td>\n",
       "      <td>No</td>\n",
       "    </tr>\n",
       "  </tbody>\n",
       "</table>\n",
       "</div>"
      ],
      "text/plain": [
       "  Dependents  tenure       OnlineSecurity         OnlineBackup  \\\n",
       "0        Yes       9                   No                   No   \n",
       "1         No      14                   No                  Yes   \n",
       "2         No      64                  Yes                   No   \n",
       "3         No      72                  Yes                  Yes   \n",
       "4         No       3  No internet service  No internet service   \n",
       "\n",
       "  InternetService     DeviceProtection          TechSupport        Contract  \\\n",
       "0             DSL                  Yes                  Yes  Month-to-month   \n",
       "1     Fiber optic                  Yes                   No  Month-to-month   \n",
       "2             DSL                  Yes                  Yes        Two year   \n",
       "3             DSL                  Yes                  Yes        Two year   \n",
       "4              No  No internet service  No internet service  Month-to-month   \n",
       "\n",
       "  PaperlessBilling  MonthlyCharges Churn  \n",
       "0              Yes           72.90   Yes  \n",
       "1              Yes           82.65    No  \n",
       "2               No           47.85   Yes  \n",
       "3               No           69.65    No  \n",
       "4              Yes           23.60    No  "
      ]
     },
     "execution_count": 57,
     "metadata": {},
     "output_type": "execute_result"
    }
   ],
   "source": [
    "df.head()"
   ]
  },
  {
   "cell_type": "code",
   "execution_count": 58,
   "metadata": {},
   "outputs": [
    {
     "data": {
      "text/plain": [
       "(4930, 11)"
      ]
     },
     "execution_count": 58,
     "metadata": {},
     "output_type": "execute_result"
    }
   ],
   "source": [
    "df.shape"
   ]
  },
  {
   "cell_type": "code",
   "execution_count": 59,
   "metadata": {},
   "outputs": [
    {
     "name": "stdout",
     "output_type": "stream",
     "text": [
      "Jumlah baris dan kolom di dataset Telco Customer Churn.csv adalah 11 kolom dan 4930 baris\n",
      "<class 'pandas.core.frame.DataFrame'>\n",
      "RangeIndex: 4930 entries, 0 to 4929\n",
      "Data columns (total 11 columns):\n",
      " #   Column            Non-Null Count  Dtype  \n",
      "---  ------            --------------  -----  \n",
      " 0   Dependents        4930 non-null   object \n",
      " 1   tenure            4930 non-null   int64  \n",
      " 2   OnlineSecurity    4930 non-null   object \n",
      " 3   OnlineBackup      4930 non-null   object \n",
      " 4   InternetService   4930 non-null   object \n",
      " 5   DeviceProtection  4930 non-null   object \n",
      " 6   TechSupport       4930 non-null   object \n",
      " 7   Contract          4930 non-null   object \n",
      " 8   PaperlessBilling  4930 non-null   object \n",
      " 9   MonthlyCharges    4930 non-null   float64\n",
      " 10  Churn             4930 non-null   object \n",
      "dtypes: float64(1), int64(1), object(9)\n",
      "memory usage: 423.8+ KB\n"
     ]
    }
   ],
   "source": [
    "print(f'Jumlah baris dan kolom di dataset Telco Customer Churn.csv adalah {df.shape[1]} kolom dan {df.shape[0]} baris')\n",
    "df.info()"
   ]
  },
  {
   "cell_type": "code",
   "execution_count": 60,
   "metadata": {},
   "outputs": [
    {
     "data": {
      "text/plain": [
       "Dependents          0\n",
       "tenure              0\n",
       "OnlineSecurity      0\n",
       "OnlineBackup        0\n",
       "InternetService     0\n",
       "DeviceProtection    0\n",
       "TechSupport         0\n",
       "Contract            0\n",
       "PaperlessBilling    0\n",
       "MonthlyCharges      0\n",
       "Churn               0\n",
       "dtype: int64"
      ]
     },
     "execution_count": 60,
     "metadata": {},
     "output_type": "execute_result"
    }
   ],
   "source": [
    "df.isnull().sum()"
   ]
  },
  {
   "cell_type": "code",
   "execution_count": 61,
   "metadata": {},
   "outputs": [
    {
     "data": {
      "text/html": [
       "<div>\n",
       "<style scoped>\n",
       "    .dataframe tbody tr th:only-of-type {\n",
       "        vertical-align: middle;\n",
       "    }\n",
       "\n",
       "    .dataframe tbody tr th {\n",
       "        vertical-align: top;\n",
       "    }\n",
       "\n",
       "    .dataframe thead th {\n",
       "        text-align: right;\n",
       "    }\n",
       "</style>\n",
       "<table border=\"1\" class=\"dataframe\">\n",
       "  <thead>\n",
       "    <tr style=\"text-align: right;\">\n",
       "      <th></th>\n",
       "      <th>tenure</th>\n",
       "      <th>MonthlyCharges</th>\n",
       "    </tr>\n",
       "  </thead>\n",
       "  <tbody>\n",
       "    <tr>\n",
       "      <th>count</th>\n",
       "      <td>4930.000000</td>\n",
       "      <td>4930.000000</td>\n",
       "    </tr>\n",
       "    <tr>\n",
       "      <th>mean</th>\n",
       "      <td>32.401217</td>\n",
       "      <td>64.883032</td>\n",
       "    </tr>\n",
       "    <tr>\n",
       "      <th>std</th>\n",
       "      <td>24.501193</td>\n",
       "      <td>29.923960</td>\n",
       "    </tr>\n",
       "    <tr>\n",
       "      <th>min</th>\n",
       "      <td>0.000000</td>\n",
       "      <td>18.800000</td>\n",
       "    </tr>\n",
       "    <tr>\n",
       "      <th>25%</th>\n",
       "      <td>9.000000</td>\n",
       "      <td>37.050000</td>\n",
       "    </tr>\n",
       "    <tr>\n",
       "      <th>50%</th>\n",
       "      <td>29.000000</td>\n",
       "      <td>70.350000</td>\n",
       "    </tr>\n",
       "    <tr>\n",
       "      <th>75%</th>\n",
       "      <td>55.000000</td>\n",
       "      <td>89.850000</td>\n",
       "    </tr>\n",
       "    <tr>\n",
       "      <th>max</th>\n",
       "      <td>72.000000</td>\n",
       "      <td>118.650000</td>\n",
       "    </tr>\n",
       "  </tbody>\n",
       "</table>\n",
       "</div>"
      ],
      "text/plain": [
       "            tenure  MonthlyCharges\n",
       "count  4930.000000     4930.000000\n",
       "mean     32.401217       64.883032\n",
       "std      24.501193       29.923960\n",
       "min       0.000000       18.800000\n",
       "25%       9.000000       37.050000\n",
       "50%      29.000000       70.350000\n",
       "75%      55.000000       89.850000\n",
       "max      72.000000      118.650000"
      ]
     },
     "metadata": {},
     "output_type": "display_data"
    },
    {
     "data": {
      "text/html": [
       "<div>\n",
       "<style scoped>\n",
       "    .dataframe tbody tr th:only-of-type {\n",
       "        vertical-align: middle;\n",
       "    }\n",
       "\n",
       "    .dataframe tbody tr th {\n",
       "        vertical-align: top;\n",
       "    }\n",
       "\n",
       "    .dataframe thead th {\n",
       "        text-align: right;\n",
       "    }\n",
       "</style>\n",
       "<table border=\"1\" class=\"dataframe\">\n",
       "  <thead>\n",
       "    <tr style=\"text-align: right;\">\n",
       "      <th></th>\n",
       "      <th>Dependents</th>\n",
       "      <th>OnlineSecurity</th>\n",
       "      <th>OnlineBackup</th>\n",
       "      <th>InternetService</th>\n",
       "      <th>DeviceProtection</th>\n",
       "      <th>TechSupport</th>\n",
       "      <th>Contract</th>\n",
       "      <th>PaperlessBilling</th>\n",
       "      <th>Churn</th>\n",
       "    </tr>\n",
       "  </thead>\n",
       "  <tbody>\n",
       "    <tr>\n",
       "      <th>count</th>\n",
       "      <td>4930</td>\n",
       "      <td>4930</td>\n",
       "      <td>4930</td>\n",
       "      <td>4930</td>\n",
       "      <td>4930</td>\n",
       "      <td>4930</td>\n",
       "      <td>4930</td>\n",
       "      <td>4930</td>\n",
       "      <td>4930</td>\n",
       "    </tr>\n",
       "    <tr>\n",
       "      <th>unique</th>\n",
       "      <td>2</td>\n",
       "      <td>3</td>\n",
       "      <td>3</td>\n",
       "      <td>3</td>\n",
       "      <td>3</td>\n",
       "      <td>3</td>\n",
       "      <td>3</td>\n",
       "      <td>2</td>\n",
       "      <td>2</td>\n",
       "    </tr>\n",
       "    <tr>\n",
       "      <th>top</th>\n",
       "      <td>No</td>\n",
       "      <td>No</td>\n",
       "      <td>No</td>\n",
       "      <td>Fiber optic</td>\n",
       "      <td>No</td>\n",
       "      <td>No</td>\n",
       "      <td>Month-to-month</td>\n",
       "      <td>Yes</td>\n",
       "      <td>No</td>\n",
       "    </tr>\n",
       "    <tr>\n",
       "      <th>freq</th>\n",
       "      <td>3446</td>\n",
       "      <td>2445</td>\n",
       "      <td>2172</td>\n",
       "      <td>2172</td>\n",
       "      <td>2186</td>\n",
       "      <td>2467</td>\n",
       "      <td>2721</td>\n",
       "      <td>2957</td>\n",
       "      <td>3614</td>\n",
       "    </tr>\n",
       "  </tbody>\n",
       "</table>\n",
       "</div>"
      ],
      "text/plain": [
       "       Dependents OnlineSecurity OnlineBackup InternetService  \\\n",
       "count        4930           4930         4930            4930   \n",
       "unique          2              3            3               3   \n",
       "top            No             No           No     Fiber optic   \n",
       "freq         3446           2445         2172            2172   \n",
       "\n",
       "       DeviceProtection TechSupport        Contract PaperlessBilling Churn  \n",
       "count              4930        4930            4930             4930  4930  \n",
       "unique                3           3               3                2     2  \n",
       "top                  No          No  Month-to-month              Yes    No  \n",
       "freq               2186        2467            2721             2957  3614  "
      ]
     },
     "metadata": {},
     "output_type": "display_data"
    }
   ],
   "source": [
    "display(df.describe(),\n",
    "df.describe(include='object'))"
   ]
  },
  {
   "cell_type": "markdown",
   "metadata": {},
   "source": [
    ">## **EDA**"
   ]
  },
  {
   "cell_type": "code",
   "execution_count": 62,
   "metadata": {},
   "outputs": [
    {
     "data": {
      "text/plain": [
       "array([[<AxesSubplot: title={'center': 'tenure'}>,\n",
       "        <AxesSubplot: title={'center': 'MonthlyCharges'}>]], dtype=object)"
      ]
     },
     "execution_count": 62,
     "metadata": {},
     "output_type": "execute_result"
    },
    {
     "data": {
      "image/png": "[encoded data removed]",
      "text/plain": [
       "<Figure size 1000x1000 with 2 Axes>"
      ]
     },
     "metadata": {},
     "output_type": "display_data"
    }
   ],
   "source": [
    "# Cek distribusi data\n",
    "df.hist(bins=60,figsize=(10,10))"
   ]
  },
  {
   "cell_type": "markdown",
   "metadata": {},
   "source": [
    "Berdasarkan distribusi data, terlihat bahwa tenure dan MonthlyCharges memiliki distribusi yang tidak merata. dimana dalam kasus linear regression, data yang tidak terdistribusi normal akan mempengaruhi keakuratan dari model, sehingga features yang terdistribusi tidak normal perlu diubah dengan skala logaritmic power transformer, agar distribusinya mendekati normal."
   ]
  },
  {
   "cell_type": "code",
   "execution_count": 63,
   "metadata": {},
   "outputs": [
    {
     "data": {
      "text/plain": [
       "<AxesSubplot: >"
      ]
     },
     "execution_count": 63,
     "metadata": {},
     "output_type": "execute_result"
    },
    {
     "data": {
      "image/png": "[encoded data removed]",
      "text/plain": [
       "<Figure size 1000x800 with 2 Axes>"
      ]
     },
     "metadata": {},
     "output_type": "display_data"
    }
   ],
   "source": [
    "plt.figure(figsize=(10,8))\n",
    "sns.heatmap(df.corr('spearman'),annot=True,square=True,linewidths=5,fmt='.2f')"
   ]
  },
  {
   "cell_type": "markdown",
   "metadata": {},
   "source": [
    "terlihat dari koefisien korelasi menunjukan tingkat churn cenderung meningkat apabila MonthlyCharges meningkat."
   ]
  },
  {
   "cell_type": "code",
   "execution_count": 64,
   "metadata": {},
   "outputs": [
    {
     "data": {
      "text/plain": [
       "<AxesSubplot: >"
      ]
     },
     "execution_count": 64,
     "metadata": {},
     "output_type": "execute_result"
    },
    {
     "data": {
      "image/png": "[encoded data removed]",
      "text/plain": [
       "<Figure size 1600x800 with 1 Axes>"
      ]
     },
     "metadata": {},
     "output_type": "display_data"
    }
   ],
   "source": [
    "plt.figure(figsize=(16,8))\n",
    "df.boxplot(rot=90)"
   ]
  },
  {
   "cell_type": "markdown",
   "metadata": {},
   "source": [
    "darigraphic diatas terlibah bahwa data tidak memiliki data outlier"
   ]
  },
  {
   "cell_type": "code",
   "execution_count": 65,
   "metadata": {},
   "outputs": [
    {
     "data": {
      "image/png": "[encoded data removed]",
      "text/plain": [
       "<Figure size 800x600 with 1 Axes>"
      ]
     },
     "metadata": {},
     "output_type": "display_data"
    }
   ],
   "source": [
    "df['Churn'].value_counts().plot(kind='barh', figsize=(8, 6))\n",
    "plt.xlabel(\"Jumlah\", labelpad=14)\n",
    "plt.ylabel(\"Variabel Churn\", labelpad=14)\n",
    "plt.title(\"Jumlah Variabel Churn Per-Kategori\", y=1.02);\n"
   ]
  },
  {
   "cell_type": "code",
   "execution_count": 66,
   "metadata": {},
   "outputs": [
    {
     "data": {
      "image/png": "[encoded data removed]",
      "text/plain": [
       "<Figure size 640x480 with 1 Axes>"
      ]
     },
     "metadata": {},
     "output_type": "display_data"
    },
    {
     "data": {
      "image/png": "[encoded data removed]",
      "text/plain": [
       "<Figure size 640x480 with 1 Axes>"
      ]
     },
     "metadata": {},
     "output_type": "display_data"
    },
    {
     "data": {
      "image/png": "[encoded data removed]",
      "text/plain": [
       "<Figure size 640x480 with 1 Axes>"
      ]
     },
     "metadata": {},
     "output_type": "display_data"
    },
    {
     "data": {
      "image/png": "[encoded data removed]",
      "text/plain": [
       "<Figure size 640x480 with 1 Axes>"
      ]
     },
     "metadata": {},
     "output_type": "display_data"
    },
    {
     "data": {
      "image/png": "[encoded data removed]",
      "text/plain": [
       "<Figure size 640x480 with 1 Axes>"
      ]
     },
     "metadata": {},
     "output_type": "display_data"
    },
    {
     "data": {
      "image/png": "[encoded data removed]",
      "text/plain": [
       "<Figure size 640x480 with 1 Axes>"
      ]
     },
     "metadata": {},
     "output_type": "display_data"
    },
    {
     "data": {
      "image/png": "[encoded data removed]",
      "text/plain": [
       "<Figure size 640x480 with 1 Axes>"
      ]
     },
     "metadata": {},
     "output_type": "display_data"
    },
    {
     "data": {
      "image/png": "[encoded data removed]",
      "text/plain": [
       "<Figure size 640x480 with 1 Axes>"
      ]
     },
     "metadata": {},
     "output_type": "display_data"
    }
   ],
   "source": [
    "for i, predictor in enumerate(df.drop(columns=['Churn', 'tenure', 'MonthlyCharges'])):\n",
    "    plt.figure(i)\n",
    "    sns.countplot(data=df, x=predictor, hue='Churn')"
   ]
  },
  {
   "cell_type": "code",
   "execution_count": 67,
   "metadata": {},
   "outputs": [
    {
     "data": {
      "text/plain": [
       "<matplotlib.legend.Legend at 0x20e1edd5c00>"
      ]
     },
     "execution_count": 67,
     "metadata": {},
     "output_type": "execute_result"
    },
    {
     "data": {
      "image/png": "[encoded data removed]",
      "text/plain": [
       "<Figure size 640x480 with 1 Axes>"
      ]
     },
     "metadata": {},
     "output_type": "display_data"
    }
   ],
   "source": [
    "churn_tenure_no = df[df.Churn == 'No'].tenure\n",
    "churn_tenure_yes = df[df.Churn == 'Yes'].tenure\n",
    "\n",
    "plt.xlabel('Tenure')\n",
    "plt.ylabel('Number of Customer')\n",
    "plt.title('Customer Churn Prediction Visualization')\n",
    "\n",
    "plt.hist([churn_tenure_yes, churn_tenure_no], color = ['Blue', 'Skyblue'], label= ['Churn=Yes', 'Churn=No'])\n",
    "plt.legend()"
   ]
  },
  {
   "cell_type": "code",
   "execution_count": 68,
   "metadata": {},
   "outputs": [
    {
     "data": {
      "text/plain": [
       "Text(0.5, 1.0, 'Tingkat Churn Berdasarkan Tenure')"
      ]
     },
     "execution_count": 68,
     "metadata": {},
     "output_type": "execute_result"
    },
    {
     "data": {
      "image/png": "[encoded data removed]",
      "text/plain": [
       "<Figure size 640x480 with 1 Axes>"
      ]
     },
     "metadata": {},
     "output_type": "display_data"
    }
   ],
   "source": [
    "Tenure_kdeplot = sns.kdeplot(df.tenure[(df[\"Churn\"] == 'No')],\n",
    "                color=\"Red\", shade = True)\n",
    "Tenure_kdeplot = sns.kdeplot(df.tenure[(df[\"Churn\"] == 'Yes') ],\n",
    "                ax =Tenure_kdeplot, color=\"Blue\", shade= True)\n",
    "Tenure_kdeplot.legend([\"No Churn\",\"Churn\"],loc='upper right')\n",
    "Tenure_kdeplot.set_ylabel('Density')\n",
    "Tenure_kdeplot.set_xlabel('Tenure')\n",
    "Tenure_kdeplot.set_title('Tingkat Churn Berdasarkan Tenure')"
   ]
  },
  {
   "cell_type": "code",
   "execution_count": 69,
   "metadata": {},
   "outputs": [
    {
     "data": {
      "text/plain": [
       "<matplotlib.legend.Legend at 0x20e1e94e740>"
      ]
     },
     "execution_count": 69,
     "metadata": {},
     "output_type": "execute_result"
    },
    {
     "data": {
      "image/png": "[encoded data removed]",
      "text/plain": [
       "<Figure size 640x480 with 1 Axes>"
      ]
     },
     "metadata": {},
     "output_type": "display_data"
    }
   ],
   "source": [
    "charges_tenure_no = df[df.Churn == 'No'].MonthlyCharges\n",
    "charges_tenure_yes = df[df.Churn == 'Yes'].MonthlyCharges\n",
    "\n",
    "plt.xlabel('Monthly Charges')\n",
    "plt.ylabel('Number of Customer')\n",
    "plt.title('Customer Churn Prediction Visualization')\n",
    "\n",
    "plt.hist([charges_tenure_yes, charges_tenure_no], color = ['Blue', 'Skyblue'], label= ['Churn=Yes', 'Churn=No'])\n",
    "plt.legend()"
   ]
  },
  {
   "cell_type": "code",
   "execution_count": 70,
   "metadata": {},
   "outputs": [
    {
     "data": {
      "text/plain": [
       "Text(0.5, 1.0, 'Tingkat Churn Berdasarkan Monthly Charges')"
      ]
     },
     "execution_count": 70,
     "metadata": {},
     "output_type": "execute_result"
    },
    {
     "data": {
      "image/png": "[encoded data removed]",
      "text/plain": [
       "<Figure size 640x480 with 1 Axes>"
      ]
     },
     "metadata": {},
     "output_type": "display_data"
    }
   ],
   "source": [
    "MonthlyCharges_kdeplot = sns.kdeplot(df.MonthlyCharges[(df[\"Churn\"] == 'No') ],\n",
    "                color=\"Red\", shade = True)\n",
    "MonthlyCharges_kdeplot = sns.kdeplot(df.MonthlyCharges[(df[\"Churn\"] == 'Yes') ],\n",
    "                ax =MonthlyCharges_kdeplot, color=\"Blue\", shade= True)\n",
    "MonthlyCharges_kdeplot.legend([\"No Churn\",\"Churn\"],loc='upper right')\n",
    "MonthlyCharges_kdeplot.set_ylabel('Density')\n",
    "MonthlyCharges_kdeplot.set_xlabel('Monthly Charges')\n",
    "MonthlyCharges_kdeplot.set_title('Tingkat Churn Berdasarkan Monthly Charges')"
   ]
  },
  {
   "cell_type": "code",
   "execution_count": 71,
   "metadata": {},
   "outputs": [],
   "source": [
    "df['Churn'] = df['Churn'].map({'Yes':1, 'No':0})"
   ]
  },
  {
   "cell_type": "code",
   "execution_count": 72,
   "metadata": {},
   "outputs": [
    {
     "data": {
      "text/plain": [
       "0    3614\n",
       "1    1316\n",
       "Name: Churn, dtype: int64"
      ]
     },
     "execution_count": 72,
     "metadata": {},
     "output_type": "execute_result"
    }
   ],
   "source": [
    "df['Churn'].value_counts()"
   ]
  },
  {
   "cell_type": "code",
   "execution_count": 73,
   "metadata": {},
   "outputs": [
    {
     "data": {
      "text/html": [
       "<div>\n",
       "<style scoped>\n",
       "    .dataframe tbody tr th:only-of-type {\n",
       "        vertical-align: middle;\n",
       "    }\n",
       "\n",
       "    .dataframe tbody tr th {\n",
       "        vertical-align: top;\n",
       "    }\n",
       "\n",
       "    .dataframe thead th {\n",
       "        text-align: right;\n",
       "    }\n",
       "</style>\n",
       "<table border=\"1\" class=\"dataframe\">\n",
       "  <thead>\n",
       "    <tr style=\"text-align: right;\">\n",
       "      <th></th>\n",
       "      <th>tenure</th>\n",
       "      <th>MonthlyCharges</th>\n",
       "      <th>Churn</th>\n",
       "      <th>Dependents_No</th>\n",
       "      <th>Dependents_Yes</th>\n",
       "      <th>OnlineSecurity_No</th>\n",
       "      <th>OnlineSecurity_No internet service</th>\n",
       "      <th>OnlineSecurity_Yes</th>\n",
       "      <th>OnlineBackup_No</th>\n",
       "      <th>OnlineBackup_No internet service</th>\n",
       "      <th>OnlineBackup_Yes</th>\n",
       "      <th>InternetService_DSL</th>\n",
       "      <th>InternetService_Fiber optic</th>\n",
       "      <th>InternetService_No</th>\n",
       "      <th>DeviceProtection_No</th>\n",
       "      <th>DeviceProtection_No internet service</th>\n",
       "      <th>DeviceProtection_Yes</th>\n",
       "      <th>TechSupport_No</th>\n",
       "      <th>TechSupport_No internet service</th>\n",
       "      <th>TechSupport_Yes</th>\n",
       "      <th>Contract_Month-to-month</th>\n",
       "      <th>Contract_One year</th>\n",
       "      <th>Contract_Two year</th>\n",
       "      <th>PaperlessBilling_No</th>\n",
       "      <th>PaperlessBilling_Yes</th>\n",
       "    </tr>\n",
       "  </thead>\n",
       "  <tbody>\n",
       "    <tr>\n",
       "      <th>0</th>\n",
       "      <td>9</td>\n",
       "      <td>72.90</td>\n",
       "      <td>1</td>\n",
       "      <td>0</td>\n",
       "      <td>1</td>\n",
       "      <td>1</td>\n",
       "      <td>0</td>\n",
       "      <td>0</td>\n",
       "      <td>1</td>\n",
       "      <td>0</td>\n",
       "      <td>0</td>\n",
       "      <td>1</td>\n",
       "      <td>0</td>\n",
       "      <td>0</td>\n",
       "      <td>0</td>\n",
       "      <td>0</td>\n",
       "      <td>1</td>\n",
       "      <td>0</td>\n",
       "      <td>0</td>\n",
       "      <td>1</td>\n",
       "      <td>1</td>\n",
       "      <td>0</td>\n",
       "      <td>0</td>\n",
       "      <td>0</td>\n",
       "      <td>1</td>\n",
       "    </tr>\n",
       "    <tr>\n",
       "      <th>1</th>\n",
       "      <td>14</td>\n",
       "      <td>82.65</td>\n",
       "      <td>0</td>\n",
       "      <td>1</td>\n",
       "      <td>0</td>\n",
       "      <td>1</td>\n",
       "      <td>0</td>\n",
       "      <td>0</td>\n",
       "      <td>0</td>\n",
       "      <td>0</td>\n",
       "      <td>1</td>\n",
       "      <td>0</td>\n",
       "      <td>1</td>\n",
       "      <td>0</td>\n",
       "      <td>0</td>\n",
       "      <td>0</td>\n",
       "      <td>1</td>\n",
       "      <td>1</td>\n",
       "      <td>0</td>\n",
       "      <td>0</td>\n",
       "      <td>1</td>\n",
       "      <td>0</td>\n",
       "      <td>0</td>\n",
       "      <td>0</td>\n",
       "      <td>1</td>\n",
       "    </tr>\n",
       "    <tr>\n",
       "      <th>2</th>\n",
       "      <td>64</td>\n",
       "      <td>47.85</td>\n",
       "      <td>1</td>\n",
       "      <td>1</td>\n",
       "      <td>0</td>\n",
       "      <td>0</td>\n",
       "      <td>0</td>\n",
       "      <td>1</td>\n",
       "      <td>1</td>\n",
       "      <td>0</td>\n",
       "      <td>0</td>\n",
       "      <td>1</td>\n",
       "      <td>0</td>\n",
       "      <td>0</td>\n",
       "      <td>0</td>\n",
       "      <td>0</td>\n",
       "      <td>1</td>\n",
       "      <td>0</td>\n",
       "      <td>0</td>\n",
       "      <td>1</td>\n",
       "      <td>0</td>\n",
       "      <td>0</td>\n",
       "      <td>1</td>\n",
       "      <td>1</td>\n",
       "      <td>0</td>\n",
       "    </tr>\n",
       "    <tr>\n",
       "      <th>3</th>\n",
       "      <td>72</td>\n",
       "      <td>69.65</td>\n",
       "      <td>0</td>\n",
       "      <td>1</td>\n",
       "      <td>0</td>\n",
       "      <td>0</td>\n",
       "      <td>0</td>\n",
       "      <td>1</td>\n",
       "      <td>0</td>\n",
       "      <td>0</td>\n",
       "      <td>1</td>\n",
       "      <td>1</td>\n",
       "      <td>0</td>\n",
       "      <td>0</td>\n",
       "      <td>0</td>\n",
       "      <td>0</td>\n",
       "      <td>1</td>\n",
       "      <td>0</td>\n",
       "      <td>0</td>\n",
       "      <td>1</td>\n",
       "      <td>0</td>\n",
       "      <td>0</td>\n",
       "      <td>1</td>\n",
       "      <td>1</td>\n",
       "      <td>0</td>\n",
       "    </tr>\n",
       "    <tr>\n",
       "      <th>4</th>\n",
       "      <td>3</td>\n",
       "      <td>23.60</td>\n",
       "      <td>0</td>\n",
       "      <td>1</td>\n",
       "      <td>0</td>\n",
       "      <td>0</td>\n",
       "      <td>1</td>\n",
       "      <td>0</td>\n",
       "      <td>0</td>\n",
       "      <td>1</td>\n",
       "      <td>0</td>\n",
       "      <td>0</td>\n",
       "      <td>0</td>\n",
       "      <td>1</td>\n",
       "      <td>0</td>\n",
       "      <td>1</td>\n",
       "      <td>0</td>\n",
       "      <td>0</td>\n",
       "      <td>1</td>\n",
       "      <td>0</td>\n",
       "      <td>1</td>\n",
       "      <td>0</td>\n",
       "      <td>0</td>\n",
       "      <td>0</td>\n",
       "      <td>1</td>\n",
       "    </tr>\n",
       "  </tbody>\n",
       "</table>\n",
       "</div>"
      ],
      "text/plain": [
       "   tenure  MonthlyCharges  Churn  Dependents_No  Dependents_Yes  \\\n",
       "0       9           72.90      1              0               1   \n",
       "1      14           82.65      0              1               0   \n",
       "2      64           47.85      1              1               0   \n",
       "3      72           69.65      0              1               0   \n",
       "4       3           23.60      0              1               0   \n",
       "\n",
       "   OnlineSecurity_No  OnlineSecurity_No internet service  OnlineSecurity_Yes  \\\n",
       "0                  1                                   0                   0   \n",
       "1                  1                                   0                   0   \n",
       "2                  0                                   0                   1   \n",
       "3                  0                                   0                   1   \n",
       "4                  0                                   1                   0   \n",
       "\n",
       "   OnlineBackup_No  OnlineBackup_No internet service  OnlineBackup_Yes  \\\n",
       "0                1                                 0                 0   \n",
       "1                0                                 0                 1   \n",
       "2                1                                 0                 0   \n",
       "3                0                                 0                 1   \n",
       "4                0                                 1                 0   \n",
       "\n",
       "   InternetService_DSL  InternetService_Fiber optic  InternetService_No  \\\n",
       "0                    1                            0                   0   \n",
       "1                    0                            1                   0   \n",
       "2                    1                            0                   0   \n",
       "3                    1                            0                   0   \n",
       "4                    0                            0                   1   \n",
       "\n",
       "   DeviceProtection_No  DeviceProtection_No internet service  \\\n",
       "0                    0                                     0   \n",
       "1                    0                                     0   \n",
       "2                    0                                     0   \n",
       "3                    0                                     0   \n",
       "4                    0                                     1   \n",
       "\n",
       "   DeviceProtection_Yes  TechSupport_No  TechSupport_No internet service  \\\n",
       "0                     1               0                                0   \n",
       "1                     1               1                                0   \n",
       "2                     1               0                                0   \n",
       "3                     1               0                                0   \n",
       "4                     0               0                                1   \n",
       "\n",
       "   TechSupport_Yes  Contract_Month-to-month  Contract_One year  \\\n",
       "0                1                        1                  0   \n",
       "1                0                        1                  0   \n",
       "2                1                        0                  0   \n",
       "3                1                        0                  0   \n",
       "4                0                        1                  0   \n",
       "\n",
       "   Contract_Two year  PaperlessBilling_No  PaperlessBilling_Yes  \n",
       "0                  0                    0                     1  \n",
       "1                  0                    0                     1  \n",
       "2                  1                    1                     0  \n",
       "3                  1                    1                     0  \n",
       "4                  0                    0                     1  "
      ]
     },
     "execution_count": 73,
     "metadata": {},
     "output_type": "execute_result"
    }
   ],
   "source": [
    "df_dummies = pd.get_dummies(df)\n",
    "df_dummies.head()"
   ]
  },
  {
   "cell_type": "code",
   "execution_count": 74,
   "metadata": {},
   "outputs": [
    {
     "data": {
      "text/plain": [
       "<AxesSubplot: >"
      ]
     },
     "execution_count": 74,
     "metadata": {},
     "output_type": "execute_result"
    },
    {
     "data": {
      "image/png": "[encoded data removed]",
      "text/plain": [
       "<Figure size 2000x800 with 1 Axes>"
      ]
     },
     "metadata": {},
     "output_type": "display_data"
    }
   ],
   "source": [
    "plt.figure(figsize=(20,8))\n",
    "df_dummies.corr()['Churn'].sort_values(ascending = False).plot(kind='bar')\n"
   ]
  },
  {
   "cell_type": "markdown",
   "metadata": {},
   "source": [
    "### **Summary**\n",
    "**1. Ciri-ciri pelanggan yang cenderung untuk meninggalkan layanan / Churn dan yang tidak**\n",
    "- Secara umum **tinggi-nya Churn** pada pelanggan terjadi paling sering pada pelanggan yang berlanggananan **`Month-to-month`**, tidak menggunakan layanan Online Security (**`OnlineSecurity_No`**), tidak menggunakan layanan Tech Support (**`TechSupport_No`**), dan menggunakan internet service Fiber Optics (**`InternetService_Fiber optic`**), sedangkan **rendah-nya Churn** terjadi pada pelanggan yang **`berlangganan 2 tahun`** atau long-term subscriptions dan berlangganan tanpa Internet Service (**`No Internet Service`**). \n",
    "\n",
    "**2. Informasi yang didapatkan pada hasil Visualisasi KDE Plot, didapatkan bahwa:**\n",
    "- **Tenure Vs Churn** : Pelanggan dengan `tenure lebih tinggi` atau lebih dari 40 bulan `cenderung lebih sedikit untuk meninggalkan platform`, atau dengan kata lain, semakin lama pelanggan berlangganan, maka sedikit juga kemungkinan untuk berhenti berlangganan.\n",
    "- **Monthly Charges Vs Churn** : `Monthly Charges` yang `tinggi cenderung membuat pelanggan mudah berhenti berlangganan`, atau dengan kata lain, semakin tinggi Monthly Charge yang diberikan pada pelanggan, maka semakin tinggi juga tingkat Churn-nya"
   ]
  },
  {
   "cell_type": "markdown",
   "metadata": {},
   "source": [
    ">## **Data Preparation** "
   ]
  },
  {
   "cell_type": "code",
   "execution_count": 75,
   "metadata": {},
   "outputs": [],
   "source": [
    "from sklearn.compose import ColumnTransformer\n",
    "from sklearn.pipeline import Pipeline\n",
    "from sklearn.experimental import enable_iterative_imputer\n",
    "from sklearn.impute import IterativeImputer\n",
    "from sklearn.impute import SimpleImputer\n",
    "from sklearn.preprocessing import OneHotEncoder\n",
    "from sklearn.preprocessing import PowerTransformer\n",
    "from sklearn.preprocessing import StandardScaler\n",
    "from sklearn.preprocessing import RobustScaler"
   ]
  },
  {
   "cell_type": "code",
   "execution_count": 76,
   "metadata": {},
   "outputs": [
    {
     "data": {
      "text/html": [
       "<div>\n",
       "<style scoped>\n",
       "    .dataframe tbody tr th:only-of-type {\n",
       "        vertical-align: middle;\n",
       "    }\n",
       "\n",
       "    .dataframe tbody tr th {\n",
       "        vertical-align: top;\n",
       "    }\n",
       "\n",
       "    .dataframe thead th {\n",
       "        text-align: right;\n",
       "    }\n",
       "</style>\n",
       "<table border=\"1\" class=\"dataframe\">\n",
       "  <thead>\n",
       "    <tr style=\"text-align: right;\">\n",
       "      <th></th>\n",
       "      <th>dataFeatures</th>\n",
       "      <th>dataType</th>\n",
       "      <th>null</th>\n",
       "      <th>null%</th>\n",
       "      <th>unique</th>\n",
       "      <th>uniqueSample</th>\n",
       "    </tr>\n",
       "  </thead>\n",
       "  <tbody>\n",
       "    <tr>\n",
       "      <th>0</th>\n",
       "      <td>Dependents</td>\n",
       "      <td>object</td>\n",
       "      <td>0</td>\n",
       "      <td>0.0</td>\n",
       "      <td>2</td>\n",
       "      <td>[Yes, No]</td>\n",
       "    </tr>\n",
       "    <tr>\n",
       "      <th>1</th>\n",
       "      <td>tenure</td>\n",
       "      <td>int64</td>\n",
       "      <td>0</td>\n",
       "      <td>0.0</td>\n",
       "      <td>73</td>\n",
       "      <td>[60, 51]</td>\n",
       "    </tr>\n",
       "    <tr>\n",
       "      <th>2</th>\n",
       "      <td>OnlineSecurity</td>\n",
       "      <td>object</td>\n",
       "      <td>0</td>\n",
       "      <td>0.0</td>\n",
       "      <td>3</td>\n",
       "      <td>[No internet service, No]</td>\n",
       "    </tr>\n",
       "    <tr>\n",
       "      <th>3</th>\n",
       "      <td>OnlineBackup</td>\n",
       "      <td>object</td>\n",
       "      <td>0</td>\n",
       "      <td>0.0</td>\n",
       "      <td>3</td>\n",
       "      <td>[No internet service, No]</td>\n",
       "    </tr>\n",
       "    <tr>\n",
       "      <th>4</th>\n",
       "      <td>InternetService</td>\n",
       "      <td>object</td>\n",
       "      <td>0</td>\n",
       "      <td>0.0</td>\n",
       "      <td>3</td>\n",
       "      <td>[Fiber optic, No]</td>\n",
       "    </tr>\n",
       "    <tr>\n",
       "      <th>5</th>\n",
       "      <td>DeviceProtection</td>\n",
       "      <td>object</td>\n",
       "      <td>0</td>\n",
       "      <td>0.0</td>\n",
       "      <td>3</td>\n",
       "      <td>[No internet service, Yes]</td>\n",
       "    </tr>\n",
       "    <tr>\n",
       "      <th>6</th>\n",
       "      <td>TechSupport</td>\n",
       "      <td>object</td>\n",
       "      <td>0</td>\n",
       "      <td>0.0</td>\n",
       "      <td>3</td>\n",
       "      <td>[No internet service, No]</td>\n",
       "    </tr>\n",
       "    <tr>\n",
       "      <th>7</th>\n",
       "      <td>Contract</td>\n",
       "      <td>object</td>\n",
       "      <td>0</td>\n",
       "      <td>0.0</td>\n",
       "      <td>3</td>\n",
       "      <td>[Month-to-month, One year]</td>\n",
       "    </tr>\n",
       "    <tr>\n",
       "      <th>8</th>\n",
       "      <td>PaperlessBilling</td>\n",
       "      <td>object</td>\n",
       "      <td>0</td>\n",
       "      <td>0.0</td>\n",
       "      <td>2</td>\n",
       "      <td>[No, Yes]</td>\n",
       "    </tr>\n",
       "    <tr>\n",
       "      <th>9</th>\n",
       "      <td>MonthlyCharges</td>\n",
       "      <td>float64</td>\n",
       "      <td>0</td>\n",
       "      <td>0.0</td>\n",
       "      <td>1422</td>\n",
       "      <td>[40.05, 82.45]</td>\n",
       "    </tr>\n",
       "    <tr>\n",
       "      <th>10</th>\n",
       "      <td>Churn</td>\n",
       "      <td>int64</td>\n",
       "      <td>0</td>\n",
       "      <td>0.0</td>\n",
       "      <td>2</td>\n",
       "      <td>[1, 0]</td>\n",
       "    </tr>\n",
       "  </tbody>\n",
       "</table>\n",
       "</div>"
      ],
      "text/plain": [
       "        dataFeatures dataType  null  null%  unique                uniqueSample\n",
       "0         Dependents   object     0    0.0       2                   [Yes, No]\n",
       "1             tenure    int64     0    0.0      73                    [60, 51]\n",
       "2     OnlineSecurity   object     0    0.0       3   [No internet service, No]\n",
       "3       OnlineBackup   object     0    0.0       3   [No internet service, No]\n",
       "4    InternetService   object     0    0.0       3           [Fiber optic, No]\n",
       "5   DeviceProtection   object     0    0.0       3  [No internet service, Yes]\n",
       "6        TechSupport   object     0    0.0       3   [No internet service, No]\n",
       "7           Contract   object     0    0.0       3  [Month-to-month, One year]\n",
       "8   PaperlessBilling   object     0    0.0       2                   [No, Yes]\n",
       "9     MonthlyCharges  float64     0    0.0    1422              [40.05, 82.45]\n",
       "10             Churn    int64     0    0.0       2                      [1, 0]"
      ]
     },
     "execution_count": 76,
     "metadata": {},
     "output_type": "execute_result"
    }
   ],
   "source": [
    "# Cek info lebih detail untuk setiap fitur\n",
    "listItem = []\n",
    "\n",
    "for col in df.columns:\n",
    "    listItem.append([col, df[col].dtype, df[col].isna().sum(), round((df[col].isna().sum()/len(df[col]))*100, 2),\n",
    "                    df[col].nunique(), list(df[col].drop_duplicates().sample(2).values)]);\n",
    "\n",
    "df2 = pd.DataFrame(columns=['dataFeatures', 'dataType', 'null', 'null%', 'unique', 'uniqueSample'],\n",
    "                     data=listItem)\n",
    "df2"
   ]
  },
  {
   "cell_type": "code",
   "execution_count": 77,
   "metadata": {},
   "outputs": [],
   "source": [
    "# Label Encoder\n",
    "from sklearn.preprocessing import LabelEncoder\n",
    "le = LabelEncoder()\n",
    "cols = [\n",
    "    'OnlineSecurity', \n",
    "    'OnlineBackup', \n",
    "    'InternetService', \n",
    "    'DeviceProtection', \n",
    "    'TechSupport', \n",
    "    'Contract', \n",
    "    'Dependents', \n",
    "    'PaperlessBilling',\n",
    "    'Churn' ]\n",
    "\n",
    "for i in cols:\n",
    "    le.fit(df[i])\n",
    "    df[i] = le.transform(df[i])"
   ]
  },
  {
   "cell_type": "code",
   "execution_count": 78,
   "metadata": {},
   "outputs": [
    {
     "data": {
      "text/html": [
       "<div>\n",
       "<style scoped>\n",
       "    .dataframe tbody tr th:only-of-type {\n",
       "        vertical-align: middle;\n",
       "    }\n",
       "\n",
       "    .dataframe tbody tr th {\n",
       "        vertical-align: top;\n",
       "    }\n",
       "\n",
       "    .dataframe thead th {\n",
       "        text-align: right;\n",
       "    }\n",
       "</style>\n",
       "<table border=\"1\" class=\"dataframe\">\n",
       "  <thead>\n",
       "    <tr style=\"text-align: right;\">\n",
       "      <th></th>\n",
       "      <th>dataFeatures</th>\n",
       "      <th>dataType</th>\n",
       "      <th>null</th>\n",
       "      <th>null%</th>\n",
       "      <th>unique</th>\n",
       "      <th>uniqueSample</th>\n",
       "    </tr>\n",
       "  </thead>\n",
       "  <tbody>\n",
       "    <tr>\n",
       "      <th>0</th>\n",
       "      <td>Dependents</td>\n",
       "      <td>int32</td>\n",
       "      <td>0</td>\n",
       "      <td>0.0</td>\n",
       "      <td>2</td>\n",
       "      <td>[1, 0]</td>\n",
       "    </tr>\n",
       "    <tr>\n",
       "      <th>1</th>\n",
       "      <td>tenure</td>\n",
       "      <td>int64</td>\n",
       "      <td>0</td>\n",
       "      <td>0.0</td>\n",
       "      <td>73</td>\n",
       "      <td>[20, 24]</td>\n",
       "    </tr>\n",
       "    <tr>\n",
       "      <th>2</th>\n",
       "      <td>OnlineSecurity</td>\n",
       "      <td>int32</td>\n",
       "      <td>0</td>\n",
       "      <td>0.0</td>\n",
       "      <td>3</td>\n",
       "      <td>[1, 2]</td>\n",
       "    </tr>\n",
       "    <tr>\n",
       "      <th>3</th>\n",
       "      <td>OnlineBackup</td>\n",
       "      <td>int32</td>\n",
       "      <td>0</td>\n",
       "      <td>0.0</td>\n",
       "      <td>3</td>\n",
       "      <td>[0, 1]</td>\n",
       "    </tr>\n",
       "    <tr>\n",
       "      <th>4</th>\n",
       "      <td>InternetService</td>\n",
       "      <td>int32</td>\n",
       "      <td>0</td>\n",
       "      <td>0.0</td>\n",
       "      <td>3</td>\n",
       "      <td>[1, 2]</td>\n",
       "    </tr>\n",
       "    <tr>\n",
       "      <th>5</th>\n",
       "      <td>DeviceProtection</td>\n",
       "      <td>int32</td>\n",
       "      <td>0</td>\n",
       "      <td>0.0</td>\n",
       "      <td>3</td>\n",
       "      <td>[0, 1]</td>\n",
       "    </tr>\n",
       "    <tr>\n",
       "      <th>6</th>\n",
       "      <td>TechSupport</td>\n",
       "      <td>int32</td>\n",
       "      <td>0</td>\n",
       "      <td>0.0</td>\n",
       "      <td>3</td>\n",
       "      <td>[1, 0]</td>\n",
       "    </tr>\n",
       "    <tr>\n",
       "      <th>7</th>\n",
       "      <td>Contract</td>\n",
       "      <td>int32</td>\n",
       "      <td>0</td>\n",
       "      <td>0.0</td>\n",
       "      <td>3</td>\n",
       "      <td>[2, 1]</td>\n",
       "    </tr>\n",
       "    <tr>\n",
       "      <th>8</th>\n",
       "      <td>PaperlessBilling</td>\n",
       "      <td>int32</td>\n",
       "      <td>0</td>\n",
       "      <td>0.0</td>\n",
       "      <td>2</td>\n",
       "      <td>[1, 0]</td>\n",
       "    </tr>\n",
       "    <tr>\n",
       "      <th>9</th>\n",
       "      <td>MonthlyCharges</td>\n",
       "      <td>float64</td>\n",
       "      <td>0</td>\n",
       "      <td>0.0</td>\n",
       "      <td>1422</td>\n",
       "      <td>[102.55, 111.9]</td>\n",
       "    </tr>\n",
       "    <tr>\n",
       "      <th>10</th>\n",
       "      <td>Churn</td>\n",
       "      <td>int64</td>\n",
       "      <td>0</td>\n",
       "      <td>0.0</td>\n",
       "      <td>2</td>\n",
       "      <td>[0, 1]</td>\n",
       "    </tr>\n",
       "  </tbody>\n",
       "</table>\n",
       "</div>"
      ],
      "text/plain": [
       "        dataFeatures dataType  null  null%  unique     uniqueSample\n",
       "0         Dependents    int32     0    0.0       2           [1, 0]\n",
       "1             tenure    int64     0    0.0      73         [20, 24]\n",
       "2     OnlineSecurity    int32     0    0.0       3           [1, 2]\n",
       "3       OnlineBackup    int32     0    0.0       3           [0, 1]\n",
       "4    InternetService    int32     0    0.0       3           [1, 2]\n",
       "5   DeviceProtection    int32     0    0.0       3           [0, 1]\n",
       "6        TechSupport    int32     0    0.0       3           [1, 0]\n",
       "7           Contract    int32     0    0.0       3           [2, 1]\n",
       "8   PaperlessBilling    int32     0    0.0       2           [1, 0]\n",
       "9     MonthlyCharges  float64     0    0.0    1422  [102.55, 111.9]\n",
       "10             Churn    int64     0    0.0       2           [0, 1]"
      ]
     },
     "execution_count": 78,
     "metadata": {},
     "output_type": "execute_result"
    }
   ],
   "source": [
    "# Cek info lebih detail untuk setiap fitur\n",
    "listItem = []\n",
    "\n",
    "for col in df.columns:\n",
    "    listItem.append([col, df[col].dtype, df[col].isna().sum(), round((df[col].isna().sum()/len(df[col]))*100, 2),\n",
    "                    df[col].nunique(), list(df[col].drop_duplicates().sample(2).values)]);\n",
    "\n",
    "df2 = pd.DataFrame(columns=['dataFeatures', 'dataType', 'null', 'null%', 'unique', 'uniqueSample'],\n",
    "                     data=listItem)\n",
    "df2"
   ]
  },
  {
   "cell_type": "code",
   "execution_count": 79,
   "metadata": {},
   "outputs": [
    {
     "data": {
      "text/plain": [
       "array([[<AxesSubplot: title={'center': 'Dependents'}>,\n",
       "        <AxesSubplot: title={'center': 'tenure'}>,\n",
       "        <AxesSubplot: title={'center': 'OnlineSecurity'}>],\n",
       "       [<AxesSubplot: title={'center': 'OnlineBackup'}>,\n",
       "        <AxesSubplot: title={'center': 'InternetService'}>,\n",
       "        <AxesSubplot: title={'center': 'DeviceProtection'}>],\n",
       "       [<AxesSubplot: title={'center': 'TechSupport'}>,\n",
       "        <AxesSubplot: title={'center': 'Contract'}>,\n",
       "        <AxesSubplot: title={'center': 'PaperlessBilling'}>],\n",
       "       [<AxesSubplot: title={'center': 'MonthlyCharges'}>,\n",
       "        <AxesSubplot: title={'center': 'Churn'}>, <AxesSubplot: >]],\n",
       "      dtype=object)"
      ]
     },
     "execution_count": 79,
     "metadata": {},
     "output_type": "execute_result"
    },
    {
     "data": {
      "image/png": "[encoded data removed]",
      "text/plain": [
       "<Figure size 1000x1000 with 12 Axes>"
      ]
     },
     "metadata": {},
     "output_type": "display_data"
    }
   ],
   "source": [
    "df.hist(figsize=(10,10))"
   ]
  },
  {
   "cell_type": "code",
   "execution_count": 80,
   "metadata": {},
   "outputs": [
    {
     "data": {
      "text/plain": [
       "0    73.306288\n",
       "1    26.693712\n",
       "Name: Churn, dtype: float64"
      ]
     },
     "execution_count": 80,
     "metadata": {},
     "output_type": "execute_result"
    }
   ],
   "source": [
    "# Handling Imbalanced data\n",
    "df['Churn'].value_counts()/df.shape[0]*100"
   ]
  },
  {
   "cell_type": "code",
   "execution_count": 81,
   "metadata": {},
   "outputs": [
    {
     "data": {
      "text/html": [
       "<div>\n",
       "<style scoped>\n",
       "    .dataframe tbody tr th:only-of-type {\n",
       "        vertical-align: middle;\n",
       "    }\n",
       "\n",
       "    .dataframe tbody tr th {\n",
       "        vertical-align: top;\n",
       "    }\n",
       "\n",
       "    .dataframe thead th {\n",
       "        text-align: right;\n",
       "    }\n",
       "</style>\n",
       "<table border=\"1\" class=\"dataframe\">\n",
       "  <thead>\n",
       "    <tr style=\"text-align: right;\">\n",
       "      <th></th>\n",
       "      <th>Dependents</th>\n",
       "      <th>tenure</th>\n",
       "      <th>OnlineSecurity</th>\n",
       "      <th>OnlineBackup</th>\n",
       "      <th>InternetService</th>\n",
       "      <th>DeviceProtection</th>\n",
       "      <th>TechSupport</th>\n",
       "      <th>Contract</th>\n",
       "      <th>PaperlessBilling</th>\n",
       "      <th>MonthlyCharges</th>\n",
       "      <th>Churn</th>\n",
       "    </tr>\n",
       "  </thead>\n",
       "  <tbody>\n",
       "    <tr>\n",
       "      <th>0</th>\n",
       "      <td>1</td>\n",
       "      <td>9</td>\n",
       "      <td>0</td>\n",
       "      <td>0</td>\n",
       "      <td>0</td>\n",
       "      <td>2</td>\n",
       "      <td>2</td>\n",
       "      <td>0</td>\n",
       "      <td>1</td>\n",
       "      <td>72.90</td>\n",
       "      <td>1</td>\n",
       "    </tr>\n",
       "    <tr>\n",
       "      <th>1</th>\n",
       "      <td>0</td>\n",
       "      <td>14</td>\n",
       "      <td>0</td>\n",
       "      <td>2</td>\n",
       "      <td>1</td>\n",
       "      <td>2</td>\n",
       "      <td>0</td>\n",
       "      <td>0</td>\n",
       "      <td>1</td>\n",
       "      <td>82.65</td>\n",
       "      <td>0</td>\n",
       "    </tr>\n",
       "    <tr>\n",
       "      <th>2</th>\n",
       "      <td>0</td>\n",
       "      <td>64</td>\n",
       "      <td>2</td>\n",
       "      <td>0</td>\n",
       "      <td>0</td>\n",
       "      <td>2</td>\n",
       "      <td>2</td>\n",
       "      <td>2</td>\n",
       "      <td>0</td>\n",
       "      <td>47.85</td>\n",
       "      <td>1</td>\n",
       "    </tr>\n",
       "    <tr>\n",
       "      <th>3</th>\n",
       "      <td>0</td>\n",
       "      <td>72</td>\n",
       "      <td>2</td>\n",
       "      <td>2</td>\n",
       "      <td>0</td>\n",
       "      <td>2</td>\n",
       "      <td>2</td>\n",
       "      <td>2</td>\n",
       "      <td>0</td>\n",
       "      <td>69.65</td>\n",
       "      <td>0</td>\n",
       "    </tr>\n",
       "    <tr>\n",
       "      <th>4</th>\n",
       "      <td>0</td>\n",
       "      <td>3</td>\n",
       "      <td>1</td>\n",
       "      <td>1</td>\n",
       "      <td>2</td>\n",
       "      <td>1</td>\n",
       "      <td>1</td>\n",
       "      <td>0</td>\n",
       "      <td>1</td>\n",
       "      <td>23.60</td>\n",
       "      <td>0</td>\n",
       "    </tr>\n",
       "    <tr>\n",
       "      <th>...</th>\n",
       "      <td>...</td>\n",
       "      <td>...</td>\n",
       "      <td>...</td>\n",
       "      <td>...</td>\n",
       "      <td>...</td>\n",
       "      <td>...</td>\n",
       "      <td>...</td>\n",
       "      <td>...</td>\n",
       "      <td>...</td>\n",
       "      <td>...</td>\n",
       "      <td>...</td>\n",
       "    </tr>\n",
       "    <tr>\n",
       "      <th>4925</th>\n",
       "      <td>0</td>\n",
       "      <td>15</td>\n",
       "      <td>0</td>\n",
       "      <td>0</td>\n",
       "      <td>1</td>\n",
       "      <td>2</td>\n",
       "      <td>2</td>\n",
       "      <td>0</td>\n",
       "      <td>1</td>\n",
       "      <td>103.45</td>\n",
       "      <td>0</td>\n",
       "    </tr>\n",
       "    <tr>\n",
       "      <th>4926</th>\n",
       "      <td>1</td>\n",
       "      <td>10</td>\n",
       "      <td>0</td>\n",
       "      <td>0</td>\n",
       "      <td>1</td>\n",
       "      <td>2</td>\n",
       "      <td>2</td>\n",
       "      <td>0</td>\n",
       "      <td>1</td>\n",
       "      <td>91.10</td>\n",
       "      <td>0</td>\n",
       "    </tr>\n",
       "    <tr>\n",
       "      <th>4927</th>\n",
       "      <td>0</td>\n",
       "      <td>58</td>\n",
       "      <td>1</td>\n",
       "      <td>1</td>\n",
       "      <td>2</td>\n",
       "      <td>1</td>\n",
       "      <td>1</td>\n",
       "      <td>2</td>\n",
       "      <td>0</td>\n",
       "      <td>20.75</td>\n",
       "      <td>0</td>\n",
       "    </tr>\n",
       "    <tr>\n",
       "      <th>4928</th>\n",
       "      <td>0</td>\n",
       "      <td>1</td>\n",
       "      <td>0</td>\n",
       "      <td>0</td>\n",
       "      <td>1</td>\n",
       "      <td>0</td>\n",
       "      <td>0</td>\n",
       "      <td>0</td>\n",
       "      <td>1</td>\n",
       "      <td>69.75</td>\n",
       "      <td>1</td>\n",
       "    </tr>\n",
       "    <tr>\n",
       "      <th>4929</th>\n",
       "      <td>1</td>\n",
       "      <td>4</td>\n",
       "      <td>1</td>\n",
       "      <td>1</td>\n",
       "      <td>2</td>\n",
       "      <td>1</td>\n",
       "      <td>1</td>\n",
       "      <td>0</td>\n",
       "      <td>0</td>\n",
       "      <td>20.40</td>\n",
       "      <td>0</td>\n",
       "    </tr>\n",
       "  </tbody>\n",
       "</table>\n",
       "<p>4930 rows × 11 columns</p>\n",
       "</div>"
      ],
      "text/plain": [
       "      Dependents  tenure  OnlineSecurity  OnlineBackup  InternetService  \\\n",
       "0              1       9               0             0                0   \n",
       "1              0      14               0             2                1   \n",
       "2              0      64               2             0                0   \n",
       "3              0      72               2             2                0   \n",
       "4              0       3               1             1                2   \n",
       "...          ...     ...             ...           ...              ...   \n",
       "4925           0      15               0             0                1   \n",
       "4926           1      10               0             0                1   \n",
       "4927           0      58               1             1                2   \n",
       "4928           0       1               0             0                1   \n",
       "4929           1       4               1             1                2   \n",
       "\n",
       "      DeviceProtection  TechSupport  Contract  PaperlessBilling  \\\n",
       "0                    2            2         0                 1   \n",
       "1                    2            0         0                 1   \n",
       "2                    2            2         2                 0   \n",
       "3                    2            2         2                 0   \n",
       "4                    1            1         0                 1   \n",
       "...                ...          ...       ...               ...   \n",
       "4925                 2            2         0                 1   \n",
       "4926                 2            2         0                 1   \n",
       "4927                 1            1         2                 0   \n",
       "4928                 0            0         0                 1   \n",
       "4929                 1            1         0                 0   \n",
       "\n",
       "      MonthlyCharges  Churn  \n",
       "0              72.90      1  \n",
       "1              82.65      0  \n",
       "2              47.85      1  \n",
       "3              69.65      0  \n",
       "4              23.60      0  \n",
       "...              ...    ...  \n",
       "4925          103.45      0  \n",
       "4926           91.10      0  \n",
       "4927           20.75      0  \n",
       "4928           69.75      1  \n",
       "4929           20.40      0  \n",
       "\n",
       "[4930 rows x 11 columns]"
      ]
     },
     "execution_count": 81,
     "metadata": {},
     "output_type": "execute_result"
    }
   ],
   "source": [
    "df"
   ]
  },
  {
   "attachments": {},
   "cell_type": "markdown",
   "metadata": {},
   "source": [
    "Terlihat bahwa data yang kita miliki adalah data yang imbalance, sehingga perlu dilakukan balancing data menggunakan metode SMOTE()"
   ]
  },
  {
   "cell_type": "code",
   "execution_count": 82,
   "metadata": {},
   "outputs": [],
   "source": [
    "# data splitting\n",
    "x = df.drop(columns=['Churn'])\n",
    "y = df['Churn']"
   ]
  },
  {
   "cell_type": "code",
   "execution_count": 83,
   "metadata": {},
   "outputs": [],
   "source": [
    "# untuk Hyperparameter tunning\n",
    "x_train,x_test,y_train,y_test= train_test_split(\n",
    "    x,\n",
    "    y,\n",
    "    stratify=y,\n",
    "    test_size=0.2,\n",
    "    random_state=2023)\n"
   ]
  },
  {
   "cell_type": "code",
   "execution_count": 84,
   "metadata": {},
   "outputs": [
    {
     "data": {
      "text/html": [
       "<div>\n",
       "<style scoped>\n",
       "    .dataframe tbody tr th:only-of-type {\n",
       "        vertical-align: middle;\n",
       "    }\n",
       "\n",
       "    .dataframe tbody tr th {\n",
       "        vertical-align: top;\n",
       "    }\n",
       "\n",
       "    .dataframe thead th {\n",
       "        text-align: right;\n",
       "    }\n",
       "</style>\n",
       "<table border=\"1\" class=\"dataframe\">\n",
       "  <thead>\n",
       "    <tr style=\"text-align: right;\">\n",
       "      <th></th>\n",
       "      <th>tenure</th>\n",
       "      <th>MonthlyCharges</th>\n",
       "    </tr>\n",
       "  </thead>\n",
       "  <tbody>\n",
       "    <tr>\n",
       "      <th>3536</th>\n",
       "      <td>17</td>\n",
       "      <td>80.85</td>\n",
       "    </tr>\n",
       "    <tr>\n",
       "      <th>2277</th>\n",
       "      <td>56</td>\n",
       "      <td>52.70</td>\n",
       "    </tr>\n",
       "    <tr>\n",
       "      <th>417</th>\n",
       "      <td>64</td>\n",
       "      <td>19.55</td>\n",
       "    </tr>\n",
       "    <tr>\n",
       "      <th>4806</th>\n",
       "      <td>12</td>\n",
       "      <td>81.70</td>\n",
       "    </tr>\n",
       "    <tr>\n",
       "      <th>4587</th>\n",
       "      <td>8</td>\n",
       "      <td>20.15</td>\n",
       "    </tr>\n",
       "    <tr>\n",
       "      <th>...</th>\n",
       "      <td>...</td>\n",
       "      <td>...</td>\n",
       "    </tr>\n",
       "    <tr>\n",
       "      <th>2412</th>\n",
       "      <td>1</td>\n",
       "      <td>84.60</td>\n",
       "    </tr>\n",
       "    <tr>\n",
       "      <th>659</th>\n",
       "      <td>4</td>\n",
       "      <td>19.75</td>\n",
       "    </tr>\n",
       "    <tr>\n",
       "      <th>4109</th>\n",
       "      <td>3</td>\n",
       "      <td>80.00</td>\n",
       "    </tr>\n",
       "    <tr>\n",
       "      <th>3608</th>\n",
       "      <td>10</td>\n",
       "      <td>75.05</td>\n",
       "    </tr>\n",
       "    <tr>\n",
       "      <th>3769</th>\n",
       "      <td>72</td>\n",
       "      <td>74.40</td>\n",
       "    </tr>\n",
       "  </tbody>\n",
       "</table>\n",
       "<p>3944 rows × 2 columns</p>\n",
       "</div>"
      ],
      "text/plain": [
       "      tenure  MonthlyCharges\n",
       "3536      17           80.85\n",
       "2277      56           52.70\n",
       "417       64           19.55\n",
       "4806      12           81.70\n",
       "4587       8           20.15\n",
       "...      ...             ...\n",
       "2412       1           84.60\n",
       "659        4           19.75\n",
       "4109       3           80.00\n",
       "3608      10           75.05\n",
       "3769      72           74.40\n",
       "\n",
       "[3944 rows x 2 columns]"
      ]
     },
     "execution_count": 84,
     "metadata": {},
     "output_type": "execute_result"
    }
   ],
   "source": [
    "# mengubah kolom tenure dan monthlycharges menggunakan min_max() scaller untuk mendapatkan angka range 0-1\n",
    "x_train[['tenure', 'MonthlyCharges']]"
   ]
  },
  {
   "cell_type": "code",
   "execution_count": 85,
   "metadata": {},
   "outputs": [],
   "source": [
    "# mengubah kolom tenure dan monthlycharges menggunakan MinMaxScaller untuk mendapatkan angka range 0-1\n",
    "scaler = MinMaxScaler()\n",
    "train_scaler = np.array(x_train[['tenure']]).reshape(-1,1)\n",
    "scaler_fit = scaler.fit(train_scaler)\n",
    "x_train[['tenure']] = scaler_fit.transform(train_scaler)\n",
    "test_scaler = np.array(x_test[['tenure']]).reshape(-1,1)\n",
    "x_test[['tenure']] = scaler_fit.transform(test_scaler)\n",
    "\n",
    "\n",
    "train_scaler = np.array(x_train[['MonthlyCharges']]).reshape(-1,1)\n",
    "scaler_fit = scaler.fit(train_scaler)\n",
    "x_train[['MonthlyCharges']] = scaler_fit.transform(train_scaler)\n",
    "test_scaler = np.array(x_test[['MonthlyCharges']]).reshape(-1,1)\n",
    "x_test[['MonthlyCharges']] = scaler_fit.transform(test_scaler)"
   ]
  },
  {
   "cell_type": "code",
   "execution_count": 86,
   "metadata": {},
   "outputs": [
    {
     "data": {
      "text/html": [
       "<div>\n",
       "<style scoped>\n",
       "    .dataframe tbody tr th:only-of-type {\n",
       "        vertical-align: middle;\n",
       "    }\n",
       "\n",
       "    .dataframe tbody tr th {\n",
       "        vertical-align: top;\n",
       "    }\n",
       "\n",
       "    .dataframe thead th {\n",
       "        text-align: right;\n",
       "    }\n",
       "</style>\n",
       "<table border=\"1\" class=\"dataframe\">\n",
       "  <thead>\n",
       "    <tr style=\"text-align: right;\">\n",
       "      <th></th>\n",
       "      <th>Dependents</th>\n",
       "      <th>tenure</th>\n",
       "      <th>OnlineSecurity</th>\n",
       "      <th>OnlineBackup</th>\n",
       "      <th>InternetService</th>\n",
       "      <th>DeviceProtection</th>\n",
       "      <th>TechSupport</th>\n",
       "      <th>Contract</th>\n",
       "      <th>PaperlessBilling</th>\n",
       "      <th>MonthlyCharges</th>\n",
       "    </tr>\n",
       "  </thead>\n",
       "  <tbody>\n",
       "    <tr>\n",
       "      <th>3536</th>\n",
       "      <td>1</td>\n",
       "      <td>0.236111</td>\n",
       "      <td>0</td>\n",
       "      <td>0</td>\n",
       "      <td>1</td>\n",
       "      <td>0</td>\n",
       "      <td>0</td>\n",
       "      <td>0</td>\n",
       "      <td>0</td>\n",
       "      <td>0.621432</td>\n",
       "    </tr>\n",
       "    <tr>\n",
       "      <th>2277</th>\n",
       "      <td>0</td>\n",
       "      <td>0.777778</td>\n",
       "      <td>2</td>\n",
       "      <td>0</td>\n",
       "      <td>0</td>\n",
       "      <td>2</td>\n",
       "      <td>0</td>\n",
       "      <td>1</td>\n",
       "      <td>0</td>\n",
       "      <td>0.339509</td>\n",
       "    </tr>\n",
       "    <tr>\n",
       "      <th>417</th>\n",
       "      <td>0</td>\n",
       "      <td>0.888889</td>\n",
       "      <td>1</td>\n",
       "      <td>1</td>\n",
       "      <td>2</td>\n",
       "      <td>1</td>\n",
       "      <td>1</td>\n",
       "      <td>2</td>\n",
       "      <td>0</td>\n",
       "      <td>0.007511</td>\n",
       "    </tr>\n",
       "    <tr>\n",
       "      <th>4806</th>\n",
       "      <td>0</td>\n",
       "      <td>0.166667</td>\n",
       "      <td>2</td>\n",
       "      <td>0</td>\n",
       "      <td>1</td>\n",
       "      <td>2</td>\n",
       "      <td>0</td>\n",
       "      <td>0</td>\n",
       "      <td>0</td>\n",
       "      <td>0.629945</td>\n",
       "    </tr>\n",
       "    <tr>\n",
       "      <th>4587</th>\n",
       "      <td>1</td>\n",
       "      <td>0.111111</td>\n",
       "      <td>1</td>\n",
       "      <td>1</td>\n",
       "      <td>2</td>\n",
       "      <td>1</td>\n",
       "      <td>1</td>\n",
       "      <td>2</td>\n",
       "      <td>0</td>\n",
       "      <td>0.013520</td>\n",
       "    </tr>\n",
       "    <tr>\n",
       "      <th>...</th>\n",
       "      <td>...</td>\n",
       "      <td>...</td>\n",
       "      <td>...</td>\n",
       "      <td>...</td>\n",
       "      <td>...</td>\n",
       "      <td>...</td>\n",
       "      <td>...</td>\n",
       "      <td>...</td>\n",
       "      <td>...</td>\n",
       "      <td>...</td>\n",
       "    </tr>\n",
       "    <tr>\n",
       "      <th>2412</th>\n",
       "      <td>0</td>\n",
       "      <td>0.013889</td>\n",
       "      <td>2</td>\n",
       "      <td>0</td>\n",
       "      <td>1</td>\n",
       "      <td>0</td>\n",
       "      <td>0</td>\n",
       "      <td>0</td>\n",
       "      <td>1</td>\n",
       "      <td>0.658988</td>\n",
       "    </tr>\n",
       "    <tr>\n",
       "      <th>659</th>\n",
       "      <td>0</td>\n",
       "      <td>0.055556</td>\n",
       "      <td>1</td>\n",
       "      <td>1</td>\n",
       "      <td>2</td>\n",
       "      <td>1</td>\n",
       "      <td>1</td>\n",
       "      <td>0</td>\n",
       "      <td>0</td>\n",
       "      <td>0.009514</td>\n",
       "    </tr>\n",
       "    <tr>\n",
       "      <th>4109</th>\n",
       "      <td>1</td>\n",
       "      <td>0.041667</td>\n",
       "      <td>0</td>\n",
       "      <td>2</td>\n",
       "      <td>1</td>\n",
       "      <td>0</td>\n",
       "      <td>2</td>\n",
       "      <td>0</td>\n",
       "      <td>1</td>\n",
       "      <td>0.612919</td>\n",
       "    </tr>\n",
       "    <tr>\n",
       "      <th>3608</th>\n",
       "      <td>0</td>\n",
       "      <td>0.138889</td>\n",
       "      <td>0</td>\n",
       "      <td>0</td>\n",
       "      <td>1</td>\n",
       "      <td>0</td>\n",
       "      <td>0</td>\n",
       "      <td>0</td>\n",
       "      <td>0</td>\n",
       "      <td>0.563345</td>\n",
       "    </tr>\n",
       "    <tr>\n",
       "      <th>3769</th>\n",
       "      <td>0</td>\n",
       "      <td>1.000000</td>\n",
       "      <td>2</td>\n",
       "      <td>2</td>\n",
       "      <td>0</td>\n",
       "      <td>2</td>\n",
       "      <td>2</td>\n",
       "      <td>2</td>\n",
       "      <td>0</td>\n",
       "      <td>0.556835</td>\n",
       "    </tr>\n",
       "  </tbody>\n",
       "</table>\n",
       "<p>3944 rows × 10 columns</p>\n",
       "</div>"
      ],
      "text/plain": [
       "      Dependents    tenure  OnlineSecurity  OnlineBackup  InternetService  \\\n",
       "3536           1  0.236111               0             0                1   \n",
       "2277           0  0.777778               2             0                0   \n",
       "417            0  0.888889               1             1                2   \n",
       "4806           0  0.166667               2             0                1   \n",
       "4587           1  0.111111               1             1                2   \n",
       "...          ...       ...             ...           ...              ...   \n",
       "2412           0  0.013889               2             0                1   \n",
       "659            0  0.055556               1             1                2   \n",
       "4109           1  0.041667               0             2                1   \n",
       "3608           0  0.138889               0             0                1   \n",
       "3769           0  1.000000               2             2                0   \n",
       "\n",
       "      DeviceProtection  TechSupport  Contract  PaperlessBilling  \\\n",
       "3536                 0            0         0                 0   \n",
       "2277                 2            0         1                 0   \n",
       "417                  1            1         2                 0   \n",
       "4806                 2            0         0                 0   \n",
       "4587                 1            1         2                 0   \n",
       "...                ...          ...       ...               ...   \n",
       "2412                 0            0         0                 1   \n",
       "659                  1            1         0                 0   \n",
       "4109                 0            2         0                 1   \n",
       "3608                 0            0         0                 0   \n",
       "3769                 2            2         2                 0   \n",
       "\n",
       "      MonthlyCharges  \n",
       "3536        0.621432  \n",
       "2277        0.339509  \n",
       "417         0.007511  \n",
       "4806        0.629945  \n",
       "4587        0.013520  \n",
       "...              ...  \n",
       "2412        0.658988  \n",
       "659         0.009514  \n",
       "4109        0.612919  \n",
       "3608        0.563345  \n",
       "3769        0.556835  \n",
       "\n",
       "[3944 rows x 10 columns]"
      ]
     },
     "execution_count": 86,
     "metadata": {},
     "output_type": "execute_result"
    }
   ],
   "source": [
    "x_train"
   ]
  },
  {
   "cell_type": "code",
   "execution_count": 87,
   "metadata": {},
   "outputs": [
    {
     "data": {
      "text/html": [
       "<div>\n",
       "<style scoped>\n",
       "    .dataframe tbody tr th:only-of-type {\n",
       "        vertical-align: middle;\n",
       "    }\n",
       "\n",
       "    .dataframe tbody tr th {\n",
       "        vertical-align: top;\n",
       "    }\n",
       "\n",
       "    .dataframe thead th {\n",
       "        text-align: right;\n",
       "    }\n",
       "</style>\n",
       "<table border=\"1\" class=\"dataframe\">\n",
       "  <thead>\n",
       "    <tr style=\"text-align: right;\">\n",
       "      <th></th>\n",
       "      <th>tenure</th>\n",
       "      <th>MonthlyCharges</th>\n",
       "    </tr>\n",
       "  </thead>\n",
       "  <tbody>\n",
       "    <tr>\n",
       "      <th>3536</th>\n",
       "      <td>0.236111</td>\n",
       "      <td>0.621432</td>\n",
       "    </tr>\n",
       "    <tr>\n",
       "      <th>2277</th>\n",
       "      <td>0.777778</td>\n",
       "      <td>0.339509</td>\n",
       "    </tr>\n",
       "    <tr>\n",
       "      <th>417</th>\n",
       "      <td>0.888889</td>\n",
       "      <td>0.007511</td>\n",
       "    </tr>\n",
       "    <tr>\n",
       "      <th>4806</th>\n",
       "      <td>0.166667</td>\n",
       "      <td>0.629945</td>\n",
       "    </tr>\n",
       "    <tr>\n",
       "      <th>4587</th>\n",
       "      <td>0.111111</td>\n",
       "      <td>0.013520</td>\n",
       "    </tr>\n",
       "    <tr>\n",
       "      <th>...</th>\n",
       "      <td>...</td>\n",
       "      <td>...</td>\n",
       "    </tr>\n",
       "    <tr>\n",
       "      <th>2412</th>\n",
       "      <td>0.013889</td>\n",
       "      <td>0.658988</td>\n",
       "    </tr>\n",
       "    <tr>\n",
       "      <th>659</th>\n",
       "      <td>0.055556</td>\n",
       "      <td>0.009514</td>\n",
       "    </tr>\n",
       "    <tr>\n",
       "      <th>4109</th>\n",
       "      <td>0.041667</td>\n",
       "      <td>0.612919</td>\n",
       "    </tr>\n",
       "    <tr>\n",
       "      <th>3608</th>\n",
       "      <td>0.138889</td>\n",
       "      <td>0.563345</td>\n",
       "    </tr>\n",
       "    <tr>\n",
       "      <th>3769</th>\n",
       "      <td>1.000000</td>\n",
       "      <td>0.556835</td>\n",
       "    </tr>\n",
       "  </tbody>\n",
       "</table>\n",
       "<p>3944 rows × 2 columns</p>\n",
       "</div>"
      ],
      "text/plain": [
       "        tenure  MonthlyCharges\n",
       "3536  0.236111        0.621432\n",
       "2277  0.777778        0.339509\n",
       "417   0.888889        0.007511\n",
       "4806  0.166667        0.629945\n",
       "4587  0.111111        0.013520\n",
       "...        ...             ...\n",
       "2412  0.013889        0.658988\n",
       "659   0.055556        0.009514\n",
       "4109  0.041667        0.612919\n",
       "3608  0.138889        0.563345\n",
       "3769  1.000000        0.556835\n",
       "\n",
       "[3944 rows x 2 columns]"
      ]
     },
     "execution_count": 87,
     "metadata": {},
     "output_type": "execute_result"
    }
   ],
   "source": [
    "x_train[['tenure', 'MonthlyCharges']]"
   ]
  },
  {
   "cell_type": "code",
   "execution_count": 88,
   "metadata": {},
   "outputs": [],
   "source": [
    "# Handling imbalanced data menggunakan metode SMOTE()\n",
    "from imblearn.over_sampling import SMOTE\n",
    "from imblearn.under_sampling import NearMiss\n",
    "from imblearn.pipeline import make_pipeline\n",
    "from imblearn.metrics import classification_report_imbalanced"
   ]
  },
  {
   "cell_type": "code",
   "execution_count": 89,
   "metadata": {},
   "outputs": [],
   "source": [
    "smote = SMOTE(sampling_strategy=0.8, k_neighbors=5, random_state=2023)\n",
    "x_resampled, y_resampled  =smote.fit_resample(x_train, y_train)"
   ]
  },
  {
   "cell_type": "code",
   "execution_count": 90,
   "metadata": {},
   "outputs": [
    {
     "data": {
      "text/plain": [
       "(5203, 10)"
      ]
     },
     "execution_count": 90,
     "metadata": {},
     "output_type": "execute_result"
    }
   ],
   "source": [
    "x_resampled.shape"
   ]
  },
  {
   "cell_type": "code",
   "execution_count": 91,
   "metadata": {},
   "outputs": [
    {
     "data": {
      "text/plain": [
       "0    55.564098\n",
       "1    44.435902\n",
       "Name: Churn, dtype: float64"
      ]
     },
     "execution_count": 91,
     "metadata": {},
     "output_type": "execute_result"
    }
   ],
   "source": [
    "y_resampled.value_counts()/y_resampled.shape[0]*100"
   ]
  },
  {
   "cell_type": "markdown",
   "metadata": {},
   "source": [
    "## Modeling & Evaluation"
   ]
  },
  {
   "cell_type": "markdown",
   "metadata": {},
   "source": [
    "### Model Benchmarking : K-Fold"
   ]
  },
  {
   "cell_type": "code",
   "execution_count": 92,
   "metadata": {},
   "outputs": [],
   "source": [
    "logreg = LogisticRegression()\n",
    "knn = KNeighborsClassifier()\n",
    "dt = DecisionTreeClassifier()\n",
    "rf = RandomForestClassifier()\n",
    "xgb = XGBClassifier()\n",
    "lgbm = lgb.LGBMClassifier()\n",
    "ada = AdaBoostClassifier()"
   ]
  },
  {
   "cell_type": "code",
   "execution_count": 93,
   "metadata": {},
   "outputs": [
    {
     "data": {
      "text/html": [
       "<div>\n",
       "<style scoped>\n",
       "    .dataframe tbody tr th:only-of-type {\n",
       "        vertical-align: middle;\n",
       "    }\n",
       "\n",
       "    .dataframe tbody tr th {\n",
       "        vertical-align: top;\n",
       "    }\n",
       "\n",
       "    .dataframe thead th {\n",
       "        text-align: right;\n",
       "    }\n",
       "</style>\n",
       "<table border=\"1\" class=\"dataframe\">\n",
       "  <thead>\n",
       "    <tr style=\"text-align: right;\">\n",
       "      <th></th>\n",
       "      <th>mean roc_auc</th>\n",
       "      <th>sdev</th>\n",
       "    </tr>\n",
       "    <tr>\n",
       "      <th>model</th>\n",
       "      <th></th>\n",
       "      <th></th>\n",
       "    </tr>\n",
       "  </thead>\n",
       "  <tbody>\n",
       "    <tr>\n",
       "      <th>AdaBoost</th>\n",
       "      <td>0.842348</td>\n",
       "      <td>0.008787</td>\n",
       "    </tr>\n",
       "    <tr>\n",
       "      <th>Logistic Regression</th>\n",
       "      <td>0.842294</td>\n",
       "      <td>0.007091</td>\n",
       "    </tr>\n",
       "    <tr>\n",
       "      <th>LightGBM</th>\n",
       "      <td>0.829082</td>\n",
       "      <td>0.011707</td>\n",
       "    </tr>\n",
       "    <tr>\n",
       "      <th>XGBoost</th>\n",
       "      <td>0.821686</td>\n",
       "      <td>0.009346</td>\n",
       "    </tr>\n",
       "    <tr>\n",
       "      <th>Random Forest</th>\n",
       "      <td>0.816822</td>\n",
       "      <td>0.010868</td>\n",
       "    </tr>\n",
       "    <tr>\n",
       "      <th>KNN</th>\n",
       "      <td>0.786980</td>\n",
       "      <td>0.014500</td>\n",
       "    </tr>\n",
       "    <tr>\n",
       "      <th>Decision Tree</th>\n",
       "      <td>0.665308</td>\n",
       "      <td>0.026581</td>\n",
       "    </tr>\n",
       "  </tbody>\n",
       "</table>\n",
       "</div>"
      ],
      "text/plain": [
       "                     mean roc_auc      sdev\n",
       "model                                      \n",
       "AdaBoost                 0.842348  0.008787\n",
       "Logistic Regression      0.842294  0.007091\n",
       "LightGBM                 0.829082  0.011707\n",
       "XGBoost                  0.821686  0.009346\n",
       "Random Forest            0.816822  0.010868\n",
       "KNN                      0.786980  0.014500\n",
       "Decision Tree            0.665308  0.026581"
      ]
     },
     "execution_count": 93,
     "metadata": {},
     "output_type": "execute_result"
    }
   ],
   "source": [
    "models = [logreg,knn,dt,rf,xgb,lgbm, ada]\n",
    "score=[]\n",
    "rata=[]\n",
    "std=[]\n",
    "\n",
    "for i in models:\n",
    "    skfold=StratifiedKFold(n_splits=5)\n",
    "    estimator=Pipeline([\n",
    "        ('model',i)])\n",
    "    model_cv=cross_val_score(\n",
    "        estimator,\n",
    "        x_train,\n",
    "        y_train,\n",
    "        cv=skfold,\n",
    "        scoring='roc_auc')\n",
    "\n",
    "    score.append(model_cv)\n",
    "    rata.append(model_cv.mean())\n",
    "    std.append(model_cv.std())\n",
    "    \n",
    "pd.DataFrame({'model':[\n",
    "    'Logistic Regression', \n",
    "    'KNN', \n",
    "    'Decision Tree',\n",
    "    'Random Forest',\n",
    "    'XGBoost',\n",
    "    'LightGBM',\n",
    "    'AdaBoost'\n",
    "    ],\n",
    "    'mean roc_auc':rata,\n",
    "    'sdev':std}).set_index('model').sort_values(by='mean roc_auc',ascending=False)"
   ]
  },
  {
   "cell_type": "code",
   "execution_count": 94,
   "metadata": {},
   "outputs": [
    {
     "data": {
      "text/html": [
       "<div>\n",
       "<style scoped>\n",
       "    .dataframe tbody tr th:only-of-type {\n",
       "        vertical-align: middle;\n",
       "    }\n",
       "\n",
       "    .dataframe tbody tr th {\n",
       "        vertical-align: top;\n",
       "    }\n",
       "\n",
       "    .dataframe thead th {\n",
       "        text-align: right;\n",
       "    }\n",
       "</style>\n",
       "<table border=\"1\" class=\"dataframe\">\n",
       "  <thead>\n",
       "    <tr style=\"text-align: right;\">\n",
       "      <th></th>\n",
       "      <th>mean roc_auc</th>\n",
       "      <th>sdev</th>\n",
       "    </tr>\n",
       "    <tr>\n",
       "      <th>model</th>\n",
       "      <th></th>\n",
       "      <th></th>\n",
       "    </tr>\n",
       "  </thead>\n",
       "  <tbody>\n",
       "    <tr>\n",
       "      <th>Random Forest</th>\n",
       "      <td>0.888803</td>\n",
       "      <td>0.023013</td>\n",
       "    </tr>\n",
       "    <tr>\n",
       "      <th>XGBoost</th>\n",
       "      <td>0.887322</td>\n",
       "      <td>0.036568</td>\n",
       "    </tr>\n",
       "    <tr>\n",
       "      <th>LightGBM</th>\n",
       "      <td>0.882769</td>\n",
       "      <td>0.027114</td>\n",
       "    </tr>\n",
       "    <tr>\n",
       "      <th>AdaBoost</th>\n",
       "      <td>0.859514</td>\n",
       "      <td>0.011803</td>\n",
       "    </tr>\n",
       "    <tr>\n",
       "      <th>KNN</th>\n",
       "      <td>0.853255</td>\n",
       "      <td>0.019908</td>\n",
       "    </tr>\n",
       "    <tr>\n",
       "      <th>Logistic Regression</th>\n",
       "      <td>0.852126</td>\n",
       "      <td>0.012090</td>\n",
       "    </tr>\n",
       "    <tr>\n",
       "      <th>Decision Tree</th>\n",
       "      <td>0.758894</td>\n",
       "      <td>0.026085</td>\n",
       "    </tr>\n",
       "  </tbody>\n",
       "</table>\n",
       "</div>"
      ],
      "text/plain": [
       "                     mean roc_auc      sdev\n",
       "model                                      \n",
       "Random Forest            0.888803  0.023013\n",
       "XGBoost                  0.887322  0.036568\n",
       "LightGBM                 0.882769  0.027114\n",
       "AdaBoost                 0.859514  0.011803\n",
       "KNN                      0.853255  0.019908\n",
       "Logistic Regression      0.852126  0.012090\n",
       "Decision Tree            0.758894  0.026085"
      ]
     },
     "execution_count": 94,
     "metadata": {},
     "output_type": "execute_result"
    }
   ],
   "source": [
    "models = [logreg,knn,dt,rf,xgb,lgbm, ada]\n",
    "score=[]\n",
    "rata=[]\n",
    "std=[]\n",
    "\n",
    "for i in models:\n",
    "    skfold=StratifiedKFold(n_splits=5)\n",
    "    estimator=Pipeline([\n",
    "        ('model',i)])\n",
    "    model_cv=cross_val_score(\n",
    "        estimator,\n",
    "        x_resampled,\n",
    "        y_resampled,\n",
    "        cv=skfold,\n",
    "        scoring='roc_auc')\n",
    "    score.append(model_cv)\n",
    "    rata.append(model_cv.mean())\n",
    "    std.append(model_cv.std())\n",
    "    \n",
    "pd.DataFrame({'model':[\n",
    "    'Logistic Regression',\n",
    "    'KNN', \n",
    "    'Decision Tree', \n",
    "    'Random Forest', \n",
    "    'XGBoost', \n",
    "    'LightGBM', \n",
    "    'AdaBoost'\n",
    "    ],\n",
    "    'mean roc_auc':rata,\n",
    "    'sdev':std}).set_index('model').sort_values(by='mean roc_auc',ascending=False)"
   ]
  },
  {
   "attachments": {},
   "cell_type": "markdown",
   "metadata": {},
   "source": [
    "Pada data yang **`belum`** `dilakukan oversampling + default hyperparameter`, model **AdaBoost** memiliki performa roc_auc yang terbaik. Setelah dilakukan oversampling, pada model terbaik berubah menjadi model XGBoost. Namun, meskipun demikian, model **AdaBoost** yang **`sudah`** `dulakukan oversampling + default hyperparameter` mengalami peningkatan performa dari data yang belum dilakukan oversampling. \n",
    "\n"
   ]
  },
  {
   "cell_type": "markdown",
   "metadata": {},
   "source": [
    "### Model Benchmarking : Test Data"
   ]
  },
  {
   "cell_type": "code",
   "execution_count": 95,
   "metadata": {},
   "outputs": [
    {
     "name": "stdout",
     "output_type": "stream",
     "text": [
      "Logistic Regression \n",
      "               precision    recall  f1-score   support\n",
      "\n",
      "           0       0.83      0.91      0.87       723\n",
      "           1       0.66      0.51      0.57       263\n",
      "\n",
      "    accuracy                           0.80       986\n",
      "   macro avg       0.75      0.71      0.72       986\n",
      "weighted avg       0.79      0.80      0.79       986\n",
      "\n",
      "KNN \n",
      "               precision    recall  f1-score   support\n",
      "\n",
      "           0       0.82      0.88      0.85       723\n",
      "           1       0.58      0.47      0.52       263\n",
      "\n",
      "    accuracy                           0.77       986\n",
      "   macro avg       0.70      0.67      0.68       986\n",
      "weighted avg       0.76      0.77      0.76       986\n",
      "\n",
      "Decision Tree \n",
      "               precision    recall  f1-score   support\n",
      "\n",
      "           0       0.81      0.84      0.83       723\n",
      "           1       0.52      0.46      0.48       263\n",
      "\n",
      "    accuracy                           0.74       986\n",
      "   macro avg       0.66      0.65      0.66       986\n",
      "weighted avg       0.73      0.74      0.74       986\n",
      "\n",
      "Random Forest \n",
      "               precision    recall  f1-score   support\n",
      "\n",
      "           0       0.81      0.89      0.85       723\n",
      "           1       0.59      0.44      0.51       263\n",
      "\n",
      "    accuracy                           0.77       986\n",
      "   macro avg       0.70      0.67      0.68       986\n",
      "weighted avg       0.76      0.77      0.76       986\n",
      "\n",
      "XGBoost \n",
      "               precision    recall  f1-score   support\n",
      "\n",
      "           0       0.82      0.89      0.86       723\n",
      "           1       0.62      0.47      0.53       263\n",
      "\n",
      "    accuracy                           0.78       986\n",
      "   macro avg       0.72      0.68      0.70       986\n",
      "weighted avg       0.77      0.78      0.77       986\n",
      "\n",
      "LightGBM \n",
      "               precision    recall  f1-score   support\n",
      "\n",
      "           0       0.84      0.91      0.87       723\n",
      "           1       0.67      0.51      0.58       263\n",
      "\n",
      "    accuracy                           0.80       986\n",
      "   macro avg       0.75      0.71      0.72       986\n",
      "weighted avg       0.79      0.80      0.79       986\n",
      "\n",
      "AdaBoost \n",
      "               precision    recall  f1-score   support\n",
      "\n",
      "           0       0.83      0.91      0.87       723\n",
      "           1       0.66      0.50      0.57       263\n",
      "\n",
      "    accuracy                           0.80       986\n",
      "   macro avg       0.75      0.70      0.72       986\n",
      "weighted avg       0.79      0.80      0.79       986\n",
      "\n"
     ]
    },
    {
     "data": {
      "text/html": [
       "<div>\n",
       "<style scoped>\n",
       "    .dataframe tbody tr th:only-of-type {\n",
       "        vertical-align: middle;\n",
       "    }\n",
       "\n",
       "    .dataframe tbody tr th {\n",
       "        vertical-align: top;\n",
       "    }\n",
       "\n",
       "    .dataframe thead th {\n",
       "        text-align: right;\n",
       "    }\n",
       "</style>\n",
       "<table border=\"1\" class=\"dataframe\">\n",
       "  <thead>\n",
       "    <tr style=\"text-align: right;\">\n",
       "      <th></th>\n",
       "      <th>roc_auc score</th>\n",
       "    </tr>\n",
       "    <tr>\n",
       "      <th>model</th>\n",
       "      <th></th>\n",
       "    </tr>\n",
       "  </thead>\n",
       "  <tbody>\n",
       "    <tr>\n",
       "      <th>AdaBoost</th>\n",
       "      <td>0.835800</td>\n",
       "    </tr>\n",
       "    <tr>\n",
       "      <th>Logistic Regression</th>\n",
       "      <td>0.834716</td>\n",
       "    </tr>\n",
       "    <tr>\n",
       "      <th>LightGBM</th>\n",
       "      <td>0.827830</td>\n",
       "    </tr>\n",
       "    <tr>\n",
       "      <th>XGBoost</th>\n",
       "      <td>0.812884</td>\n",
       "    </tr>\n",
       "    <tr>\n",
       "      <th>Random Forest</th>\n",
       "      <td>0.801277</td>\n",
       "    </tr>\n",
       "    <tr>\n",
       "      <th>KNN</th>\n",
       "      <td>0.771929</td>\n",
       "    </tr>\n",
       "    <tr>\n",
       "      <th>Decision Tree</th>\n",
       "      <td>0.654134</td>\n",
       "    </tr>\n",
       "  </tbody>\n",
       "</table>\n",
       "</div>"
      ],
      "text/plain": [
       "                     roc_auc score\n",
       "model                             \n",
       "AdaBoost                  0.835800\n",
       "Logistic Regression       0.834716\n",
       "LightGBM                  0.827830\n",
       "XGBoost                   0.812884\n",
       "Random Forest             0.801277\n",
       "KNN                       0.771929\n",
       "Decision Tree             0.654134"
      ]
     },
     "execution_count": 95,
     "metadata": {},
     "output_type": "execute_result"
    }
   ],
   "source": [
    "models = [logreg,knn,dt,rf,xgb,lgbm, ada]\n",
    "score_roc_auc = []\n",
    "\n",
    "def y_pred_func(i):\n",
    "    estimator=Pipeline([\n",
    "        ('model',i)])\n",
    "    x_train,x_test\n",
    "    \n",
    "    estimator.fit(x_train,y_train)\n",
    "    return(estimator,estimator.predict(x_test),x_test)\n",
    "\n",
    "for i,j in zip(models, ['Logistic Regression', 'KNN', 'Decision Tree', 'Random Forest', 'XGBoost','LightGBM', 'AdaBoost']):\n",
    "    estimator,y_pred,x_test = y_pred_func(i)\n",
    "    y_predict_proba = estimator.predict_proba(x_test)[:,1]\n",
    "    score_roc_auc.append(roc_auc_score(y_test,y_predict_proba).mean())\n",
    "    print(j,'\\n', classification_report(y_test,y_pred))\n",
    "    \n",
    "pd.DataFrame({'model':['Logistic Regression', 'KNN', 'Decision Tree', 'Random Forest', 'XGBoost','LightGBM', 'AdaBoost'],\n",
    "             'roc_auc score':score_roc_auc}).set_index('model').sort_values(by='roc_auc score',ascending=False)"
   ]
  },
  {
   "cell_type": "code",
   "execution_count": 96,
   "metadata": {},
   "outputs": [
    {
     "name": "stdout",
     "output_type": "stream",
     "text": [
      "Logistic Regression \n",
      "               precision    recall  f1-score   support\n",
      "\n",
      "           0       0.88      0.77      0.82       723\n",
      "           1       0.53      0.70      0.60       263\n",
      "\n",
      "    accuracy                           0.75       986\n",
      "   macro avg       0.70      0.74      0.71       986\n",
      "weighted avg       0.78      0.75      0.76       986\n",
      "\n",
      "KNN \n",
      "               precision    recall  f1-score   support\n",
      "\n",
      "           0       0.83      0.78      0.80       723\n",
      "           1       0.48      0.57      0.52       263\n",
      "\n",
      "    accuracy                           0.72       986\n",
      "   macro avg       0.66      0.67      0.66       986\n",
      "weighted avg       0.74      0.72      0.73       986\n",
      "\n",
      "Decision Tree \n",
      "               precision    recall  f1-score   support\n",
      "\n",
      "           0       0.81      0.80      0.81       723\n",
      "           1       0.48      0.49      0.49       263\n",
      "\n",
      "    accuracy                           0.72       986\n",
      "   macro avg       0.64      0.65      0.65       986\n",
      "weighted avg       0.72      0.72      0.72       986\n",
      "\n",
      "Random Forest \n",
      "               precision    recall  f1-score   support\n",
      "\n",
      "           0       0.83      0.85      0.84       723\n",
      "           1       0.55      0.52      0.53       263\n",
      "\n",
      "    accuracy                           0.76       986\n",
      "   macro avg       0.69      0.68      0.69       986\n",
      "weighted avg       0.75      0.76      0.76       986\n",
      "\n",
      "XGBoost \n",
      "               precision    recall  f1-score   support\n",
      "\n",
      "           0       0.85      0.84      0.84       723\n",
      "           1       0.57      0.59      0.58       263\n",
      "\n",
      "    accuracy                           0.77       986\n",
      "   macro avg       0.71      0.71      0.71       986\n",
      "weighted avg       0.77      0.77      0.77       986\n",
      "\n",
      "LightGBM \n",
      "               precision    recall  f1-score   support\n",
      "\n",
      "           0       0.86      0.83      0.84       723\n",
      "           1       0.57      0.62      0.60       263\n",
      "\n",
      "    accuracy                           0.77       986\n",
      "   macro avg       0.71      0.73      0.72       986\n",
      "weighted avg       0.78      0.77      0.78       986\n",
      "\n",
      "AdaBoost \n",
      "               precision    recall  f1-score   support\n",
      "\n",
      "           0       0.88      0.78      0.83       723\n",
      "           1       0.54      0.70      0.61       263\n",
      "\n",
      "    accuracy                           0.76       986\n",
      "   macro avg       0.71      0.74      0.72       986\n",
      "weighted avg       0.79      0.76      0.77       986\n",
      "\n"
     ]
    },
    {
     "data": {
      "text/html": [
       "<div>\n",
       "<style scoped>\n",
       "    .dataframe tbody tr th:only-of-type {\n",
       "        vertical-align: middle;\n",
       "    }\n",
       "\n",
       "    .dataframe tbody tr th {\n",
       "        vertical-align: top;\n",
       "    }\n",
       "\n",
       "    .dataframe thead th {\n",
       "        text-align: right;\n",
       "    }\n",
       "</style>\n",
       "<table border=\"1\" class=\"dataframe\">\n",
       "  <thead>\n",
       "    <tr style=\"text-align: right;\">\n",
       "      <th></th>\n",
       "      <th>roc_auc score</th>\n",
       "    </tr>\n",
       "    <tr>\n",
       "      <th>model</th>\n",
       "      <th></th>\n",
       "    </tr>\n",
       "  </thead>\n",
       "  <tbody>\n",
       "    <tr>\n",
       "      <th>AdaBoost</th>\n",
       "      <td>0.831309</td>\n",
       "    </tr>\n",
       "    <tr>\n",
       "      <th>Logistic Regression</th>\n",
       "      <td>0.830909</td>\n",
       "    </tr>\n",
       "    <tr>\n",
       "      <th>LightGBM</th>\n",
       "      <td>0.824561</td>\n",
       "    </tr>\n",
       "    <tr>\n",
       "      <th>XGBoost</th>\n",
       "      <td>0.807425</td>\n",
       "    </tr>\n",
       "    <tr>\n",
       "      <th>Random Forest</th>\n",
       "      <td>0.796189</td>\n",
       "    </tr>\n",
       "    <tr>\n",
       "      <th>KNN</th>\n",
       "      <td>0.758247</td>\n",
       "    </tr>\n",
       "    <tr>\n",
       "      <th>Decision Tree</th>\n",
       "      <td>0.649906</td>\n",
       "    </tr>\n",
       "  </tbody>\n",
       "</table>\n",
       "</div>"
      ],
      "text/plain": [
       "                     roc_auc score\n",
       "model                             \n",
       "AdaBoost                  0.831309\n",
       "Logistic Regression       0.830909\n",
       "LightGBM                  0.824561\n",
       "XGBoost                   0.807425\n",
       "Random Forest             0.796189\n",
       "KNN                       0.758247\n",
       "Decision Tree             0.649906"
      ]
     },
     "execution_count": 96,
     "metadata": {},
     "output_type": "execute_result"
    }
   ],
   "source": [
    "models = [logreg,knn,dt,rf,xgb,lgbm, ada]\n",
    "score_roc_auc = []\n",
    "\n",
    "def y_pred_func(i):\n",
    "    estimator=Pipeline([\n",
    "        ('model',i)])\n",
    "    x_resampled,x_test\n",
    "    \n",
    "    estimator.fit(x_resampled,y_resampled)\n",
    "    return(estimator,estimator.predict(x_test),x_test)\n",
    "\n",
    "for i,j in zip(models, ['Logistic Regression', 'KNN', 'Decision Tree', 'Random Forest', 'XGBoost','LightGBM', 'AdaBoost']):\n",
    "    estimator,y_pred,x_test = y_pred_func(i)\n",
    "    y_predict_proba = estimator.predict_proba(x_test)[:,1]\n",
    "    score_roc_auc.append(roc_auc_score(y_test,y_predict_proba))\n",
    "    print(j,'\\n', classification_report(y_test,y_pred))\n",
    "    \n",
    "pd.DataFrame({'model':['Logistic Regression', 'KNN', 'Decision Tree', 'Random Forest', 'XGBoost','LightGBM', 'AdaBoost'],\n",
    "             'roc_auc score':score_roc_auc}).set_index('model').sort_values(by='roc_auc score',ascending=False)"
   ]
  },
  {
   "attachments": {},
   "cell_type": "markdown",
   "metadata": {},
   "source": [
    "Terlihat kembali lagi model AdaBoost adalah yang terbaik performanya pada test data.\n",
    "\n",
    "Mari sekarang kita coba melakukan oversampling untuk model LightGBM kita untuk melihat apakah kita dapat mendapatkan hasil yang lebih baik lagi.\n"
   ]
  },
  {
   "cell_type": "markdown",
   "metadata": {},
   "source": [
    "### Test Oversampling with K-Fold Cross Validation"
   ]
  },
  {
   "cell_type": "code",
   "execution_count": 97,
   "metadata": {},
   "outputs": [],
   "source": [
    "def calc_train_error(x_train, y_train, models):\n",
    "#returns in-sample error for already fit model.\n",
    "    predictions = models.predict(x_train)\n",
    "    predictProba = models.predict_proba(x_train)\n",
    "    accuracy = accuracy_score(y_train, predictions)\n",
    "    f1 = f1_score(y_train, predictions, average='macro')\n",
    "    roc_auc = roc_auc_score(y_train, predictProba[:,1])\n",
    "    recall = recall_score(y_train, predictions)\n",
    "    precision = precision_score(y_train, predictions)\n",
    "    report = classification_report(y_train, predictions)\n",
    "    return { \n",
    "        'report': report, \n",
    "        'f1' : f1, \n",
    "        'roc': roc_auc, \n",
    "        'accuracy': accuracy,\n",
    "        'recall': recall,\n",
    "        'precision': precision\n",
    "    }\n",
    "    \n",
    "def calc_validation_error(x_test, y_test, models):\n",
    "#     '''returns out-of-sample error for already fit model.'''\n",
    "    predictions = models.predict(x_test)\n",
    "    predictProba = models.predict_proba(x_test)\n",
    "    accuracy = accuracy_score(y_test, predictions)\n",
    "    f1 = f1_score(y_test, predictions, average='macro')\n",
    "    roc_auc = roc_auc_score(y_test, predictProba[:,1])\n",
    "    recall = recall_score(y_test, predictions)\n",
    "    precision = precision_score(y_test, predictions)\n",
    "    report = classification_report(y_test, predictions)\n",
    "    return { \n",
    "        'report': report, \n",
    "        'f1' : f1, \n",
    "        'roc': roc_auc, \n",
    "        'accuracy': accuracy,\n",
    "        'recall': recall,\n",
    "        'precision': precision\n",
    "    }\n",
    "    \n",
    "def calc_metrics(x_train, y_train, x_test, y_test, models):\n",
    "#     '''fits model and returns the in-sample error and out-of-sample error'''\n",
    "    models.fit(x_train, y_train)\n",
    "    train_error = calc_train_error(x_train, y_train, models)\n",
    "    validation_error = calc_validation_error(x_test, y_test, models)\n",
    "    return train_error, validation_error"
   ]
  },
  {
   "cell_type": "code",
   "execution_count": 98,
   "metadata": {},
   "outputs": [],
   "source": [
    "from sklearn.model_selection import StratifiedKFold\n",
    "\n",
    "K = 10\n",
    "kf = StratifiedKFold(n_splits=K, shuffle=True, random_state=42)"
   ]
  },
  {
   "cell_type": "code",
   "execution_count": 99,
   "metadata": {},
   "outputs": [],
   "source": [
    "data = x_train\n",
    "target = y_train"
   ]
  },
  {
   "cell_type": "code",
   "execution_count": 103,
   "metadata": {},
   "outputs": [],
   "source": [
    "train_errors_without_oversampling = []\n",
    "validation_errors_without_oversampling = []\n",
    "\n",
    "train_errors_with_oversampling = []\n",
    "validation_errors_with_oversampling = []\n",
    "\n",
    "for train_index, val_index in kf.split(data, target):\n",
    "    \n",
    "    # split data\n",
    "    x_train, x_val = data.iloc[train_index], data.iloc[val_index]\n",
    "    y_train, y_val = target.iloc[train_index], target.iloc[val_index]\n",
    "    \n",
    "#     print(len(X_val), (len(X_train) + len(X_val)))\n",
    "    smote = SMOTE()\n",
    "\n",
    "    x_resampled, y_resampled = smote.fit_resample(x_train, y_train)\n",
    "\n",
    "    # instantiate model\n",
    "    ada = AdaBoostClassifier()\n",
    "    estimator=Pipeline([\n",
    "        ('model',ada)\n",
    "    ])\n",
    "\n",
    "    #calculate errors\n",
    "    train_error_without_oversampling, val_error_without_oversampling = calc_metrics(x_train, y_train, x_val, y_val, estimator)\n",
    "    train_error_with_oversampling, val_error_with_oversampling = calc_metrics(x_resampled, y_resampled, x_val, y_val, estimator)\n",
    "    \n",
    "    # append to appropriate list\n",
    "    train_errors_without_oversampling.append(train_error_without_oversampling)\n",
    "    validation_errors_without_oversampling.append(val_error_without_oversampling)\n",
    "    \n",
    "    train_errors_with_oversampling.append(train_error_with_oversampling)\n",
    "    validation_errors_with_oversampling.append(val_error_with_oversampling)"
   ]
  },
  {
   "cell_type": "markdown",
   "metadata": {},
   "source": [
    "#### Evaluation Metrics Without Oversampling"
   ]
  },
  {
   "cell_type": "code",
   "execution_count": 104,
   "metadata": {},
   "outputs": [
    {
     "data": {
      "text/html": [
       "<div>\n",
       "<style scoped>\n",
       "    .dataframe tbody tr th:only-of-type {\n",
       "        vertical-align: middle;\n",
       "    }\n",
       "\n",
       "    .dataframe tbody tr th {\n",
       "        vertical-align: top;\n",
       "    }\n",
       "\n",
       "    .dataframe thead th {\n",
       "        text-align: right;\n",
       "    }\n",
       "</style>\n",
       "<table border=\"1\" class=\"dataframe\">\n",
       "  <thead>\n",
       "    <tr style=\"text-align: right;\">\n",
       "      <th></th>\n",
       "      <th>Train Accuracy</th>\n",
       "      <th>Test Accuracy</th>\n",
       "      <th>Train ROC AUC</th>\n",
       "      <th>Test ROC AUC</th>\n",
       "      <th>Train F1 Score</th>\n",
       "      <th>Test F1 Score</th>\n",
       "      <th>Train Recall</th>\n",
       "      <th>Test Recall</th>\n",
       "      <th>Train Precision</th>\n",
       "      <th>Test Precision</th>\n",
       "    </tr>\n",
       "  </thead>\n",
       "  <tbody>\n",
       "    <tr>\n",
       "      <th>0</th>\n",
       "      <td>0.801916</td>\n",
       "      <td>0.820253</td>\n",
       "      <td>0.859626</td>\n",
       "      <td>0.853872</td>\n",
       "      <td>0.727789</td>\n",
       "      <td>0.758285</td>\n",
       "      <td>0.524815</td>\n",
       "      <td>0.584906</td>\n",
       "      <td>0.662667</td>\n",
       "      <td>0.696629</td>\n",
       "    </tr>\n",
       "    <tr>\n",
       "      <th>1</th>\n",
       "      <td>0.804452</td>\n",
       "      <td>0.794937</td>\n",
       "      <td>0.860257</td>\n",
       "      <td>0.844829</td>\n",
       "      <td>0.733944</td>\n",
       "      <td>0.722316</td>\n",
       "      <td>0.542767</td>\n",
       "      <td>0.528302</td>\n",
       "      <td>0.663226</td>\n",
       "      <td>0.643678</td>\n",
       "    </tr>\n",
       "    <tr>\n",
       "      <th>2</th>\n",
       "      <td>0.806706</td>\n",
       "      <td>0.794937</td>\n",
       "      <td>0.862795</td>\n",
       "      <td>0.823937</td>\n",
       "      <td>0.735966</td>\n",
       "      <td>0.733208</td>\n",
       "      <td>0.541711</td>\n",
       "      <td>0.584906</td>\n",
       "      <td>0.670588</td>\n",
       "      <td>0.626263</td>\n",
       "    </tr>\n",
       "    <tr>\n",
       "      <th>3</th>\n",
       "      <td>0.810651</td>\n",
       "      <td>0.787342</td>\n",
       "      <td>0.860303</td>\n",
       "      <td>0.847274</td>\n",
       "      <td>0.740108</td>\n",
       "      <td>0.711016</td>\n",
       "      <td>0.542194</td>\n",
       "      <td>0.514286</td>\n",
       "      <td>0.683511</td>\n",
       "      <td>0.620690</td>\n",
       "    </tr>\n",
       "    <tr>\n",
       "      <th>4</th>\n",
       "      <td>0.806761</td>\n",
       "      <td>0.794416</td>\n",
       "      <td>0.860072</td>\n",
       "      <td>0.856995</td>\n",
       "      <td>0.740684</td>\n",
       "      <td>0.720119</td>\n",
       "      <td>0.565401</td>\n",
       "      <td>0.523810</td>\n",
       "      <td>0.661728</td>\n",
       "      <td>0.639535</td>\n",
       "    </tr>\n",
       "    <tr>\n",
       "      <th>5</th>\n",
       "      <td>0.807887</td>\n",
       "      <td>0.781726</td>\n",
       "      <td>0.862861</td>\n",
       "      <td>0.814418</td>\n",
       "      <td>0.741801</td>\n",
       "      <td>0.701778</td>\n",
       "      <td>0.565401</td>\n",
       "      <td>0.495238</td>\n",
       "      <td>0.665012</td>\n",
       "      <td>0.611765</td>\n",
       "    </tr>\n",
       "    <tr>\n",
       "      <th>6</th>\n",
       "      <td>0.805070</td>\n",
       "      <td>0.794416</td>\n",
       "      <td>0.860683</td>\n",
       "      <td>0.847042</td>\n",
       "      <td>0.733892</td>\n",
       "      <td>0.724011</td>\n",
       "      <td>0.539030</td>\n",
       "      <td>0.542857</td>\n",
       "      <td>0.667102</td>\n",
       "      <td>0.633333</td>\n",
       "    </tr>\n",
       "    <tr>\n",
       "      <th>7</th>\n",
       "      <td>0.807606</td>\n",
       "      <td>0.791878</td>\n",
       "      <td>0.859302</td>\n",
       "      <td>0.856121</td>\n",
       "      <td>0.739517</td>\n",
       "      <td>0.721560</td>\n",
       "      <td>0.554852</td>\n",
       "      <td>0.542857</td>\n",
       "      <td>0.668361</td>\n",
       "      <td>0.626374</td>\n",
       "    </tr>\n",
       "    <tr>\n",
       "      <th>8</th>\n",
       "      <td>0.799155</td>\n",
       "      <td>0.832487</td>\n",
       "      <td>0.856958</td>\n",
       "      <td>0.882979</td>\n",
       "      <td>0.725708</td>\n",
       "      <td>0.775889</td>\n",
       "      <td>0.527426</td>\n",
       "      <td>0.619048</td>\n",
       "      <td>0.653595</td>\n",
       "      <td>0.714286</td>\n",
       "    </tr>\n",
       "    <tr>\n",
       "      <th>9</th>\n",
       "      <td>0.808169</td>\n",
       "      <td>0.774112</td>\n",
       "      <td>0.863774</td>\n",
       "      <td>0.817631</td>\n",
       "      <td>0.740077</td>\n",
       "      <td>0.673120</td>\n",
       "      <td>0.554852</td>\n",
       "      <td>0.409524</td>\n",
       "      <td>0.670064</td>\n",
       "      <td>0.614286</td>\n",
       "    </tr>\n",
       "    <tr>\n",
       "      <th>Average</th>\n",
       "      <td>0.805837</td>\n",
       "      <td>0.796650</td>\n",
       "      <td>0.860663</td>\n",
       "      <td>0.844510</td>\n",
       "      <td>0.735949</td>\n",
       "      <td>0.724130</td>\n",
       "      <td>0.545845</td>\n",
       "      <td>0.534573</td>\n",
       "      <td>0.666585</td>\n",
       "      <td>0.642684</td>\n",
       "    </tr>\n",
       "  </tbody>\n",
       "</table>\n",
       "</div>"
      ],
      "text/plain": [
       "         Train Accuracy  Test Accuracy  Train ROC AUC  Test ROC AUC  \\\n",
       "0              0.801916       0.820253       0.859626      0.853872   \n",
       "1              0.804452       0.794937       0.860257      0.844829   \n",
       "2              0.806706       0.794937       0.862795      0.823937   \n",
       "3              0.810651       0.787342       0.860303      0.847274   \n",
       "4              0.806761       0.794416       0.860072      0.856995   \n",
       "5              0.807887       0.781726       0.862861      0.814418   \n",
       "6              0.805070       0.794416       0.860683      0.847042   \n",
       "7              0.807606       0.791878       0.859302      0.856121   \n",
       "8              0.799155       0.832487       0.856958      0.882979   \n",
       "9              0.808169       0.774112       0.863774      0.817631   \n",
       "Average        0.805837       0.796650       0.860663      0.844510   \n",
       "\n",
       "         Train F1 Score  Test F1 Score  Train Recall  Test Recall  \\\n",
       "0              0.727789       0.758285      0.524815     0.584906   \n",
       "1              0.733944       0.722316      0.542767     0.528302   \n",
       "2              0.735966       0.733208      0.541711     0.584906   \n",
       "3              0.740108       0.711016      0.542194     0.514286   \n",
       "4              0.740684       0.720119      0.565401     0.523810   \n",
       "5              0.741801       0.701778      0.565401     0.495238   \n",
       "6              0.733892       0.724011      0.539030     0.542857   \n",
       "7              0.739517       0.721560      0.554852     0.542857   \n",
       "8              0.725708       0.775889      0.527426     0.619048   \n",
       "9              0.740077       0.673120      0.554852     0.409524   \n",
       "Average        0.735949       0.724130      0.545845     0.534573   \n",
       "\n",
       "         Train Precision  Test Precision  \n",
       "0               0.662667        0.696629  \n",
       "1               0.663226        0.643678  \n",
       "2               0.670588        0.626263  \n",
       "3               0.683511        0.620690  \n",
       "4               0.661728        0.639535  \n",
       "5               0.665012        0.611765  \n",
       "6               0.667102        0.633333  \n",
       "7               0.668361        0.626374  \n",
       "8               0.653595        0.714286  \n",
       "9               0.670064        0.614286  \n",
       "Average         0.666585        0.642684  "
      ]
     },
     "execution_count": 104,
     "metadata": {},
     "output_type": "execute_result"
    }
   ],
   "source": [
    "listItem = []\n",
    "\n",
    "for tr,val in zip(train_errors_without_oversampling,validation_errors_without_oversampling) :\n",
    "    listItem.append([tr['accuracy'],val['accuracy'],tr['roc'],val['roc'],tr['f1'],val['f1'],\n",
    "                     tr['recall'],val['recall'],tr['precision'],val['precision']])\n",
    "\n",
    "listItem.append(list(np.mean(listItem,axis=0)))\n",
    "    \n",
    "dfEvaluate = pd.DataFrame(listItem, \n",
    "                    columns=['Train Accuracy', \n",
    "                            'Test Accuracy', \n",
    "                            'Train ROC AUC', \n",
    "                            'Test ROC AUC', \n",
    "                            'Train F1 Score',\n",
    "                            'Test F1 Score',\n",
    "                            'Train Recall',\n",
    "                            'Test Recall',\n",
    "                            'Train Precision',\n",
    "                            'Test Precision'])\n",
    "\n",
    "listIndex = list(dfEvaluate.index)\n",
    "listIndex[-1] = 'Average'\n",
    "dfEvaluate.index = listIndex\n",
    "dfEvaluate"
   ]
  },
  {
   "cell_type": "markdown",
   "metadata": {},
   "source": [
    "#### Evaluation Metrics With Oversampling"
   ]
  },
  {
   "cell_type": "code",
   "execution_count": 105,
   "metadata": {},
   "outputs": [
    {
     "data": {
      "text/html": [
       "<div>\n",
       "<style scoped>\n",
       "    .dataframe tbody tr th:only-of-type {\n",
       "        vertical-align: middle;\n",
       "    }\n",
       "\n",
       "    .dataframe tbody tr th {\n",
       "        vertical-align: top;\n",
       "    }\n",
       "\n",
       "    .dataframe thead th {\n",
       "        text-align: right;\n",
       "    }\n",
       "</style>\n",
       "<table border=\"1\" class=\"dataframe\">\n",
       "  <thead>\n",
       "    <tr style=\"text-align: right;\">\n",
       "      <th></th>\n",
       "      <th>Train Accuracy</th>\n",
       "      <th>Test Accuracy</th>\n",
       "      <th>Train ROC AUC</th>\n",
       "      <th>Test ROC AUC</th>\n",
       "      <th>Train F1 Score</th>\n",
       "      <th>Test F1 Score</th>\n",
       "      <th>Train Recall</th>\n",
       "      <th>Test Recall</th>\n",
       "      <th>Train Precision</th>\n",
       "      <th>Test Precision</th>\n",
       "    </tr>\n",
       "  </thead>\n",
       "  <tbody>\n",
       "    <tr>\n",
       "      <th>0</th>\n",
       "      <td>0.789201</td>\n",
       "      <td>0.739241</td>\n",
       "      <td>0.871413</td>\n",
       "      <td>0.860759</td>\n",
       "      <td>0.788644</td>\n",
       "      <td>0.714629</td>\n",
       "      <td>0.840507</td>\n",
       "      <td>0.830189</td>\n",
       "      <td>0.762287</td>\n",
       "      <td>0.508671</td>\n",
       "    </tr>\n",
       "    <tr>\n",
       "      <th>1</th>\n",
       "      <td>0.790161</td>\n",
       "      <td>0.749367</td>\n",
       "      <td>0.865464</td>\n",
       "      <td>0.848126</td>\n",
       "      <td>0.789293</td>\n",
       "      <td>0.721967</td>\n",
       "      <td>0.854343</td>\n",
       "      <td>0.811321</td>\n",
       "      <td>0.757153</td>\n",
       "      <td>0.521212</td>\n",
       "    </tr>\n",
       "    <tr>\n",
       "      <th>2</th>\n",
       "      <td>0.794581</td>\n",
       "      <td>0.706329</td>\n",
       "      <td>0.874276</td>\n",
       "      <td>0.823725</td>\n",
       "      <td>0.793946</td>\n",
       "      <td>0.682123</td>\n",
       "      <td>0.850115</td>\n",
       "      <td>0.801887</td>\n",
       "      <td>0.765133</td>\n",
       "      <td>0.472222</td>\n",
       "    </tr>\n",
       "    <tr>\n",
       "      <th>3</th>\n",
       "      <td>0.780085</td>\n",
       "      <td>0.759494</td>\n",
       "      <td>0.869897</td>\n",
       "      <td>0.849540</td>\n",
       "      <td>0.779646</td>\n",
       "      <td>0.721437</td>\n",
       "      <td>0.824683</td>\n",
       "      <td>0.733333</td>\n",
       "      <td>0.757148</td>\n",
       "      <td>0.534722</td>\n",
       "    </tr>\n",
       "    <tr>\n",
       "      <th>4</th>\n",
       "      <td>0.794197</td>\n",
       "      <td>0.771574</td>\n",
       "      <td>0.874115</td>\n",
       "      <td>0.860471</td>\n",
       "      <td>0.793430</td>\n",
       "      <td>0.743668</td>\n",
       "      <td>0.855111</td>\n",
       "      <td>0.828571</td>\n",
       "      <td>0.762247</td>\n",
       "      <td>0.547170</td>\n",
       "    </tr>\n",
       "    <tr>\n",
       "      <th>5</th>\n",
       "      <td>0.791314</td>\n",
       "      <td>0.733503</td>\n",
       "      <td>0.876077</td>\n",
       "      <td>0.816527</td>\n",
       "      <td>0.790673</td>\n",
       "      <td>0.703677</td>\n",
       "      <td>0.846656</td>\n",
       "      <td>0.780952</td>\n",
       "      <td>0.762284</td>\n",
       "      <td>0.500000</td>\n",
       "    </tr>\n",
       "    <tr>\n",
       "      <th>6</th>\n",
       "      <td>0.793620</td>\n",
       "      <td>0.743655</td>\n",
       "      <td>0.871868</td>\n",
       "      <td>0.844834</td>\n",
       "      <td>0.792959</td>\n",
       "      <td>0.717923</td>\n",
       "      <td>0.850115</td>\n",
       "      <td>0.828571</td>\n",
       "      <td>0.763812</td>\n",
       "      <td>0.511765</td>\n",
       "    </tr>\n",
       "    <tr>\n",
       "      <th>7</th>\n",
       "      <td>0.789777</td>\n",
       "      <td>0.779188</td>\n",
       "      <td>0.873934</td>\n",
       "      <td>0.860438</td>\n",
       "      <td>0.789028</td>\n",
       "      <td>0.749816</td>\n",
       "      <td>0.849347</td>\n",
       "      <td>0.819048</td>\n",
       "      <td>0.758929</td>\n",
       "      <td>0.558442</td>\n",
       "    </tr>\n",
       "    <tr>\n",
       "      <th>8</th>\n",
       "      <td>0.786895</td>\n",
       "      <td>0.771574</td>\n",
       "      <td>0.867496</td>\n",
       "      <td>0.884841</td>\n",
       "      <td>0.786226</td>\n",
       "      <td>0.744620</td>\n",
       "      <td>0.842813</td>\n",
       "      <td>0.838095</td>\n",
       "      <td>0.758037</td>\n",
       "      <td>0.546584</td>\n",
       "    </tr>\n",
       "    <tr>\n",
       "      <th>9</th>\n",
       "      <td>0.792852</td>\n",
       "      <td>0.746193</td>\n",
       "      <td>0.875789</td>\n",
       "      <td>0.810101</td>\n",
       "      <td>0.792188</td>\n",
       "      <td>0.712995</td>\n",
       "      <td>0.849347</td>\n",
       "      <td>0.761905</td>\n",
       "      <td>0.763122</td>\n",
       "      <td>0.516129</td>\n",
       "    </tr>\n",
       "    <tr>\n",
       "      <th>Average</th>\n",
       "      <td>0.790268</td>\n",
       "      <td>0.750012</td>\n",
       "      <td>0.872033</td>\n",
       "      <td>0.845936</td>\n",
       "      <td>0.789604</td>\n",
       "      <td>0.721286</td>\n",
       "      <td>0.846304</td>\n",
       "      <td>0.803387</td>\n",
       "      <td>0.761015</td>\n",
       "      <td>0.521692</td>\n",
       "    </tr>\n",
       "  </tbody>\n",
       "</table>\n",
       "</div>"
      ],
      "text/plain": [
       "         Train Accuracy  Test Accuracy  Train ROC AUC  Test ROC AUC  \\\n",
       "0              0.789201       0.739241       0.871413      0.860759   \n",
       "1              0.790161       0.749367       0.865464      0.848126   \n",
       "2              0.794581       0.706329       0.874276      0.823725   \n",
       "3              0.780085       0.759494       0.869897      0.849540   \n",
       "4              0.794197       0.771574       0.874115      0.860471   \n",
       "5              0.791314       0.733503       0.876077      0.816527   \n",
       "6              0.793620       0.743655       0.871868      0.844834   \n",
       "7              0.789777       0.779188       0.873934      0.860438   \n",
       "8              0.786895       0.771574       0.867496      0.884841   \n",
       "9              0.792852       0.746193       0.875789      0.810101   \n",
       "Average        0.790268       0.750012       0.872033      0.845936   \n",
       "\n",
       "         Train F1 Score  Test F1 Score  Train Recall  Test Recall  \\\n",
       "0              0.788644       0.714629      0.840507     0.830189   \n",
       "1              0.789293       0.721967      0.854343     0.811321   \n",
       "2              0.793946       0.682123      0.850115     0.801887   \n",
       "3              0.779646       0.721437      0.824683     0.733333   \n",
       "4              0.793430       0.743668      0.855111     0.828571   \n",
       "5              0.790673       0.703677      0.846656     0.780952   \n",
       "6              0.792959       0.717923      0.850115     0.828571   \n",
       "7              0.789028       0.749816      0.849347     0.819048   \n",
       "8              0.786226       0.744620      0.842813     0.838095   \n",
       "9              0.792188       0.712995      0.849347     0.761905   \n",
       "Average        0.789604       0.721286      0.846304     0.803387   \n",
       "\n",
       "         Train Precision  Test Precision  \n",
       "0               0.762287        0.508671  \n",
       "1               0.757153        0.521212  \n",
       "2               0.765133        0.472222  \n",
       "3               0.757148        0.534722  \n",
       "4               0.762247        0.547170  \n",
       "5               0.762284        0.500000  \n",
       "6               0.763812        0.511765  \n",
       "7               0.758929        0.558442  \n",
       "8               0.758037        0.546584  \n",
       "9               0.763122        0.516129  \n",
       "Average         0.761015        0.521692  "
      ]
     },
     "execution_count": 105,
     "metadata": {},
     "output_type": "execute_result"
    }
   ],
   "source": [
    "listItem = []\n",
    "\n",
    "for tr,val in zip(train_errors_with_oversampling,validation_errors_with_oversampling) :\n",
    "    listItem.append([tr['accuracy'],val['accuracy'],tr['roc'],val['roc'],tr['f1'],val['f1'],\n",
    "                     tr['recall'],val['recall'],tr['precision'],val['precision']])\n",
    "\n",
    "listItem.append(list(np.mean(listItem,axis=0)))\n",
    "    \n",
    "dfEvaluate = pd.DataFrame(listItem, \n",
    "                    columns=['Train Accuracy', \n",
    "                            'Test Accuracy', \n",
    "                            'Train ROC AUC', \n",
    "                            'Test ROC AUC', \n",
    "                            'Train F1 Score',\n",
    "                            'Test F1 Score',\n",
    "                            'Train Recall',\n",
    "                            'Test Recall',\n",
    "                            'Train Precision',\n",
    "                            'Test Precision'])\n",
    "\n",
    "listIndex = list(dfEvaluate.index)\n",
    "listIndex[-1] = 'Average'\n",
    "dfEvaluate.index = listIndex\n",
    "dfEvaluate"
   ]
  },
  {
   "cell_type": "code",
   "execution_count": 106,
   "metadata": {},
   "outputs": [
    {
     "name": "stdout",
     "output_type": "stream",
     "text": [
      "              precision    recall  f1-score   support\n",
      "\n",
      "           0       0.86      0.91      0.88       289\n",
      "           1       0.70      0.58      0.64       106\n",
      "\n",
      "    accuracy                           0.82       395\n",
      "   macro avg       0.78      0.75      0.76       395\n",
      "weighted avg       0.81      0.82      0.81       395\n",
      "\n",
      "              precision    recall  f1-score   support\n",
      "\n",
      "           0       0.84      0.89      0.86       289\n",
      "           1       0.64      0.53      0.58       106\n",
      "\n",
      "    accuracy                           0.79       395\n",
      "   macro avg       0.74      0.71      0.72       395\n",
      "weighted avg       0.79      0.79      0.79       395\n",
      "\n",
      "              precision    recall  f1-score   support\n",
      "\n",
      "           0       0.85      0.87      0.86       289\n",
      "           1       0.63      0.58      0.60       106\n",
      "\n",
      "    accuracy                           0.79       395\n",
      "   macro avg       0.74      0.73      0.73       395\n",
      "weighted avg       0.79      0.79      0.79       395\n",
      "\n",
      "              precision    recall  f1-score   support\n",
      "\n",
      "           0       0.83      0.89      0.86       290\n",
      "           1       0.62      0.51      0.56       105\n",
      "\n",
      "    accuracy                           0.79       395\n",
      "   macro avg       0.73      0.70      0.71       395\n",
      "weighted avg       0.78      0.79      0.78       395\n",
      "\n",
      "              precision    recall  f1-score   support\n",
      "\n",
      "           0       0.84      0.89      0.86       289\n",
      "           1       0.64      0.52      0.58       105\n",
      "\n",
      "    accuracy                           0.79       394\n",
      "   macro avg       0.74      0.71      0.72       394\n",
      "weighted avg       0.78      0.79      0.79       394\n",
      "\n",
      "              precision    recall  f1-score   support\n",
      "\n",
      "           0       0.83      0.89      0.86       289\n",
      "           1       0.61      0.50      0.55       105\n",
      "\n",
      "    accuracy                           0.78       394\n",
      "   macro avg       0.72      0.69      0.70       394\n",
      "weighted avg       0.77      0.78      0.77       394\n",
      "\n",
      "              precision    recall  f1-score   support\n",
      "\n",
      "           0       0.84      0.89      0.86       289\n",
      "           1       0.63      0.54      0.58       105\n",
      "\n",
      "    accuracy                           0.79       394\n",
      "   macro avg       0.74      0.71      0.72       394\n",
      "weighted avg       0.79      0.79      0.79       394\n",
      "\n",
      "              precision    recall  f1-score   support\n",
      "\n",
      "           0       0.84      0.88      0.86       289\n",
      "           1       0.63      0.54      0.58       105\n",
      "\n",
      "    accuracy                           0.79       394\n",
      "   macro avg       0.73      0.71      0.72       394\n",
      "weighted avg       0.78      0.79      0.79       394\n",
      "\n",
      "              precision    recall  f1-score   support\n",
      "\n",
      "           0       0.87      0.91      0.89       289\n",
      "           1       0.71      0.62      0.66       105\n",
      "\n",
      "    accuracy                           0.83       394\n",
      "   macro avg       0.79      0.76      0.78       394\n",
      "weighted avg       0.83      0.83      0.83       394\n",
      "\n",
      "              precision    recall  f1-score   support\n",
      "\n",
      "           0       0.81      0.91      0.85       289\n",
      "           1       0.61      0.41      0.49       105\n",
      "\n",
      "    accuracy                           0.77       394\n",
      "   macro avg       0.71      0.66      0.67       394\n",
      "weighted avg       0.76      0.77      0.76       394\n",
      "\n"
     ]
    }
   ],
   "source": [
    "for rep in validation_errors_without_oversampling :\n",
    "    print(rep['report'])"
   ]
  },
  {
   "cell_type": "code",
   "execution_count": 107,
   "metadata": {},
   "outputs": [
    {
     "name": "stdout",
     "output_type": "stream",
     "text": [
      "              precision    recall  f1-score   support\n",
      "\n",
      "           0       0.92      0.71      0.80       289\n",
      "           1       0.51      0.83      0.63       106\n",
      "\n",
      "    accuracy                           0.74       395\n",
      "   macro avg       0.71      0.77      0.71       395\n",
      "weighted avg       0.81      0.74      0.75       395\n",
      "\n",
      "              precision    recall  f1-score   support\n",
      "\n",
      "           0       0.91      0.73      0.81       289\n",
      "           1       0.52      0.81      0.63       106\n",
      "\n",
      "    accuracy                           0.75       395\n",
      "   macro avg       0.72      0.77      0.72       395\n",
      "weighted avg       0.81      0.75      0.76       395\n",
      "\n",
      "              precision    recall  f1-score   support\n",
      "\n",
      "           0       0.90      0.67      0.77       289\n",
      "           1       0.47      0.80      0.59       106\n",
      "\n",
      "    accuracy                           0.71       395\n",
      "   macro avg       0.69      0.74      0.68       395\n",
      "weighted avg       0.79      0.71      0.72       395\n",
      "\n",
      "              precision    recall  f1-score   support\n",
      "\n",
      "           0       0.89      0.77      0.82       290\n",
      "           1       0.53      0.73      0.62       105\n",
      "\n",
      "    accuracy                           0.76       395\n",
      "   macro avg       0.71      0.75      0.72       395\n",
      "weighted avg       0.79      0.76      0.77       395\n",
      "\n",
      "              precision    recall  f1-score   support\n",
      "\n",
      "           0       0.92      0.75      0.83       289\n",
      "           1       0.55      0.83      0.66       105\n",
      "\n",
      "    accuracy                           0.77       394\n",
      "   macro avg       0.74      0.79      0.74       394\n",
      "weighted avg       0.82      0.77      0.78       394\n",
      "\n",
      "              precision    recall  f1-score   support\n",
      "\n",
      "           0       0.90      0.72      0.80       289\n",
      "           1       0.50      0.78      0.61       105\n",
      "\n",
      "    accuracy                           0.73       394\n",
      "   macro avg       0.70      0.75      0.70       394\n",
      "weighted avg       0.79      0.73      0.75       394\n",
      "\n",
      "              precision    recall  f1-score   support\n",
      "\n",
      "           0       0.92      0.71      0.80       289\n",
      "           1       0.51      0.83      0.63       105\n",
      "\n",
      "    accuracy                           0.74       394\n",
      "   macro avg       0.72      0.77      0.72       394\n",
      "weighted avg       0.81      0.74      0.76       394\n",
      "\n",
      "              precision    recall  f1-score   support\n",
      "\n",
      "           0       0.92      0.76      0.84       289\n",
      "           1       0.56      0.82      0.66       105\n",
      "\n",
      "    accuracy                           0.78       394\n",
      "   macro avg       0.74      0.79      0.75       394\n",
      "weighted avg       0.82      0.78      0.79       394\n",
      "\n",
      "              precision    recall  f1-score   support\n",
      "\n",
      "           0       0.93      0.75      0.83       289\n",
      "           1       0.55      0.84      0.66       105\n",
      "\n",
      "    accuracy                           0.77       394\n",
      "   macro avg       0.74      0.79      0.74       394\n",
      "weighted avg       0.83      0.77      0.78       394\n",
      "\n",
      "              precision    recall  f1-score   support\n",
      "\n",
      "           0       0.90      0.74      0.81       289\n",
      "           1       0.52      0.76      0.62       105\n",
      "\n",
      "    accuracy                           0.75       394\n",
      "   macro avg       0.71      0.75      0.71       394\n",
      "weighted avg       0.79      0.75      0.76       394\n",
      "\n"
     ]
    }
   ],
   "source": [
    "for rep in validation_errors_with_oversampling :\n",
    "    print(rep['report'])"
   ]
  },
  {
   "attachments": {},
   "cell_type": "markdown",
   "metadata": {},
   "source": [
    "Terlihat bahwa model yang setelah di oversampling memiliki recall dari kedua class yang lebih seimbang. Oleh karena itu untuk kasus kali ini, mari kita gunakan model yang menggunakan oversampling (menggunakan asumsi yang kedua (yaitu kita membutuhkan kandidat potensial yang lebih banyak)).\n",
    "\n",
    "Sekarang mari kita coba melakukan hyperparameter tuning pada model AdaBoost kita untuk mendapatkan hasil yang lebih baik lagi."
   ]
  },
  {
   "cell_type": "markdown",
   "metadata": {},
   "source": [
    "### Hyperparameter Tuning"
   ]
  },
  {
   "cell_type": "code",
   "execution_count": 108,
   "metadata": {},
   "outputs": [],
   "source": [
    "# Hyperparam space AdaBoost\n",
    "hyperparam_space_ada = dict()\n",
    "hyperparam_space_ada['learning_rate'] = [1000, 500, 100, 50, 5, 1, 0.1, 0.5, 0.01, 0.05, 0.001, 0.005, 0.0001, 0.0005]\n",
    "hyperparam_space_ada['n_estimators'] = range(50,1000)\n",
    "\n"
   ]
  },
  {
   "cell_type": "code",
   "execution_count": 112,
   "metadata": {},
   "outputs": [],
   "source": [
    "# Cross validation\n",
    "skf = StratifiedKFold(n_splits=5, shuffle=True, random_state=123)"
   ]
  },
  {
   "cell_type": "code",
   "execution_count": 113,
   "metadata": {},
   "outputs": [],
   "source": [
    "random_search = RandomizedSearchCV( \n",
    "    AdaBoostClassifier(), \n",
    "    hyperparam_space_ada,\n",
    "    n_iter=20, \n",
    "    cv=skf, \n",
    "    verbose=1, \n",
    "    n_jobs=-1, \n",
    "    random_state=2023)"
   ]
  },
  {
   "cell_type": "code",
   "execution_count": 114,
   "metadata": {},
   "outputs": [
    {
     "name": "stdout",
     "output_type": "stream",
     "text": [
      "Fitting 5 folds for each of 20 candidates, totalling 100 fits\n",
      "0.8050704225352112\n",
      "{'n_estimators': 113, 'learning_rate': 0.1}\n"
     ]
    }
   ],
   "source": [
    "random_search_without_oversampling  = random_search.fit(x_train, y_train)\n",
    "print(random_search.best_score_)\n",
    "print(random_search.best_params_)"
   ]
  },
  {
   "cell_type": "code",
   "execution_count": 115,
   "metadata": {},
   "outputs": [
    {
     "name": "stdout",
     "output_type": "stream",
     "text": [
      "Fitting 5 folds for each of 20 candidates, totalling 100 fits\n",
      "0.7953513633340723\n",
      "{'n_estimators': 957, 'learning_rate': 1}\n"
     ]
    }
   ],
   "source": [
    "random_search_with_oversampling = random_search.fit(x_resampled, y_resampled)\n",
    "print(random_search.best_score_)\n",
    "print(random_search.best_params_)"
   ]
  },
  {
   "attachments": {},
   "cell_type": "markdown",
   "metadata": {},
   "source": [
    "hyperparameter tunning pada train data yang belum dilakukan oversample memiliki performa yang lebih baik dibandingan dengan yang sudah dilakukan oversample."
   ]
  },
  {
   "cell_type": "code",
   "execution_count": 116,
   "metadata": {},
   "outputs": [
    {
     "data": {
      "text/html": [
       "<style>#sk-container-id-1 {color: black;background-color: white;}#sk-container-id-1 pre{padding: 0;}#sk-container-id-1 div.sk-toggleable {background-color: white;}#sk-container-id-1 label.sk-toggleable__label {cursor: pointer;display: block;width: 100%;margin-bottom: 0;padding: 0.3em;box-sizing: border-box;text-align: center;}#sk-container-id-1 label.sk-toggleable__label-arrow:before {content: \"▸\";float: left;margin-right: 0.25em;color: #696969;}#sk-container-id-1 label.sk-toggleable__label-arrow:hover:before {color: black;}#sk-container-id-1 div.sk-estimator:hover label.sk-toggleable__label-arrow:before {color: black;}#sk-container-id-1 div.sk-toggleable__content {max-height: 0;max-width: 0;overflow: hidden;text-align: left;background-color: #f0f8ff;}#sk-container-id-1 div.sk-toggleable__content pre {margin: 0.2em;color: black;border-radius: 0.25em;background-color: #f0f8ff;}#sk-container-id-1 input.sk-toggleable__control:checked~div.sk-toggleable__content {max-height: 200px;max-width: 100%;overflow: auto;}#sk-container-id-1 input.sk-toggleable__control:checked~label.sk-toggleable__label-arrow:before {content: \"▾\";}#sk-container-id-1 div.sk-estimator input.sk-toggleable__control:checked~label.sk-toggleable__label {background-color: #d4ebff;}#sk-container-id-1 div.sk-label input.sk-toggleable__control:checked~label.sk-toggleable__label {background-color: #d4ebff;}#sk-container-id-1 input.sk-hidden--visually {border: 0;clip: rect(1px 1px 1px 1px);clip: rect(1px, 1px, 1px, 1px);height: 1px;margin: -1px;overflow: hidden;padding: 0;position: absolute;width: 1px;}#sk-container-id-1 div.sk-estimator {font-family: monospace;background-color: #f0f8ff;border: 1px dotted black;border-radius: 0.25em;box-sizing: border-box;margin-bottom: 0.5em;}#sk-container-id-1 div.sk-estimator:hover {background-color: #d4ebff;}#sk-container-id-1 div.sk-parallel-item::after {content: \"\";width: 100%;border-bottom: 1px solid gray;flex-grow: 1;}#sk-container-id-1 div.sk-label:hover label.sk-toggleable__label {background-color: #d4ebff;}#sk-container-id-1 div.sk-serial::before {content: \"\";position: absolute;border-left: 1px solid gray;box-sizing: border-box;top: 0;bottom: 0;left: 50%;z-index: 0;}#sk-container-id-1 div.sk-serial {display: flex;flex-direction: column;align-items: center;background-color: white;padding-right: 0.2em;padding-left: 0.2em;position: relative;}#sk-container-id-1 div.sk-item {position: relative;z-index: 1;}#sk-container-id-1 div.sk-parallel {display: flex;align-items: stretch;justify-content: center;background-color: white;position: relative;}#sk-container-id-1 div.sk-item::before, #sk-container-id-1 div.sk-parallel-item::before {content: \"\";position: absolute;border-left: 1px solid gray;box-sizing: border-box;top: 0;bottom: 0;left: 50%;z-index: -1;}#sk-container-id-1 div.sk-parallel-item {display: flex;flex-direction: column;z-index: 1;position: relative;background-color: white;}#sk-container-id-1 div.sk-parallel-item:first-child::after {align-self: flex-end;width: 50%;}#sk-container-id-1 div.sk-parallel-item:last-child::after {align-self: flex-start;width: 50%;}#sk-container-id-1 div.sk-parallel-item:only-child::after {width: 0;}#sk-container-id-1 div.sk-dashed-wrapped {border: 1px dashed gray;margin: 0 0.4em 0.5em 0.4em;box-sizing: border-box;padding-bottom: 0.4em;background-color: white;}#sk-container-id-1 div.sk-label label {font-family: monospace;font-weight: bold;display: inline-block;line-height: 1.2em;}#sk-container-id-1 div.sk-label-container {text-align: center;}#sk-container-id-1 div.sk-container {/* jupyter's `normalize.less` sets `[hidden] { display: none; }` but bootstrap.min.css set `[hidden] { display: none !important; }` so we also need the `!important` here to be able to override the default hidden behavior on the sphinx rendered scikit-learn.org. See: https://github.com/scikit-learn/scikit-learn/issues/21755 */display: inline-block !important;position: relative;}#sk-container-id-1 div.sk-text-repr-fallback {display: none;}</style><div id=\"sk-container-id-1\" class=\"sk-top-container\"><div class=\"sk-text-repr-fallback\"><pre>AdaBoostClassifier(learning_rate=1, n_estimators=957)</pre><b>In a Jupyter environment, please rerun this cell to show the HTML representation or trust the notebook. <br />On GitHub, the HTML representation is unable to render, please try loading this page with nbviewer.org.</b></div><div class=\"sk-container\" hidden><div class=\"sk-item\"><div class=\"sk-estimator sk-toggleable\"><input class=\"sk-toggleable__control sk-hidden--visually\" id=\"sk-estimator-id-1\" type=\"checkbox\" checked><label for=\"sk-estimator-id-1\" class=\"sk-toggleable__label sk-toggleable__label-arrow\">AdaBoostClassifier</label><div class=\"sk-toggleable__content\"><pre>AdaBoostClassifier(learning_rate=1, n_estimators=957)</pre></div></div></div></div></div>"
      ],
      "text/plain": [
       "AdaBoostClassifier(learning_rate=1, n_estimators=957)"
      ]
     },
     "execution_count": 116,
     "metadata": {},
     "output_type": "execute_result"
    }
   ],
   "source": [
    "best_model_without_oversampling = random_search_without_oversampling.best_estimator_\n",
    "best_model_without_oversampling.fit(x_train, y_train)"
   ]
  },
  {
   "cell_type": "code",
   "execution_count": 117,
   "metadata": {},
   "outputs": [
    {
     "data": {
      "text/html": [
       "<style>#sk-container-id-2 {color: black;background-color: white;}#sk-container-id-2 pre{padding: 0;}#sk-container-id-2 div.sk-toggleable {background-color: white;}#sk-container-id-2 label.sk-toggleable__label {cursor: pointer;display: block;width: 100%;margin-bottom: 0;padding: 0.3em;box-sizing: border-box;text-align: center;}#sk-container-id-2 label.sk-toggleable__label-arrow:before {content: \"▸\";float: left;margin-right: 0.25em;color: #696969;}#sk-container-id-2 label.sk-toggleable__label-arrow:hover:before {color: black;}#sk-container-id-2 div.sk-estimator:hover label.sk-toggleable__label-arrow:before {color: black;}#sk-container-id-2 div.sk-toggleable__content {max-height: 0;max-width: 0;overflow: hidden;text-align: left;background-color: #f0f8ff;}#sk-container-id-2 div.sk-toggleable__content pre {margin: 0.2em;color: black;border-radius: 0.25em;background-color: #f0f8ff;}#sk-container-id-2 input.sk-toggleable__control:checked~div.sk-toggleable__content {max-height: 200px;max-width: 100%;overflow: auto;}#sk-container-id-2 input.sk-toggleable__control:checked~label.sk-toggleable__label-arrow:before {content: \"▾\";}#sk-container-id-2 div.sk-estimator input.sk-toggleable__control:checked~label.sk-toggleable__label {background-color: #d4ebff;}#sk-container-id-2 div.sk-label input.sk-toggleable__control:checked~label.sk-toggleable__label {background-color: #d4ebff;}#sk-container-id-2 input.sk-hidden--visually {border: 0;clip: rect(1px 1px 1px 1px);clip: rect(1px, 1px, 1px, 1px);height: 1px;margin: -1px;overflow: hidden;padding: 0;position: absolute;width: 1px;}#sk-container-id-2 div.sk-estimator {font-family: monospace;background-color: #f0f8ff;border: 1px dotted black;border-radius: 0.25em;box-sizing: border-box;margin-bottom: 0.5em;}#sk-container-id-2 div.sk-estimator:hover {background-color: #d4ebff;}#sk-container-id-2 div.sk-parallel-item::after {content: \"\";width: 100%;border-bottom: 1px solid gray;flex-grow: 1;}#sk-container-id-2 div.sk-label:hover label.sk-toggleable__label {background-color: #d4ebff;}#sk-container-id-2 div.sk-serial::before {content: \"\";position: absolute;border-left: 1px solid gray;box-sizing: border-box;top: 0;bottom: 0;left: 50%;z-index: 0;}#sk-container-id-2 div.sk-serial {display: flex;flex-direction: column;align-items: center;background-color: white;padding-right: 0.2em;padding-left: 0.2em;position: relative;}#sk-container-id-2 div.sk-item {position: relative;z-index: 1;}#sk-container-id-2 div.sk-parallel {display: flex;align-items: stretch;justify-content: center;background-color: white;position: relative;}#sk-container-id-2 div.sk-item::before, #sk-container-id-2 div.sk-parallel-item::before {content: \"\";position: absolute;border-left: 1px solid gray;box-sizing: border-box;top: 0;bottom: 0;left: 50%;z-index: -1;}#sk-container-id-2 div.sk-parallel-item {display: flex;flex-direction: column;z-index: 1;position: relative;background-color: white;}#sk-container-id-2 div.sk-parallel-item:first-child::after {align-self: flex-end;width: 50%;}#sk-container-id-2 div.sk-parallel-item:last-child::after {align-self: flex-start;width: 50%;}#sk-container-id-2 div.sk-parallel-item:only-child::after {width: 0;}#sk-container-id-2 div.sk-dashed-wrapped {border: 1px dashed gray;margin: 0 0.4em 0.5em 0.4em;box-sizing: border-box;padding-bottom: 0.4em;background-color: white;}#sk-container-id-2 div.sk-label label {font-family: monospace;font-weight: bold;display: inline-block;line-height: 1.2em;}#sk-container-id-2 div.sk-label-container {text-align: center;}#sk-container-id-2 div.sk-container {/* jupyter's `normalize.less` sets `[hidden] { display: none; }` but bootstrap.min.css set `[hidden] { display: none !important; }` so we also need the `!important` here to be able to override the default hidden behavior on the sphinx rendered scikit-learn.org. See: https://github.com/scikit-learn/scikit-learn/issues/21755 */display: inline-block !important;position: relative;}#sk-container-id-2 div.sk-text-repr-fallback {display: none;}</style><div id=\"sk-container-id-2\" class=\"sk-top-container\"><div class=\"sk-text-repr-fallback\"><pre>AdaBoostClassifier(learning_rate=1, n_estimators=957)</pre><b>In a Jupyter environment, please rerun this cell to show the HTML representation or trust the notebook. <br />On GitHub, the HTML representation is unable to render, please try loading this page with nbviewer.org.</b></div><div class=\"sk-container\" hidden><div class=\"sk-item\"><div class=\"sk-estimator sk-toggleable\"><input class=\"sk-toggleable__control sk-hidden--visually\" id=\"sk-estimator-id-2\" type=\"checkbox\" checked><label for=\"sk-estimator-id-2\" class=\"sk-toggleable__label sk-toggleable__label-arrow\">AdaBoostClassifier</label><div class=\"sk-toggleable__content\"><pre>AdaBoostClassifier(learning_rate=1, n_estimators=957)</pre></div></div></div></div></div>"
      ],
      "text/plain": [
       "AdaBoostClassifier(learning_rate=1, n_estimators=957)"
      ]
     },
     "execution_count": 117,
     "metadata": {},
     "output_type": "execute_result"
    }
   ],
   "source": [
    "best_model_with_oversampling = random_search_with_oversampling.best_estimator_\n",
    "best_model_with_oversampling.fit(x_resampled, y_resampled)"
   ]
  },
  {
   "cell_type": "code",
   "execution_count": 118,
   "metadata": {},
   "outputs": [],
   "source": [
    "# Model tuned\n",
    "model_tuned_without_oversampling = AdaBoostClassifier(**random_search_without_oversampling.best_params_)\n",
    "model_tuned_with_oversampling = AdaBoostClassifier(**random_search_with_oversampling.best_params_)\n"
   ]
  },
  {
   "cell_type": "code",
   "execution_count": 119,
   "metadata": {},
   "outputs": [
    {
     "data": {
      "text/html": [
       "<style>#sk-container-id-3 {color: black;background-color: white;}#sk-container-id-3 pre{padding: 0;}#sk-container-id-3 div.sk-toggleable {background-color: white;}#sk-container-id-3 label.sk-toggleable__label {cursor: pointer;display: block;width: 100%;margin-bottom: 0;padding: 0.3em;box-sizing: border-box;text-align: center;}#sk-container-id-3 label.sk-toggleable__label-arrow:before {content: \"▸\";float: left;margin-right: 0.25em;color: #696969;}#sk-container-id-3 label.sk-toggleable__label-arrow:hover:before {color: black;}#sk-container-id-3 div.sk-estimator:hover label.sk-toggleable__label-arrow:before {color: black;}#sk-container-id-3 div.sk-toggleable__content {max-height: 0;max-width: 0;overflow: hidden;text-align: left;background-color: #f0f8ff;}#sk-container-id-3 div.sk-toggleable__content pre {margin: 0.2em;color: black;border-radius: 0.25em;background-color: #f0f8ff;}#sk-container-id-3 input.sk-toggleable__control:checked~div.sk-toggleable__content {max-height: 200px;max-width: 100%;overflow: auto;}#sk-container-id-3 input.sk-toggleable__control:checked~label.sk-toggleable__label-arrow:before {content: \"▾\";}#sk-container-id-3 div.sk-estimator input.sk-toggleable__control:checked~label.sk-toggleable__label {background-color: #d4ebff;}#sk-container-id-3 div.sk-label input.sk-toggleable__control:checked~label.sk-toggleable__label {background-color: #d4ebff;}#sk-container-id-3 input.sk-hidden--visually {border: 0;clip: rect(1px 1px 1px 1px);clip: rect(1px, 1px, 1px, 1px);height: 1px;margin: -1px;overflow: hidden;padding: 0;position: absolute;width: 1px;}#sk-container-id-3 div.sk-estimator {font-family: monospace;background-color: #f0f8ff;border: 1px dotted black;border-radius: 0.25em;box-sizing: border-box;margin-bottom: 0.5em;}#sk-container-id-3 div.sk-estimator:hover {background-color: #d4ebff;}#sk-container-id-3 div.sk-parallel-item::after {content: \"\";width: 100%;border-bottom: 1px solid gray;flex-grow: 1;}#sk-container-id-3 div.sk-label:hover label.sk-toggleable__label {background-color: #d4ebff;}#sk-container-id-3 div.sk-serial::before {content: \"\";position: absolute;border-left: 1px solid gray;box-sizing: border-box;top: 0;bottom: 0;left: 50%;z-index: 0;}#sk-container-id-3 div.sk-serial {display: flex;flex-direction: column;align-items: center;background-color: white;padding-right: 0.2em;padding-left: 0.2em;position: relative;}#sk-container-id-3 div.sk-item {position: relative;z-index: 1;}#sk-container-id-3 div.sk-parallel {display: flex;align-items: stretch;justify-content: center;background-color: white;position: relative;}#sk-container-id-3 div.sk-item::before, #sk-container-id-3 div.sk-parallel-item::before {content: \"\";position: absolute;border-left: 1px solid gray;box-sizing: border-box;top: 0;bottom: 0;left: 50%;z-index: -1;}#sk-container-id-3 div.sk-parallel-item {display: flex;flex-direction: column;z-index: 1;position: relative;background-color: white;}#sk-container-id-3 div.sk-parallel-item:first-child::after {align-self: flex-end;width: 50%;}#sk-container-id-3 div.sk-parallel-item:last-child::after {align-self: flex-start;width: 50%;}#sk-container-id-3 div.sk-parallel-item:only-child::after {width: 0;}#sk-container-id-3 div.sk-dashed-wrapped {border: 1px dashed gray;margin: 0 0.4em 0.5em 0.4em;box-sizing: border-box;padding-bottom: 0.4em;background-color: white;}#sk-container-id-3 div.sk-label label {font-family: monospace;font-weight: bold;display: inline-block;line-height: 1.2em;}#sk-container-id-3 div.sk-label-container {text-align: center;}#sk-container-id-3 div.sk-container {/* jupyter's `normalize.less` sets `[hidden] { display: none; }` but bootstrap.min.css set `[hidden] { display: none !important; }` so we also need the `!important` here to be able to override the default hidden behavior on the sphinx rendered scikit-learn.org. See: https://github.com/scikit-learn/scikit-learn/issues/21755 */display: inline-block !important;position: relative;}#sk-container-id-3 div.sk-text-repr-fallback {display: none;}</style><div id=\"sk-container-id-3\" class=\"sk-top-container\"><div class=\"sk-text-repr-fallback\"><pre>AdaBoostClassifier(learning_rate=1, n_estimators=957)</pre><b>In a Jupyter environment, please rerun this cell to show the HTML representation or trust the notebook. <br />On GitHub, the HTML representation is unable to render, please try loading this page with nbviewer.org.</b></div><div class=\"sk-container\" hidden><div class=\"sk-item\"><div class=\"sk-estimator sk-toggleable\"><input class=\"sk-toggleable__control sk-hidden--visually\" id=\"sk-estimator-id-3\" type=\"checkbox\" checked><label for=\"sk-estimator-id-3\" class=\"sk-toggleable__label sk-toggleable__label-arrow\">AdaBoostClassifier</label><div class=\"sk-toggleable__content\"><pre>AdaBoostClassifier(learning_rate=1, n_estimators=957)</pre></div></div></div></div></div>"
      ],
      "text/plain": [
       "AdaBoostClassifier(learning_rate=1, n_estimators=957)"
      ]
     },
     "execution_count": 119,
     "metadata": {},
     "output_type": "execute_result"
    }
   ],
   "source": [
    "model_tuned_without_oversampling"
   ]
  },
  {
   "cell_type": "code",
   "execution_count": 120,
   "metadata": {},
   "outputs": [
    {
     "data": {
      "text/html": [
       "<style>#sk-container-id-4 {color: black;background-color: white;}#sk-container-id-4 pre{padding: 0;}#sk-container-id-4 div.sk-toggleable {background-color: white;}#sk-container-id-4 label.sk-toggleable__label {cursor: pointer;display: block;width: 100%;margin-bottom: 0;padding: 0.3em;box-sizing: border-box;text-align: center;}#sk-container-id-4 label.sk-toggleable__label-arrow:before {content: \"▸\";float: left;margin-right: 0.25em;color: #696969;}#sk-container-id-4 label.sk-toggleable__label-arrow:hover:before {color: black;}#sk-container-id-4 div.sk-estimator:hover label.sk-toggleable__label-arrow:before {color: black;}#sk-container-id-4 div.sk-toggleable__content {max-height: 0;max-width: 0;overflow: hidden;text-align: left;background-color: #f0f8ff;}#sk-container-id-4 div.sk-toggleable__content pre {margin: 0.2em;color: black;border-radius: 0.25em;background-color: #f0f8ff;}#sk-container-id-4 input.sk-toggleable__control:checked~div.sk-toggleable__content {max-height: 200px;max-width: 100%;overflow: auto;}#sk-container-id-4 input.sk-toggleable__control:checked~label.sk-toggleable__label-arrow:before {content: \"▾\";}#sk-container-id-4 div.sk-estimator input.sk-toggleable__control:checked~label.sk-toggleable__label {background-color: #d4ebff;}#sk-container-id-4 div.sk-label input.sk-toggleable__control:checked~label.sk-toggleable__label {background-color: #d4ebff;}#sk-container-id-4 input.sk-hidden--visually {border: 0;clip: rect(1px 1px 1px 1px);clip: rect(1px, 1px, 1px, 1px);height: 1px;margin: -1px;overflow: hidden;padding: 0;position: absolute;width: 1px;}#sk-container-id-4 div.sk-estimator {font-family: monospace;background-color: #f0f8ff;border: 1px dotted black;border-radius: 0.25em;box-sizing: border-box;margin-bottom: 0.5em;}#sk-container-id-4 div.sk-estimator:hover {background-color: #d4ebff;}#sk-container-id-4 div.sk-parallel-item::after {content: \"\";width: 100%;border-bottom: 1px solid gray;flex-grow: 1;}#sk-container-id-4 div.sk-label:hover label.sk-toggleable__label {background-color: #d4ebff;}#sk-container-id-4 div.sk-serial::before {content: \"\";position: absolute;border-left: 1px solid gray;box-sizing: border-box;top: 0;bottom: 0;left: 50%;z-index: 0;}#sk-container-id-4 div.sk-serial {display: flex;flex-direction: column;align-items: center;background-color: white;padding-right: 0.2em;padding-left: 0.2em;position: relative;}#sk-container-id-4 div.sk-item {position: relative;z-index: 1;}#sk-container-id-4 div.sk-parallel {display: flex;align-items: stretch;justify-content: center;background-color: white;position: relative;}#sk-container-id-4 div.sk-item::before, #sk-container-id-4 div.sk-parallel-item::before {content: \"\";position: absolute;border-left: 1px solid gray;box-sizing: border-box;top: 0;bottom: 0;left: 50%;z-index: -1;}#sk-container-id-4 div.sk-parallel-item {display: flex;flex-direction: column;z-index: 1;position: relative;background-color: white;}#sk-container-id-4 div.sk-parallel-item:first-child::after {align-self: flex-end;width: 50%;}#sk-container-id-4 div.sk-parallel-item:last-child::after {align-self: flex-start;width: 50%;}#sk-container-id-4 div.sk-parallel-item:only-child::after {width: 0;}#sk-container-id-4 div.sk-dashed-wrapped {border: 1px dashed gray;margin: 0 0.4em 0.5em 0.4em;box-sizing: border-box;padding-bottom: 0.4em;background-color: white;}#sk-container-id-4 div.sk-label label {font-family: monospace;font-weight: bold;display: inline-block;line-height: 1.2em;}#sk-container-id-4 div.sk-label-container {text-align: center;}#sk-container-id-4 div.sk-container {/* jupyter's `normalize.less` sets `[hidden] { display: none; }` but bootstrap.min.css set `[hidden] { display: none !important; }` so we also need the `!important` here to be able to override the default hidden behavior on the sphinx rendered scikit-learn.org. See: https://github.com/scikit-learn/scikit-learn/issues/21755 */display: inline-block !important;position: relative;}#sk-container-id-4 div.sk-text-repr-fallback {display: none;}</style><div id=\"sk-container-id-4\" class=\"sk-top-container\"><div class=\"sk-text-repr-fallback\"><pre>AdaBoostClassifier(learning_rate=1, n_estimators=957)</pre><b>In a Jupyter environment, please rerun this cell to show the HTML representation or trust the notebook. <br />On GitHub, the HTML representation is unable to render, please try loading this page with nbviewer.org.</b></div><div class=\"sk-container\" hidden><div class=\"sk-item\"><div class=\"sk-estimator sk-toggleable\"><input class=\"sk-toggleable__control sk-hidden--visually\" id=\"sk-estimator-id-4\" type=\"checkbox\" checked><label for=\"sk-estimator-id-4\" class=\"sk-toggleable__label sk-toggleable__label-arrow\">AdaBoostClassifier</label><div class=\"sk-toggleable__content\"><pre>AdaBoostClassifier(learning_rate=1, n_estimators=957)</pre></div></div></div></div></div>"
      ],
      "text/plain": [
       "AdaBoostClassifier(learning_rate=1, n_estimators=957)"
      ]
     },
     "execution_count": 120,
     "metadata": {},
     "output_type": "execute_result"
    }
   ],
   "source": [
    "model_tuned_with_oversampling"
   ]
  },
  {
   "cell_type": "code",
   "execution_count": 121,
   "metadata": {},
   "outputs": [],
   "source": [
    "from yellowbrick.classifier import ConfusionMatrix\n",
    "from yellowbrick.model_selection import FeatureImportances"
   ]
  },
  {
   "cell_type": "code",
   "execution_count": 122,
   "metadata": {},
   "outputs": [],
   "source": [
    "# fit model tuned\n",
    "model_tuned_with_oversampling2 = model_tuned_with_oversampling.fit(x_resampled, y_resampled)\n",
    "model_tuned_without_oversampling2 = model_tuned_without_oversampling.fit(x_train, y_train)"
   ]
  },
  {
   "attachments": {},
   "cell_type": "markdown",
   "metadata": {},
   "source": [
    "### Confusion Matrix"
   ]
  },
  {
   "cell_type": "code",
   "execution_count": 123,
   "metadata": {},
   "outputs": [
    {
     "data": {
      "image/png": "[encoded data removed]",
      "text/plain": [
       "<Figure size 800x550 with 1 Axes>"
      ]
     },
     "metadata": {},
     "output_type": "display_data"
    },
    {
     "data": {
      "text/plain": [
       "<AxesSubplot: title={'center': 'AdaBoostClassifier Confusion Matrix'}, xlabel='Predicted Class', ylabel='True Class'>"
      ]
     },
     "execution_count": 123,
     "metadata": {},
     "output_type": "execute_result"
    }
   ],
   "source": [
    "# Model confusion matrix model yang sudah dilakukan oversampling\n",
    "model_cm = ConfusionMatrix(\n",
    "    model_tuned_with_oversampling2)\n",
    "\n",
    "model_cm.fit(x_resampled, y_resampled)\n",
    "model_cm.score(x_resampled, y_resampled)\n",
    "model_cm.show()"
   ]
  },
  {
   "cell_type": "code",
   "execution_count": 124,
   "metadata": {},
   "outputs": [
    {
     "data": {
      "image/png": "[encoded data removed]",
      "text/plain": [
       "<Figure size 800x550 with 1 Axes>"
      ]
     },
     "metadata": {},
     "output_type": "display_data"
    },
    {
     "data": {
      "text/plain": [
       "<AxesSubplot: title={'center': 'AdaBoostClassifier Confusion Matrix'}, xlabel='Predicted Class', ylabel='True Class'>"
      ]
     },
     "execution_count": 124,
     "metadata": {},
     "output_type": "execute_result"
    }
   ],
   "source": [
    "# Model confusion matrix model yang belum dilakukan oversampling\n",
    "model_cm = ConfusionMatrix(\n",
    "    model_tuned_without_oversampling2)\n",
    "\n",
    "model_cm.fit(x_train, y_train)\n",
    "model_cm.score(x_train, y_train)\n",
    "model_cm.show()"
   ]
  },
  {
   "attachments": {},
   "cell_type": "markdown",
   "metadata": {},
   "source": [
    "Terlihat dari tabel confusion martix, **`data train pada model adaboost yang dilakukan oversampling memiliki performa true positive dan true negative lebih baik`** dibandingkan yang tidak dilakukan oversampling"
   ]
  },
  {
   "cell_type": "code",
   "execution_count": 125,
   "metadata": {},
   "outputs": [
    {
     "data": {
      "image/png": "[encoded data removed]",
      "text/plain": [
       "<Figure size 800x550 with 1 Axes>"
      ]
     },
     "metadata": {},
     "output_type": "display_data"
    },
    {
     "data": {
      "text/plain": [
       "<AxesSubplot: title={'center': 'AdaBoostClassifier Confusion Matrix'}, xlabel='Predicted Class', ylabel='True Class'>"
      ]
     },
     "execution_count": 125,
     "metadata": {},
     "output_type": "execute_result"
    }
   ],
   "source": [
    "# Model confusion matrix model yang sudah dilakukan oversampling\n",
    "test_cm = ConfusionMatrix(\n",
    "    model_tuned_with_oversampling2)\n",
    "\n",
    "test_cm.fit(x_resampled, y_resampled)\n",
    "test_cm.score(x_test, y_test)\n",
    "test_cm.show()"
   ]
  },
  {
   "cell_type": "code",
   "execution_count": 126,
   "metadata": {},
   "outputs": [
    {
     "data": {
      "image/png": "[encoded data removed]",
      "text/plain": [
       "<Figure size 800x550 with 1 Axes>"
      ]
     },
     "metadata": {},
     "output_type": "display_data"
    },
    {
     "data": {
      "text/plain": [
       "<AxesSubplot: title={'center': 'AdaBoostClassifier Confusion Matrix'}, xlabel='Predicted Class', ylabel='True Class'>"
      ]
     },
     "execution_count": 126,
     "metadata": {},
     "output_type": "execute_result"
    }
   ],
   "source": [
    "# Model confusion matrix model yang sudah dilakukan oversampling\n",
    "test_cm = ConfusionMatrix(\n",
    "    model_tuned_without_oversampling2)\n",
    "\n",
    "test_cm.fit(x_train, y_train)\n",
    "test_cm.score(x_test, y_test)\n",
    "test_cm.show()"
   ]
  },
  {
   "attachments": {},
   "cell_type": "markdown",
   "metadata": {},
   "source": [
    "**`data test pada model adaboost yang dilakukan oversampling memiliki performa true positive dan true negative lebih baik`** dibandingkan yang tidak dilakukan oversampling.\n",
    "\n",
    "secara **keseluruhan model yang dilakukan oversampling memiliki performa yang lebih baik** dibandingkan model yang tidak dilakukan oversampling\n"
   ]
  },
  {
   "cell_type": "code",
   "execution_count": 127,
   "metadata": {},
   "outputs": [
    {
     "data": {
      "text/plain": [
       "0    0.733266\n",
       "1    0.266734\n",
       "Name: Churn, dtype: float64"
      ]
     },
     "execution_count": 127,
     "metadata": {},
     "output_type": "execute_result"
    }
   ],
   "source": [
    "# Baseline\n",
    "y_test.value_counts(normalize = True)"
   ]
  },
  {
   "cell_type": "code",
   "execution_count": 128,
   "metadata": {},
   "outputs": [
    {
     "data": {
      "text/html": [
       "<div>\n",
       "<style scoped>\n",
       "    .dataframe tbody tr th:only-of-type {\n",
       "        vertical-align: middle;\n",
       "    }\n",
       "\n",
       "    .dataframe tbody tr th {\n",
       "        vertical-align: top;\n",
       "    }\n",
       "\n",
       "    .dataframe thead th {\n",
       "        text-align: right;\n",
       "    }\n",
       "</style>\n",
       "<table border=\"1\" class=\"dataframe\">\n",
       "  <thead>\n",
       "    <tr style=\"text-align: right;\">\n",
       "      <th></th>\n",
       "      <th>Baseline</th>\n",
       "      <th>Accuracy_test</th>\n",
       "      <th>Recall_train</th>\n",
       "      <th>Recall_test</th>\n",
       "      <th>Precision_train</th>\n",
       "      <th>Precision_test</th>\n",
       "    </tr>\n",
       "  </thead>\n",
       "  <tbody>\n",
       "    <tr>\n",
       "      <th>0</th>\n",
       "      <td>0.73</td>\n",
       "      <td>0.79</td>\n",
       "      <td>0.6</td>\n",
       "      <td>0.48</td>\n",
       "      <td>0.7</td>\n",
       "      <td>0.65</td>\n",
       "    </tr>\n",
       "  </tbody>\n",
       "</table>\n",
       "</div>"
      ],
      "text/plain": [
       "   Baseline  Accuracy_test  Recall_train  Recall_test  Precision_train  \\\n",
       "0      0.73           0.79           0.6         0.48              0.7   \n",
       "\n",
       "   Precision_test  \n",
       "0            0.65  "
      ]
     },
     "execution_count": 128,
     "metadata": {},
     "output_type": "execute_result"
    }
   ],
   "source": [
    "# Metrics yang belum dilakukan oversampling\n",
    "\n",
    "metrics = {'Baseline': 0.73,'Accuracy_test' :[round(accuracy_score(y_test, model_tuned_without_oversampling2.predict(x_test)), 2)],\n",
    "          'Recall_train': [round(recall_score(y_train, model_tuned_without_oversampling2.predict(x_train)), 2)],'Recall_test': [round(recall_score(y_test, model_tuned_without_oversampling2.predict(x_test)), 2)], \n",
    "          'Precision_train': [round(precision_score(y_train , model_tuned_without_oversampling2.predict(x_train)), 2)],'Precision_test': [round(precision_score(y_test, model_tuned_without_oversampling2.predict(x_test)), 2)], 'Recall_test': [round(recall_score(y_test, model_tuned_without_oversampling2.predict(x_test)), 2)], \n",
    "          }\n",
    "          \n",
    "df_metrics = pd.DataFrame(data= metrics)\n",
    "df_metrics"
   ]
  },
  {
   "cell_type": "code",
   "execution_count": 129,
   "metadata": {},
   "outputs": [
    {
     "data": {
      "text/html": [
       "<div>\n",
       "<style scoped>\n",
       "    .dataframe tbody tr th:only-of-type {\n",
       "        vertical-align: middle;\n",
       "    }\n",
       "\n",
       "    .dataframe tbody tr th {\n",
       "        vertical-align: top;\n",
       "    }\n",
       "\n",
       "    .dataframe thead th {\n",
       "        text-align: right;\n",
       "    }\n",
       "</style>\n",
       "<table border=\"1\" class=\"dataframe\">\n",
       "  <thead>\n",
       "    <tr style=\"text-align: right;\">\n",
       "      <th></th>\n",
       "      <th>Baseline</th>\n",
       "      <th>Accuracy_test</th>\n",
       "      <th>Recall_train</th>\n",
       "      <th>Recall_test</th>\n",
       "      <th>Precision_train</th>\n",
       "      <th>Precision_test</th>\n",
       "    </tr>\n",
       "  </thead>\n",
       "  <tbody>\n",
       "    <tr>\n",
       "      <th>0</th>\n",
       "      <td>0.73</td>\n",
       "      <td>0.75</td>\n",
       "      <td>0.87</td>\n",
       "      <td>0.69</td>\n",
       "      <td>0.79</td>\n",
       "      <td>0.52</td>\n",
       "    </tr>\n",
       "  </tbody>\n",
       "</table>\n",
       "</div>"
      ],
      "text/plain": [
       "   Baseline  Accuracy_test  Recall_train  Recall_test  Precision_train  \\\n",
       "0      0.73           0.75          0.87         0.69             0.79   \n",
       "\n",
       "   Precision_test  \n",
       "0            0.52  "
      ]
     },
     "execution_count": 129,
     "metadata": {},
     "output_type": "execute_result"
    }
   ],
   "source": [
    "# Metrics yang sudah dilakukan oversampling\n",
    "\n",
    "metrics = {'Baseline': 0.73,'Accuracy_test' :[round(accuracy_score(y_test, model_tuned_with_oversampling2.predict(x_test)), 2)],\n",
    "          'Recall_train': [round(recall_score(y_resampled, model_tuned_with_oversampling2.predict(x_resampled)), 2)],'Recall_test': [round(recall_score(y_test, model_tuned_with_oversampling2.predict(x_test)), 2)], \n",
    "          'Precision_train': [round(precision_score(y_resampled , model_tuned_with_oversampling2.predict(x_resampled)), 2)],'Precision_test': [round(precision_score(y_test, model_tuned_with_oversampling2.predict(x_test)), 2)], 'Recall_test': [round(recall_score(y_test, model_tuned_with_oversampling2.predict(x_test)), 2)], \n",
    "          }\n",
    "          \n",
    "df_metrics = pd.DataFrame(data= metrics)\n",
    "df_metrics"
   ]
  },
  {
   "cell_type": "code",
   "execution_count": 130,
   "metadata": {},
   "outputs": [
    {
     "name": "stdout",
     "output_type": "stream",
     "text": [
      "              precision    recall  f1-score   support\n",
      "\n",
      "           0       0.83      0.91      0.87       723\n",
      "           1       0.65      0.48      0.56       263\n",
      "\n",
      "    accuracy                           0.79       986\n",
      "   macro avg       0.74      0.70      0.71       986\n",
      "weighted avg       0.78      0.79      0.78       986\n",
      "\n"
     ]
    }
   ],
   "source": [
    "print(classification_report(y_test, model_tuned_without_oversampling2.predict(x_test))) "
   ]
  },
  {
   "cell_type": "code",
   "execution_count": 131,
   "metadata": {},
   "outputs": [
    {
     "name": "stdout",
     "output_type": "stream",
     "text": [
      "              precision    recall  f1-score   support\n",
      "\n",
      "           0       0.87      0.77      0.82       723\n",
      "           1       0.52      0.69      0.60       263\n",
      "\n",
      "    accuracy                           0.75       986\n",
      "   macro avg       0.70      0.73      0.71       986\n",
      "weighted avg       0.78      0.75      0.76       986\n",
      "\n"
     ]
    }
   ],
   "source": [
    "# Metrics by class\n",
    "print(classification_report(y_test, model_tuned_with_oversampling2.predict(x_test))) "
   ]
  },
  {
   "cell_type": "code",
   "execution_count": 132,
   "metadata": {},
   "outputs": [
    {
     "name": "stdout",
     "output_type": "stream",
     "text": [
      "              precision    recall  f1-score   support\n",
      "\n",
      "           0       0.83      0.91      0.87       723\n",
      "           1       0.68      0.49      0.57       263\n",
      "\n",
      "    accuracy                           0.80       986\n",
      "   macro avg       0.75      0.70      0.72       986\n",
      "weighted avg       0.79      0.80      0.79       986\n",
      "\n"
     ]
    }
   ],
   "source": [
    "ada_predict = AdaBoostClassifier().fit(x_train,y_train)\n",
    "print(classification_report(y_test, ada_predict.predict(x_test)))"
   ]
  },
  {
   "cell_type": "code",
   "execution_count": 133,
   "metadata": {},
   "outputs": [
    {
     "name": "stdout",
     "output_type": "stream",
     "text": [
      "              precision    recall  f1-score   support\n",
      "\n",
      "           0       0.88      0.76      0.81       723\n",
      "           1       0.52      0.73      0.61       263\n",
      "\n",
      "    accuracy                           0.75       986\n",
      "   macro avg       0.70      0.74      0.71       986\n",
      "weighted avg       0.79      0.75      0.76       986\n",
      "\n"
     ]
    }
   ],
   "source": [
    "ada_predict = AdaBoostClassifier().fit(x_resampled,y_resampled)\n",
    "print(classification_report(y_test, ada_predict.predict(x_test)))"
   ]
  },
  {
   "cell_type": "code",
   "execution_count": 134,
   "metadata": {},
   "outputs": [
    {
     "name": "stdout",
     "output_type": "stream",
     "text": [
      "ROC AUC Score Default AdaBoost without oversampling :  0.834377251523805\n",
      "ROC AUC Score Tuned AdaBoost without oversampling :  0.8245638946300007\n"
     ]
    }
   ],
   "source": [
    "y_pred_default_without_oversampling2 = ada_predict.predict(x_test)\n",
    "y_pred_proba_default_without_oversampling2 = ada_predict.predict_proba(x_test)\n",
    "y_pred_tuned_without_oversampling2 = model_tuned_without_oversampling2.predict(x_test)\n",
    "y_pred_proba_tuned_without_oversampling2 = model_tuned_without_oversampling2.predict_proba(x_test)\n",
    "\n",
    "roc_auc_default_without_oversampling2 = roc_auc_score(y_test, y_pred_proba_default_without_oversampling2[:,1])\n",
    "roc_auc_tuned_without_oversampling2 = roc_auc_score(y_test, y_pred_proba_tuned_without_oversampling2[:,1])\n",
    "\n",
    "print('ROC AUC Score Default AdaBoost without oversampling : ', roc_auc_default_without_oversampling2)\n",
    "print('ROC AUC Score Tuned AdaBoost without oversampling : ', roc_auc_tuned_without_oversampling2)"
   ]
  },
  {
   "cell_type": "code",
   "execution_count": 135,
   "metadata": {},
   "outputs": [
    {
     "name": "stdout",
     "output_type": "stream",
     "text": [
      "ROC AUC Score Default AdaBoost with oversampling :  0.834377251523805\n",
      "ROC AUC Score Tuned AdaBoost with oversampling :  0.8261600113595129\n"
     ]
    }
   ],
   "source": [
    "y_pred_default_with_oversampling2 = ada_predict.predict(x_test)\n",
    "y_pred_proba_default_with_oversampling2 = ada_predict.predict_proba(x_test)\n",
    "y_pred_tuned_with_oversampling2 = model_tuned_with_oversampling2.predict(x_test)\n",
    "y_pred_proba_tuned_with_oversampling2 = model_tuned_with_oversampling2.predict_proba(x_test)\n",
    "\n",
    "roc_auc_default_with_oversampling2 = roc_auc_score(y_test, y_pred_proba_default_with_oversampling2[:,1])\n",
    "roc_auc_tuned_with_oversampling2 = roc_auc_score(y_test, y_pred_proba_tuned_with_oversampling2[:,1])\n",
    "\n",
    "print('ROC AUC Score Default AdaBoost with oversampling : ', roc_auc_default_with_oversampling2)\n",
    "print('ROC AUC Score Tuned AdaBoost with oversampling : ', roc_auc_tuned_with_oversampling2)"
   ]
  },
  {
   "attachments": {},
   "cell_type": "markdown",
   "metadata": {},
   "source": [
    "Terlihat bahwa **`model AdaBoost`** baik yang dilakukan oversampling maupun tidak dilakukan oversampling, **`setelah dilakukan hyperparameter tuning memiliki nilai ROC AUC yang lebih baik`** walaupun hanya naik sedikit saja.\n",
    "\n",
    "Mari kita lihat juga perbandingan classification reportnya"
   ]
  },
  {
   "cell_type": "code",
   "execution_count": 136,
   "metadata": {},
   "outputs": [
    {
     "name": "stdout",
     "output_type": "stream",
     "text": [
      "Classification Report Default AdaBoost without oversampling : \n",
      "               precision    recall  f1-score   support\n",
      "\n",
      "           0       0.88      0.76      0.81       723\n",
      "           1       0.52      0.73      0.61       263\n",
      "\n",
      "    accuracy                           0.75       986\n",
      "   macro avg       0.70      0.74      0.71       986\n",
      "weighted avg       0.79      0.75      0.76       986\n",
      "\n",
      "Classification Report Tuned AdaBoost without oversampling : \n",
      "               precision    recall  f1-score   support\n",
      "\n",
      "           0       0.83      0.91      0.87       723\n",
      "           1       0.65      0.48      0.56       263\n",
      "\n",
      "    accuracy                           0.79       986\n",
      "   macro avg       0.74      0.70      0.71       986\n",
      "weighted avg       0.78      0.79      0.78       986\n",
      "\n"
     ]
    }
   ],
   "source": [
    "report_default_without_oversampling2 = classification_report(y_test, y_pred_default_without_oversampling2)\n",
    "report_tuned_without_oversampling2 = classification_report(y_test, y_pred_tuned_without_oversampling2)\n",
    "\n",
    "print('Classification Report Default AdaBoost without oversampling : \\n', report_default_without_oversampling2)\n",
    "print('Classification Report Tuned AdaBoost without oversampling : \\n', report_tuned_without_oversampling2)"
   ]
  },
  {
   "cell_type": "code",
   "execution_count": 137,
   "metadata": {},
   "outputs": [
    {
     "name": "stdout",
     "output_type": "stream",
     "text": [
      "Classification Report Default AdaBoost with oversampling : \n",
      "               precision    recall  f1-score   support\n",
      "\n",
      "           0       0.88      0.76      0.81       723\n",
      "           1       0.52      0.73      0.61       263\n",
      "\n",
      "    accuracy                           0.75       986\n",
      "   macro avg       0.70      0.74      0.71       986\n",
      "weighted avg       0.79      0.75      0.76       986\n",
      "\n",
      "Classification Report Tuned AdaBoost with oversampling : \n",
      "               precision    recall  f1-score   support\n",
      "\n",
      "           0       0.87      0.77      0.82       723\n",
      "           1       0.52      0.69      0.60       263\n",
      "\n",
      "    accuracy                           0.75       986\n",
      "   macro avg       0.70      0.73      0.71       986\n",
      "weighted avg       0.78      0.75      0.76       986\n",
      "\n"
     ]
    }
   ],
   "source": [
    "report_default_with_oversampling2 = classification_report(y_test, y_pred_default_with_oversampling2)\n",
    "report_tuned_with_oversampling2 = classification_report(y_test, y_pred_tuned_with_oversampling2)\n",
    "\n",
    "print('Classification Report Default AdaBoost with oversampling : \\n', report_default_with_oversampling2)\n",
    "print('Classification Report Tuned AdaBoost with oversampling : \\n', report_tuned_with_oversampling2)"
   ]
  },
  {
   "cell_type": "markdown",
   "metadata": {},
   "source": [
    "### Features Impportance"
   ]
  },
  {
   "cell_type": "code",
   "execution_count": 138,
   "metadata": {},
   "outputs": [
    {
     "data": {
      "image/png": "[encoded data removed]",
      "text/plain": [
       "<Figure size 800x550 with 1 Axes>"
      ]
     },
     "metadata": {},
     "output_type": "display_data"
    },
    {
     "data": {
      "text/plain": [
       "<AxesSubplot: title={'center': 'Feature Importances of 10 Features using AdaBoostClassifier'}, xlabel='relative importance'>"
      ]
     },
     "execution_count": 138,
     "metadata": {},
     "output_type": "execute_result"
    }
   ],
   "source": [
    "viz = FeatureImportances(model_tuned_with_oversampling)\n",
    "viz.fit(x_resampled, y_resampled)\n",
    "viz.show()"
   ]
  },
  {
   "cell_type": "code",
   "execution_count": 144,
   "metadata": {},
   "outputs": [
    {
     "name": "stdout",
     "output_type": "stream",
     "text": [
      "Note: you may need to restart the kernel to use updated packages.Requirement already satisfied: shap in c:\\users\\t470\\appdata\\local\\programs\\python\\python310\\lib\\site-packages (0.41.0)\n",
      "Requirement already satisfied: numba in c:\\users\\t470\\appdata\\local\\programs\\python\\python310\\lib\\site-packages (from shap) (0.56.4)\n",
      "Requirement already satisfied: scipy in c:\\users\\t470\\appdata\\local\\programs\\python\\python310\\lib\\site-packages (from shap) (1.9.3)\n",
      "Requirement already satisfied: slicer==0.0.7 in c:\\users\\t470\\appdata\\local\\programs\\python\\python310\\lib\\site-packages (from shap) (0.0.7)\n",
      "Requirement already satisfied: cloudpickle in c:\\users\\t470\\appdata\\local\\programs\\python\\python310\\lib\\site-packages (from shap) (2.2.1)\n",
      "Requirement already satisfied: numpy in c:\\users\\t470\\appdata\\local\\programs\\python\\python310\\lib\\site-packages (from shap) (1.23.4)\n",
      "Requirement already satisfied: tqdm>4.25.0 in c:\\users\\t470\\appdata\\local\\programs\\python\\python310\\lib\\site-packages (from shap) (4.64.1)\n",
      "Requirement already satisfied: scikit-learn in c:\\users\\t470\\appdata\\local\\programs\\python\\python310\\lib\\site-packages (from shap) (1.2.1)\n",
      "Requirement already satisfied: packaging>20.9 in c:\\users\\t470\\appdata\\roaming\\python\\python310\\site-packages (from shap) (21.3)\n",
      "Requirement already satisfied: pandas in c:\\users\\t470\\appdata\\local\\programs\\python\\python310\\lib\\site-packages (from shap) (1.5.2)\n",
      "Requirement already satisfied: pyparsing!=3.0.5,>=2.0.2 in c:\\users\\t470\\appdata\\roaming\\python\\python310\\site-packages (from packaging>20.9->shap) (3.0.9)\n",
      "Requirement already satisfied: colorama in c:\\users\\t470\\appdata\\roaming\\python\\python310\\site-packages (from tqdm>4.25.0->shap) (0.4.6)\n",
      "Requirement already satisfied: llvmlite<0.40,>=0.39.0dev0 in c:\\users\\t470\\appdata\\local\\programs\\python\\python310\\lib\\site-packages (from numba->shap) (0.39.1)\n",
      "Requirement already satisfied: setuptools in c:\\users\\t470\\appdata\\local\\programs\\python\\python310\\lib\\site-packages (from numba->shap) (63.2.0)\n",
      "Requirement already satisfied: python-dateutil>=2.8.1 in c:\\users\\t470\\appdata\\roaming\\python\\python310\\site-packages (from pandas->shap) (2.8.2)\n",
      "Requirement already satisfied: pytz>=2020.1 in c:\\users\\t470\\appdata\\local\\programs\\python\\python310\\lib\\site-packages (from pandas->shap) (2022.6)\n",
      "Requirement already satisfied: joblib>=1.1.1 in c:\\users\\t470\\appdata\\local\\programs\\python\\python310\\lib\\site-packages (from scikit-learn->shap) (1.2.0)\n",
      "Requirement already satisfied: threadpoolctl>=2.0.0 in c:\\users\\t470\\appdata\\local\\programs\\python\\python310\\lib\\site-packages (from scikit-learn->shap) (3.1.0)\n",
      "Requirement already satisfied: six>=1.5 in c:\\users\\t470\\appdata\\roaming\\python\\python310\\site-packages (from python-dateutil>=2.8.1->pandas->shap) (1.16.0)\n",
      "\n"
     ]
    },
    {
     "name": "stderr",
     "output_type": "stream",
     "text": [
      "\n",
      "[notice] A new release of pip available: 22.3.1 -> 23.0\n",
      "[notice] To update, run: python.exe -m pip install --upgrade pip\n"
     ]
    }
   ],
   "source": [
    "pip install shap"
   ]
  },
  {
   "cell_type": "code",
   "execution_count": 145,
   "metadata": {},
   "outputs": [],
   "source": [
    "import shap"
   ]
  },
  {
   "cell_type": "code",
   "execution_count": null,
   "metadata": {},
   "outputs": [],
   "source": []
  },
  {
   "cell_type": "code",
   "execution_count": null,
   "metadata": {},
   "outputs": [],
   "source": []
  },
  {
   "cell_type": "code",
   "execution_count": 146,
   "metadata": {},
   "outputs": [
    {
     "ename": "NameError",
     "evalue": "name 'classifier' is not defined",
     "output_type": "error",
     "traceback": [
      "\u001b[1;31m---------------------------------------------------------------------------\u001b[0m",
      "\u001b[1;31mNameError\u001b[0m                                 Traceback (most recent call last)",
      "Cell \u001b[1;32mIn [146], line 1\u001b[0m\n\u001b[1;32m----> 1\u001b[0m explainer \u001b[39m=\u001b[39m shap\u001b[39m.\u001b[39mTreeExplainer(classifier)\n\u001b[0;32m      2\u001b[0m \u001b[39m#Perhitungan SHAP value, yaitu perhitungan bagaimana setiap fitur berkontribusi kepada prediksi yang dilakukan. Saya secara acak menggambil data di row ke 1\u001b[39;00m\n\u001b[0;32m      3\u001b[0m shap_val \u001b[39m=\u001b[39m explainer\u001b[39m.\u001b[39mshap_values(x_test\u001b[39m.\u001b[39miloc[\u001b[39m1\u001b[39m])\n",
      "\u001b[1;31mNameError\u001b[0m: name 'classifier' is not defined"
     ]
    }
   ],
   "source": [
    "explainer = shap.TreeExplainer(classifier)\n",
    "#Perhitungan SHAP value, yaitu perhitungan bagaimana setiap fitur berkontribusi kepada prediksi yang dilakukan. Saya secara acak menggambil data di row ke 1\n",
    "shap_val = explainer.shap_values(x_test.iloc[1])\n",
    "#Memvisualisasikan pengaruh setiap fitur terhadap prediksi yang dilakukan. Disini dispesifikasikan untuk prediksi class 1 di row ke 1\n",
    "shap.initjs()\n",
    "shap.force_plot(explainer.expected_value[1], shap_val[1], x_test.iloc[1])"
   ]
  },
  {
   "attachments": {},
   "cell_type": "markdown",
   "metadata": {},
   "source": [
    "## **Summary: Model With Oversampling VS Model Without Oversampling**"
   ]
  },
  {
   "cell_type": "code",
   "execution_count": 139,
   "metadata": {},
   "outputs": [
    {
     "data": {
      "image/png": "[encoded data removed]",
      "text/plain": [
       "<Figure size 800x550 with 1 Axes>"
      ]
     },
     "metadata": {},
     "output_type": "display_data"
    },
    {
     "data": {
      "text/plain": [
       "<AxesSubplot: title={'center': 'AdaBoostClassifier Confusion Matrix'}, xlabel='Predicted Class', ylabel='True Class'>"
      ]
     },
     "execution_count": 139,
     "metadata": {},
     "output_type": "execute_result"
    }
   ],
   "source": [
    "# Model confusion matrix model yang sudah dilakukan oversampling\n",
    "model_cm_with_oversampling = ConfusionMatrix(\n",
    "    model_tuned_with_oversampling2)\n",
    "\n",
    "model_cm_with_oversampling.fit(x_resampled, y_resampled)\n",
    "model_cm_with_oversampling.score(x_resampled, y_resampled)\n",
    "model_cm_with_oversampling.show()"
   ]
  },
  {
   "cell_type": "code",
   "execution_count": 140,
   "metadata": {},
   "outputs": [
    {
     "data": {
      "image/png": "[encoded data removed]",
      "text/plain": [
       "<Figure size 800x550 with 1 Axes>"
      ]
     },
     "metadata": {},
     "output_type": "display_data"
    },
    {
     "data": {
      "text/plain": [
       "<AxesSubplot: title={'center': 'AdaBoostClassifier Confusion Matrix'}, xlabel='Predicted Class', ylabel='True Class'>"
      ]
     },
     "execution_count": 140,
     "metadata": {},
     "output_type": "execute_result"
    }
   ],
   "source": [
    "# Model confusion matrix model yang belum dilakukan oversampling\n",
    "model_cm_without_oversampling = ConfusionMatrix(\n",
    "    model_tuned_without_oversampling2)\n",
    "\n",
    "model_cm_without_oversampling.fit(x_train, y_train)\n",
    "model_cm_without_oversampling.score(x_train, y_train)\n",
    "model_cm_without_oversampling.show()"
   ]
  },
  {
   "cell_type": "code",
   "execution_count": 141,
   "metadata": {},
   "outputs": [
    {
     "name": "stdout",
     "output_type": "stream",
     "text": [
      "ROC AUC Score Tuned AdaBoost without oversampling :  0.8245638946300007\n",
      "ROC AUC Score Tuned AdaBoost with oversampling :  0.8261600113595129\n"
     ]
    }
   ],
   "source": [
    "print('ROC AUC Score Tuned AdaBoost without oversampling : ', roc_auc_tuned_without_oversampling2)\n",
    "print('ROC AUC Score Tuned AdaBoost with oversampling : ', roc_auc_tuned_with_oversampling2)"
   ]
  },
  {
   "cell_type": "code",
   "execution_count": 142,
   "metadata": {},
   "outputs": [
    {
     "name": "stdout",
     "output_type": "stream",
     "text": [
      "Classification Report Tuned AdaBoost without oversampling : \n",
      "               precision    recall  f1-score   support\n",
      "\n",
      "           0       0.83      0.91      0.87       723\n",
      "           1       0.65      0.48      0.56       263\n",
      "\n",
      "    accuracy                           0.79       986\n",
      "   macro avg       0.74      0.70      0.71       986\n",
      "weighted avg       0.78      0.79      0.78       986\n",
      "\n",
      "Classification Report Tuned AdaBoost with oversampling : \n",
      "               precision    recall  f1-score   support\n",
      "\n",
      "           0       0.87      0.77      0.82       723\n",
      "           1       0.52      0.69      0.60       263\n",
      "\n",
      "    accuracy                           0.75       986\n",
      "   macro avg       0.70      0.73      0.71       986\n",
      "weighted avg       0.78      0.75      0.76       986\n",
      "\n"
     ]
    }
   ],
   "source": [
    "print('Classification Report Tuned AdaBoost without oversampling : \\n', report_tuned_without_oversampling2)\n",
    "print('Classification Report Tuned AdaBoost with oversampling : \\n', report_tuned_with_oversampling2)"
   ]
  },
  {
   "attachments": {},
   "cell_type": "markdown",
   "metadata": {},
   "source": [
    "**Confusion Matrix :**\n",
    "- Pada tabel confusion matrix, terlihat bahwa `model yang sudah dilakukan over sampling memiliki performa lebih baik` dibandingkan yang belum dilakukan oversampling. dimana pada model yang telah dilakukan hyperparameter tuning + over sampling memiliki true positive dan true negative yang lebih seimbang (0 = 76%, 1 = 80%) dibandingkan model yang telah dilakukan hyperparameter tuning namun tidak dilakukan over sampling (0 = 90%, 1 = 54%).\n",
    "\n",
    "**ROC AUC :**\n",
    "- Dilihat dari nilai ROC AUC, `model yang tidak dilakukan over sampling memiliki nilai yang lebih tinggi` dibandingkan yang belum dilakukan oversampling. Namun, `perbedaannya hanya sedikit saja (0,003874)`. \n",
    "\n",
    "**Classification Report :**\n",
    "- dilihat pada classification report, `model yang dilakukan oversampling + hyperparameter tuning memiliki **nilai recall** yang lebih seimbang` dibanding model yangtidak dilakukan oversampling, namun sudah dilakukan hyperparameter tuning. Selain itu, dapat disimpulkan apabila modle yang digunakan `Tuned AdaBoost with oversampling`, untuk memfilter list pelanggan yang akan coba ditawarkan promo, maka model akan mengurangi 78% pelanggan yang tidak perlu ditawarkan promo agar tetap berlangganan dan dapat mendapatkan 71% pelanggan yang harus ditawarkan promo agar tetap berlangganan\n",
    "- Model yang dilakukan oversampling + hyperparameter tuning memiliki ketepatan prediksi pelanggan yang churn sebesar 54% (precisionnya), jadi setiap model kita memprediksi bahwa seorang kandidat itu akan meninggalkan layanan, maka kemungkinan tebakannya benar itu sebesar 54% kurang lebih. Maka masih akan ada kandidat yang sebenarnya tidak akan berhenti berlangganan (churn) tetapi diprediksi sebagai kandidat yang akan berhenti langganan (churn) sekitar 22% dari keseluruhan kandidat yang tidak tertarik (berdasarkan recall).\n",
    "\n",
    "\n",
    "Maka, dapat berdasarkan pertimbangan diatas, model **`AdaBoost yang sudah dilakukan oversampling dan hyperparameter tunning`** memiliki performa yang lebih baik dan dapat **`menjadi model akhir`**. "
   ]
  },
  {
   "attachments": {},
   "cell_type": "markdown",
   "metadata": {},
   "source": [
    "### **Rekomendasi**"
   ]
  },
  {
   "attachments": {},
   "cell_type": "markdown",
   "metadata": {},
   "source": [
    "Hal-hal yang bisa dilakukan untuk mengembangkan project dan modelnya lebih baik lagi :\n",
    "- Mengambil lebih banyak data lagi untuk meningkatkan keakuratan dan presisi dari model.\n",
    "- Mencoba algorithm ML yang lain dan juga mencoba hyperparameter tuning kembali, coba gunakan teknik oversampling yang berbeda juga selain SMOTE, seperti Random Over Sampling, SMOTEENN, dll.\n",
    "- Menambahkan fitur-fitur atau kolom baru yang kemungkinan bisa berhubungan dengan tingkat churn, seperti kecepatan rata-rata telekomunikasi, tingkat keseringan pemakaian telekomunikasi, pendapatan pelanggan, jumlah device yang digunakan, dll. \n",
    "- Melakukan deployment untuk mengetahui keakuratan dari model. \n",
    "- Menganalisa kembali data dari model yang dipilih masih salah tebak untuk mengetahui alasannya dan karakteristiknya bagaimana."
   ]
  },
  {
   "cell_type": "markdown",
   "metadata": {},
   "source": []
  }
 ],
 "metadata": {
  "kernelspec": {
   "display_name": "Python 3",
   "language": "python",
   "name": "python3"
  },
  "language_info": {
   "codemirror_mode": {
    "name": "ipython",
    "version": 3
   },
   "file_extension": ".py",
   "mimetype": "text/x-python",
   "name": "python",
   "nbconvert_exporter": "python",
   "pygments_lexer": "ipython3",
   "version": "3.10.8"
  },
  "orig_nbformat": 4,
  "vscode": {
   "interpreter": {
    "hash": "08f3de156557534518e81c7ef8c8e633307bff8361d99f74e343aa5911ce9bd1"
   }
  }
 },
 "nbformat": 4,
 "nbformat_minor": 2
}
